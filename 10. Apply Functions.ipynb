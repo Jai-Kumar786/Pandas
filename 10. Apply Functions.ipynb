{
 "cells": [
  {
   "metadata": {},
   "cell_type": "markdown",
   "source": "# Learning about .apply() is fundamental in the data cleaning process. It also encapsulates key concepts in programming, mainly writing functions. The .apply() method takes a function and applies it (i.e., runs it) across each row or column of a DataFrame without having you write the code for each element separately. ",
   "id": "ff31b91e9ff1d69d"
  },
  {
   "metadata": {},
   "cell_type": "markdown",
   "source": "# Primer on Functions",
   "id": "d2dcfd84991a0f29"
  },
  {
   "metadata": {
    "ExecuteTime": {
     "end_time": "2025-04-02T15:30:46.707916Z",
     "start_time": "2025-04-02T15:30:45.991898Z"
    }
   },
   "cell_type": "code",
   "source": [
    "import pandas as pd\n",
    "df = pd.DataFrame({\"a\": [10, 20, 30], \"b\": [20, 30, 40]})\n",
    "print(df)"
   ],
   "id": "40b79b23f153549a",
   "outputs": [
    {
     "name": "stdout",
     "output_type": "stream",
     "text": [
      "    a   b\n",
      "0  10  20\n",
      "1  20  30\n",
      "2  30  40\n"
     ]
    }
   ],
   "execution_count": 1
  },
  {
   "metadata": {
    "ExecuteTime": {
     "end_time": "2025-04-02T15:30:55.062740Z",
     "start_time": "2025-04-02T15:30:55.057567Z"
    }
   },
   "cell_type": "code",
   "source": [
    "def print_me(x):\n",
    "  print(x)"
   ],
   "id": "dbe1275a80df4a3d",
   "outputs": [],
   "execution_count": 2
  },
  {
   "metadata": {
    "ExecuteTime": {
     "end_time": "2025-04-02T15:31:12.768739Z",
     "start_time": "2025-04-02T15:31:12.757404Z"
    }
   },
   "cell_type": "code",
   "source": "df.apply(print_me, axis =0)",
   "id": "d0ae46a386be226a",
   "outputs": [
    {
     "name": "stdout",
     "output_type": "stream",
     "text": [
      "0    10\n",
      "1    20\n",
      "2    30\n",
      "Name: a, dtype: int64\n",
      "0    20\n",
      "1    30\n",
      "2    40\n",
      "Name: b, dtype: int64\n"
     ]
    },
    {
     "data": {
      "text/plain": [
       "a    None\n",
       "b    None\n",
       "dtype: object"
      ]
     },
     "execution_count": 3,
     "metadata": {},
     "output_type": "execute_result"
    }
   ],
   "execution_count": 3
  },
  {
   "metadata": {
    "ExecuteTime": {
     "end_time": "2025-04-02T15:31:39.515955Z",
     "start_time": "2025-04-02T15:31:39.510225Z"
    }
   },
   "cell_type": "code",
   "source": [
    "def avg_3(x, y, z):\n",
    "   return (x + y + z) / 3"
   ],
   "id": "2a177c2347f7d6b6",
   "outputs": [],
   "execution_count": 4
  },
  {
   "metadata": {
    "ExecuteTime": {
     "end_time": "2025-04-02T15:32:27.156195Z",
     "start_time": "2025-04-02T15:32:25.206610Z"
    }
   },
   "cell_type": "code",
   "source": [
    "# will cause an error\n",
    "print(df.apply(avg_3))"
   ],
   "id": "babbc596c370600b",
   "outputs": [
    {
     "ename": "TypeError",
     "evalue": "avg_3() missing 2 required positional arguments: 'y' and 'z'",
     "output_type": "error",
     "traceback": [
      "\u001B[1;31m---------------------------------------------------------------------------\u001B[0m",
      "\u001B[1;31mTypeError\u001B[0m                                 Traceback (most recent call last)",
      "Cell \u001B[1;32mIn[5], line 2\u001B[0m\n\u001B[0;32m      1\u001B[0m \u001B[38;5;66;03m# will cause an error\u001B[39;00m\n\u001B[1;32m----> 2\u001B[0m \u001B[38;5;28mprint\u001B[39m(df\u001B[38;5;241m.\u001B[39mapply(avg_3))\n",
      "File \u001B[1;32m~\\anaconda3\\Lib\\site-packages\\pandas\\core\\frame.py:10374\u001B[0m, in \u001B[0;36mDataFrame.apply\u001B[1;34m(self, func, axis, raw, result_type, args, by_row, engine, engine_kwargs, **kwargs)\u001B[0m\n\u001B[0;32m  10360\u001B[0m \u001B[38;5;28;01mfrom\u001B[39;00m \u001B[38;5;21;01mpandas\u001B[39;00m\u001B[38;5;21;01m.\u001B[39;00m\u001B[38;5;21;01mcore\u001B[39;00m\u001B[38;5;21;01m.\u001B[39;00m\u001B[38;5;21;01mapply\u001B[39;00m \u001B[38;5;28;01mimport\u001B[39;00m frame_apply\n\u001B[0;32m  10362\u001B[0m op \u001B[38;5;241m=\u001B[39m frame_apply(\n\u001B[0;32m  10363\u001B[0m     \u001B[38;5;28mself\u001B[39m,\n\u001B[0;32m  10364\u001B[0m     func\u001B[38;5;241m=\u001B[39mfunc,\n\u001B[1;32m   (...)\u001B[0m\n\u001B[0;32m  10372\u001B[0m     kwargs\u001B[38;5;241m=\u001B[39mkwargs,\n\u001B[0;32m  10373\u001B[0m )\n\u001B[1;32m> 10374\u001B[0m \u001B[38;5;28;01mreturn\u001B[39;00m op\u001B[38;5;241m.\u001B[39mapply()\u001B[38;5;241m.\u001B[39m__finalize__(\u001B[38;5;28mself\u001B[39m, method\u001B[38;5;241m=\u001B[39m\u001B[38;5;124m\"\u001B[39m\u001B[38;5;124mapply\u001B[39m\u001B[38;5;124m\"\u001B[39m)\n",
      "File \u001B[1;32m~\\anaconda3\\Lib\\site-packages\\pandas\\core\\apply.py:916\u001B[0m, in \u001B[0;36mFrameApply.apply\u001B[1;34m(self)\u001B[0m\n\u001B[0;32m    913\u001B[0m \u001B[38;5;28;01melif\u001B[39;00m \u001B[38;5;28mself\u001B[39m\u001B[38;5;241m.\u001B[39mraw:\n\u001B[0;32m    914\u001B[0m     \u001B[38;5;28;01mreturn\u001B[39;00m \u001B[38;5;28mself\u001B[39m\u001B[38;5;241m.\u001B[39mapply_raw(engine\u001B[38;5;241m=\u001B[39m\u001B[38;5;28mself\u001B[39m\u001B[38;5;241m.\u001B[39mengine, engine_kwargs\u001B[38;5;241m=\u001B[39m\u001B[38;5;28mself\u001B[39m\u001B[38;5;241m.\u001B[39mengine_kwargs)\n\u001B[1;32m--> 916\u001B[0m \u001B[38;5;28;01mreturn\u001B[39;00m \u001B[38;5;28mself\u001B[39m\u001B[38;5;241m.\u001B[39mapply_standard()\n",
      "File \u001B[1;32m~\\anaconda3\\Lib\\site-packages\\pandas\\core\\apply.py:1063\u001B[0m, in \u001B[0;36mFrameApply.apply_standard\u001B[1;34m(self)\u001B[0m\n\u001B[0;32m   1061\u001B[0m \u001B[38;5;28;01mdef\u001B[39;00m \u001B[38;5;21mapply_standard\u001B[39m(\u001B[38;5;28mself\u001B[39m):\n\u001B[0;32m   1062\u001B[0m     \u001B[38;5;28;01mif\u001B[39;00m \u001B[38;5;28mself\u001B[39m\u001B[38;5;241m.\u001B[39mengine \u001B[38;5;241m==\u001B[39m \u001B[38;5;124m\"\u001B[39m\u001B[38;5;124mpython\u001B[39m\u001B[38;5;124m\"\u001B[39m:\n\u001B[1;32m-> 1063\u001B[0m         results, res_index \u001B[38;5;241m=\u001B[39m \u001B[38;5;28mself\u001B[39m\u001B[38;5;241m.\u001B[39mapply_series_generator()\n\u001B[0;32m   1064\u001B[0m     \u001B[38;5;28;01melse\u001B[39;00m:\n\u001B[0;32m   1065\u001B[0m         results, res_index \u001B[38;5;241m=\u001B[39m \u001B[38;5;28mself\u001B[39m\u001B[38;5;241m.\u001B[39mapply_series_numba()\n",
      "File \u001B[1;32m~\\anaconda3\\Lib\\site-packages\\pandas\\core\\apply.py:1081\u001B[0m, in \u001B[0;36mFrameApply.apply_series_generator\u001B[1;34m(self)\u001B[0m\n\u001B[0;32m   1078\u001B[0m \u001B[38;5;28;01mwith\u001B[39;00m option_context(\u001B[38;5;124m\"\u001B[39m\u001B[38;5;124mmode.chained_assignment\u001B[39m\u001B[38;5;124m\"\u001B[39m, \u001B[38;5;28;01mNone\u001B[39;00m):\n\u001B[0;32m   1079\u001B[0m     \u001B[38;5;28;01mfor\u001B[39;00m i, v \u001B[38;5;129;01min\u001B[39;00m \u001B[38;5;28menumerate\u001B[39m(series_gen):\n\u001B[0;32m   1080\u001B[0m         \u001B[38;5;66;03m# ignore SettingWithCopy here in case the user mutates\u001B[39;00m\n\u001B[1;32m-> 1081\u001B[0m         results[i] \u001B[38;5;241m=\u001B[39m \u001B[38;5;28mself\u001B[39m\u001B[38;5;241m.\u001B[39mfunc(v, \u001B[38;5;241m*\u001B[39m\u001B[38;5;28mself\u001B[39m\u001B[38;5;241m.\u001B[39margs, \u001B[38;5;241m*\u001B[39m\u001B[38;5;241m*\u001B[39m\u001B[38;5;28mself\u001B[39m\u001B[38;5;241m.\u001B[39mkwargs)\n\u001B[0;32m   1082\u001B[0m         \u001B[38;5;28;01mif\u001B[39;00m \u001B[38;5;28misinstance\u001B[39m(results[i], ABCSeries):\n\u001B[0;32m   1083\u001B[0m             \u001B[38;5;66;03m# If we have a view on v, we need to make a copy because\u001B[39;00m\n\u001B[0;32m   1084\u001B[0m             \u001B[38;5;66;03m#  series_generator will swap out the underlying data\u001B[39;00m\n\u001B[0;32m   1085\u001B[0m             results[i] \u001B[38;5;241m=\u001B[39m results[i]\u001B[38;5;241m.\u001B[39mcopy(deep\u001B[38;5;241m=\u001B[39m\u001B[38;5;28;01mFalse\u001B[39;00m)\n",
      "\u001B[1;31mTypeError\u001B[0m: avg_3() missing 2 required positional arguments: 'y' and 'z'"
     ]
    }
   ],
   "execution_count": 5
  },
  {
   "metadata": {
    "ExecuteTime": {
     "end_time": "2025-04-02T15:33:33.949267Z",
     "start_time": "2025-04-02T15:33:33.941919Z"
    }
   },
   "cell_type": "code",
   "source": [
    "def avg_3_apply(col):\n",
    "  \n",
    "\n",
    "   x = col[0]\n",
    "   y = col[1]\n",
    "   z = col[2]\n",
    "   return (x + y + z) / 3\n",
    "print(df.apply(avg_3_apply))"
   ],
   "id": "fe645460ca252c58",
   "outputs": [
    {
     "name": "stdout",
     "output_type": "stream",
     "text": [
      "a    20.0\n",
      "b    30.0\n",
      "dtype: float64\n"
     ]
    }
   ],
   "execution_count": 7
  },
  {
   "metadata": {
    "ExecuteTime": {
     "end_time": "2025-04-02T15:36:13.936458Z",
     "start_time": "2025-04-02T15:36:13.930570Z"
    }
   },
   "cell_type": "code",
   "source": [
    "def avg_2_apply(row):\n",
    "  \"\"\"Taking the average of row value.\n",
    "  Assuming that there are only 2 values in a row.\n",
    "  \"\"\"\n",
    "\n",
    "  x = row[0]\n",
    "  y = row[1]\n",
    "  return (x + y) / 2\n",
    "\n",
    "print(df.apply(avg_2_apply, axis =0))"
   ],
   "id": "6027eb52a784ae6a",
   "outputs": [
    {
     "name": "stdout",
     "output_type": "stream",
     "text": [
      "a    15.0\n",
      "b    25.0\n",
      "dtype: float64\n"
     ]
    }
   ],
   "execution_count": 8
  },
  {
   "metadata": {},
   "cell_type": "markdown",
   "source": "# Vectorized Functions",
   "id": "9d67b8a81b2af87f"
  },
  {
   "metadata": {},
   "cell_type": "markdown",
   "source": "# When we use .apply(), we are able to make a function work on a column-by-column or row-by-row basis. In the previous section, Section 5.2, we had to rewrite our function when we wanted to apply it because the entire column or row was passed into the first parameter of the function. However, there might be times when it is not feasible to rewrite a function in this way. We can leverage the .vectorize() function and decorator to vectorize any function. Vectorizing your code can also lead to performance gains",
   "id": "df3babeefc20b1cf"
  },
  {
   "metadata": {
    "ExecuteTime": {
     "end_time": "2025-04-02T15:38:47.032529Z",
     "start_time": "2025-04-02T15:38:47.024651Z"
    }
   },
   "cell_type": "code",
   "source": [
    "df = pd.DataFrame({\"a\": [10, 20, 30], \"b\": [20, 30, 40]})\n",
    "print(df)"
   ],
   "id": "eb099609ad55f7d",
   "outputs": [
    {
     "name": "stdout",
     "output_type": "stream",
     "text": [
      "    a   b\n",
      "0  10  20\n",
      "1  20  30\n",
      "2  30  40\n"
     ]
    }
   ],
   "execution_count": 9
  },
  {
   "metadata": {
    "ExecuteTime": {
     "end_time": "2025-04-02T15:38:59.249905Z",
     "start_time": "2025-04-02T15:38:59.245858Z"
    }
   },
   "cell_type": "code",
   "source": [
    "def avg_2(x, y):\n",
    "  return (x + y) / 2"
   ],
   "id": "590eb5a04840deeb",
   "outputs": [],
   "execution_count": 10
  },
  {
   "metadata": {
    "ExecuteTime": {
     "end_time": "2025-04-02T15:39:11.283522Z",
     "start_time": "2025-04-02T15:39:11.277506Z"
    }
   },
   "cell_type": "code",
   "source": "print(avg_2(df['a'], df['b']))",
   "id": "7082a1b7ffcb3ab3",
   "outputs": [
    {
     "name": "stdout",
     "output_type": "stream",
     "text": [
      "0    15.0\n",
      "1    25.0\n",
      "2    35.0\n",
      "dtype: float64\n"
     ]
    }
   ],
   "execution_count": 11
  },
  {
   "metadata": {
    "ExecuteTime": {
     "end_time": "2025-04-02T15:45:17.318638Z",
     "start_time": "2025-04-02T15:45:17.313583Z"
    }
   },
   "cell_type": "code",
   "source": [
    "import numpy as np\n",
    "\n",
    "def avg_2_mod(x, y):\n",
    "   \"\"\"Calculate the average, unless x is 20\n",
    "   If the value is 20, return a missing value\n",
    "   \"\"\"\n",
    "   if (x == 20):\n",
    "     return(np.NaN)\n",
    "   else:\n",
    "     return (x + y) / 2"
   ],
   "id": "8d0546a3dd4ed3e8",
   "outputs": [],
   "execution_count": 12
  },
  {
   "metadata": {
    "ExecuteTime": {
     "end_time": "2025-04-02T15:45:22.165532Z",
     "start_time": "2025-04-02T15:45:22.140890Z"
    }
   },
   "cell_type": "code",
   "source": [
    "# will cause an error\n",
    "print(avg_2_mod(df['a'], df['b']))"
   ],
   "id": "4217de2d5949c3ec",
   "outputs": [
    {
     "ename": "ValueError",
     "evalue": "The truth value of a Series is ambiguous. Use a.empty, a.bool(), a.item(), a.any() or a.all().",
     "output_type": "error",
     "traceback": [
      "\u001B[1;31m---------------------------------------------------------------------------\u001B[0m",
      "\u001B[1;31mValueError\u001B[0m                                Traceback (most recent call last)",
      "\u001B[1;32m~\\AppData\\Local\\Temp\\ipykernel_19992\\4070452578.py\u001B[0m in \u001B[0;36m?\u001B[1;34m()\u001B[0m\n\u001B[0;32m      1\u001B[0m \u001B[1;31m# will cause an error\u001B[0m\u001B[1;33m\u001B[0m\u001B[1;33m\u001B[0m\u001B[0m\n\u001B[1;32m----> 2\u001B[1;33m \u001B[0mprint\u001B[0m\u001B[1;33m(\u001B[0m\u001B[0mavg_2_mod\u001B[0m\u001B[1;33m(\u001B[0m\u001B[0mdf\u001B[0m\u001B[1;33m[\u001B[0m\u001B[1;34m'a'\u001B[0m\u001B[1;33m]\u001B[0m\u001B[1;33m,\u001B[0m \u001B[0mdf\u001B[0m\u001B[1;33m[\u001B[0m\u001B[1;34m'b'\u001B[0m\u001B[1;33m]\u001B[0m\u001B[1;33m)\u001B[0m\u001B[1;33m)\u001B[0m\u001B[1;33m\u001B[0m\u001B[1;33m\u001B[0m\u001B[0m\n\u001B[0m",
      "\u001B[1;32m~\\AppData\\Local\\Temp\\ipykernel_19992\\2903150067.py\u001B[0m in \u001B[0;36m?\u001B[1;34m(x, y)\u001B[0m\n\u001B[0;32m      3\u001B[0m \u001B[1;32mdef\u001B[0m \u001B[0mavg_2_mod\u001B[0m\u001B[1;33m(\u001B[0m\u001B[0mx\u001B[0m\u001B[1;33m,\u001B[0m \u001B[0my\u001B[0m\u001B[1;33m)\u001B[0m\u001B[1;33m:\u001B[0m\u001B[1;33m\u001B[0m\u001B[1;33m\u001B[0m\u001B[0m\n\u001B[0;32m      4\u001B[0m    \"\"\"Calculate the average, unless x is 20\n\u001B[0;32m      5\u001B[0m    \u001B[0mIf\u001B[0m \u001B[0mthe\u001B[0m \u001B[0mvalue\u001B[0m \u001B[1;32mis\u001B[0m \u001B[1;36m20\u001B[0m\u001B[1;33m,\u001B[0m \u001B[1;32mreturn\u001B[0m \u001B[0ma\u001B[0m \u001B[0mmissing\u001B[0m \u001B[0mvalue\u001B[0m\u001B[1;33m\u001B[0m\u001B[1;33m\u001B[0m\u001B[0m\n\u001B[0;32m      6\u001B[0m    \"\"\"\n\u001B[1;32m----> 7\u001B[1;33m    \u001B[1;32mif\u001B[0m \u001B[1;33m(\u001B[0m\u001B[0mx\u001B[0m \u001B[1;33m==\u001B[0m \u001B[1;36m20\u001B[0m\u001B[1;33m)\u001B[0m\u001B[1;33m:\u001B[0m\u001B[1;33m\u001B[0m\u001B[1;33m\u001B[0m\u001B[0m\n\u001B[0m\u001B[0;32m      8\u001B[0m      \u001B[1;32mreturn\u001B[0m\u001B[1;33m(\u001B[0m\u001B[0mnp\u001B[0m\u001B[1;33m.\u001B[0m\u001B[0mNaN\u001B[0m\u001B[1;33m)\u001B[0m\u001B[1;33m\u001B[0m\u001B[1;33m\u001B[0m\u001B[0m\n\u001B[0;32m      9\u001B[0m    \u001B[1;32melse\u001B[0m\u001B[1;33m:\u001B[0m\u001B[1;33m\u001B[0m\u001B[1;33m\u001B[0m\u001B[0m\n\u001B[0;32m     10\u001B[0m      \u001B[1;32mreturn\u001B[0m \u001B[1;33m(\u001B[0m\u001B[0mx\u001B[0m \u001B[1;33m+\u001B[0m \u001B[0my\u001B[0m\u001B[1;33m)\u001B[0m \u001B[1;33m/\u001B[0m \u001B[1;36m2\u001B[0m\u001B[1;33m\u001B[0m\u001B[1;33m\u001B[0m\u001B[0m\n",
      "\u001B[1;32m~\\anaconda3\\Lib\\site-packages\\pandas\\core\\generic.py\u001B[0m in \u001B[0;36m?\u001B[1;34m(self)\u001B[0m\n\u001B[0;32m   1575\u001B[0m     \u001B[1;33m@\u001B[0m\u001B[0mfinal\u001B[0m\u001B[1;33m\u001B[0m\u001B[1;33m\u001B[0m\u001B[0m\n\u001B[0;32m   1576\u001B[0m     \u001B[1;32mdef\u001B[0m \u001B[0m__nonzero__\u001B[0m\u001B[1;33m(\u001B[0m\u001B[0mself\u001B[0m\u001B[1;33m)\u001B[0m \u001B[1;33m->\u001B[0m \u001B[0mNoReturn\u001B[0m\u001B[1;33m:\u001B[0m\u001B[1;33m\u001B[0m\u001B[1;33m\u001B[0m\u001B[0m\n\u001B[1;32m-> 1577\u001B[1;33m         raise ValueError(\n\u001B[0m\u001B[0;32m   1578\u001B[0m             \u001B[1;33mf\"\u001B[0m\u001B[1;33mThe truth value of a \u001B[0m\u001B[1;33m{\u001B[0m\u001B[0mtype\u001B[0m\u001B[1;33m(\u001B[0m\u001B[0mself\u001B[0m\u001B[1;33m)\u001B[0m\u001B[1;33m.\u001B[0m\u001B[0m__name__\u001B[0m\u001B[1;33m}\u001B[0m\u001B[1;33m is ambiguous. \u001B[0m\u001B[1;33m\"\u001B[0m\u001B[1;33m\u001B[0m\u001B[1;33m\u001B[0m\u001B[0m\n\u001B[0;32m   1579\u001B[0m             \u001B[1;34m\"Use a.empty, a.bool(), a.item(), a.any() or a.all().\"\u001B[0m\u001B[1;33m\u001B[0m\u001B[1;33m\u001B[0m\u001B[0m\n\u001B[0;32m   1580\u001B[0m         \u001B[1;33m)\u001B[0m\u001B[1;33m\u001B[0m\u001B[1;33m\u001B[0m\u001B[0m\n",
      "\u001B[1;31mValueError\u001B[0m: The truth value of a Series is ambiguous. Use a.empty, a.bool(), a.item(), a.any() or a.all()."
     ]
    }
   ],
   "execution_count": 13
  },
  {
   "metadata": {
    "ExecuteTime": {
     "end_time": "2025-04-02T15:45:40.846902Z",
     "start_time": "2025-04-02T15:45:40.841330Z"
    }
   },
   "cell_type": "code",
   "source": "print(avg_2_mod(10, 20))",
   "id": "526b2e008bc7bf05",
   "outputs": [
    {
     "name": "stdout",
     "output_type": "stream",
     "text": [
      "15.0\n"
     ]
    }
   ],
   "execution_count": 14
  },
  {
   "metadata": {},
   "cell_type": "markdown",
   "source": "# Vectorize with NumPy",
   "id": "9ff61dd9475dbee9"
  },
  {
   "metadata": {
    "ExecuteTime": {
     "end_time": "2025-04-02T15:48:08.605476Z",
     "start_time": "2025-04-02T15:48:08.600616Z"
    }
   },
   "cell_type": "code",
   "source": [
    "\n",
    "\n",
    "# np.vectorize actually creates a new function\n",
    "avg_2_mod_vec = np.vectorize(avg_2_mod)\n",
    "\n",
    "# use the newly vectorized function\n",
    "print(avg_2_mod_vec(df['a'], df['b']))"
   ],
   "id": "fa8d16a55e371d5a",
   "outputs": [
    {
     "name": "stdout",
     "output_type": "stream",
     "text": [
      "[15. nan 35.]\n"
     ]
    }
   ],
   "execution_count": 15
  },
  {
   "metadata": {},
   "cell_type": "markdown",
   "source": "This method works well if you do not have the source code for an existing function. However, if you are writing your own function, you can use a Python decorator to automatically vectorize the function without having to create a new function. A decorator is a function that takes another function as input, and modifies how that function’s output behaves.",
   "id": "74247e89f26d07f8"
  },
  {
   "metadata": {
    "ExecuteTime": {
     "end_time": "2025-04-02T15:49:19.886637Z",
     "start_time": "2025-04-02T15:49:19.879492Z"
    }
   },
   "cell_type": "code",
   "source": [
    "# to use the vectorize decorator\n",
    "# we use the @ symbol before our function definition\n",
    "@np.vectorize\n",
    "def v_avg_2_mod(x, y):\n",
    "  \"\"\"Calculate the average, unless x is 20\n",
    "  Same as before, but we are using the vectorize decorator\n",
    "  \"\"\"\n",
    "\n",
    "  if (x == 20):\n",
    "      return(np.NaN)\n",
    "  else:\n",
    "    return (x + y) / 2\n",
    "\n",
    "# we can then directly use the vectorized function\n",
    "# without having to create a new function\n",
    "print(v_avg_2_mod(df['a'], df['b']))"
   ],
   "id": "87204f4d38b9a9fb",
   "outputs": [
    {
     "name": "stdout",
     "output_type": "stream",
     "text": [
      "[15. nan 35.]\n"
     ]
    }
   ],
   "execution_count": 16
  },
  {
   "metadata": {},
   "cell_type": "markdown",
   "source": "# Vectorize with Numba",
   "id": "b25f853b8bf10ad9"
  },
  {
   "metadata": {
    "ExecuteTime": {
     "end_time": "2025-04-02T15:50:11.111911Z",
     "start_time": "2025-04-02T15:50:10.211702Z"
    }
   },
   "cell_type": "code",
   "source": [
    "import numba\n",
    "\n",
    "@numba.vectorize\n",
    "def v_avg_2_numba(x, y):\n",
    "  \"\"\"Calculate the average, unless x is 20\n",
    "  Using the numba decorator.\n",
    "  \"\"\"\n",
    "  # we now have to add type information to our function\n",
    "  if (int(x) == 20):\n",
    "    return(np.NaN)\n",
    "  else:\n",
    "    return (x + y) / 2"
   ],
   "id": "8089b2820c0c950e",
   "outputs": [],
   "execution_count": 17
  },
  {
   "metadata": {
    "ExecuteTime": {
     "end_time": "2025-04-02T15:50:22.520351Z",
     "start_time": "2025-04-02T15:50:21.418337Z"
    }
   },
   "cell_type": "code",
   "source": "print(v_avg_2_numba(df['a'], df['b']))",
   "id": "5188382ce966291e",
   "outputs": [
    {
     "name": "stdout",
     "output_type": "stream",
     "text": [
      "0    15.0\n",
      "1     NaN\n",
      "2    35.0\n",
      "dtype: float64\n"
     ]
    }
   ],
   "execution_count": 18
  },
  {
   "metadata": {
    "ExecuteTime": {
     "end_time": "2025-04-02T15:54:10.373203Z",
     "start_time": "2025-04-02T15:54:10.366683Z"
    }
   },
   "cell_type": "code",
   "source": [
    "# passing in the numpy array\n",
    "print(v_avg_2_numba(df['a'].values, df['b'].values))"
   ],
   "id": "53a57345af9f1820",
   "outputs": [
    {
     "name": "stdout",
     "output_type": "stream",
     "text": [
      "[15. nan 35.]\n"
     ]
    }
   ],
   "execution_count": 19
  },
  {
   "metadata": {},
   "cell_type": "markdown",
   "source": "# Lambda Functions (Anonymous Functions)",
   "id": "8cb943ee376fd253"
  },
  {
   "metadata": {
    "ExecuteTime": {
     "end_time": "2025-04-02T15:54:42.851202Z",
     "start_time": "2025-04-02T15:54:42.843884Z"
    }
   },
   "cell_type": "code",
   "source": [
    "df = pd.DataFrame({'a': [10, 20, 30],\n",
    "                   'b': [20, 30, 40]})\n",
    "print(df)"
   ],
   "id": "59d9beb55235d2d3",
   "outputs": [
    {
     "name": "stdout",
     "output_type": "stream",
     "text": [
      "    a   b\n",
      "0  10  20\n",
      "1  20  30\n",
      "2  30  40\n"
     ]
    }
   ],
   "execution_count": 20
  },
  {
   "metadata": {
    "ExecuteTime": {
     "end_time": "2025-04-02T15:54:55.764588Z",
     "start_time": "2025-04-02T15:54:55.757457Z"
    }
   },
   "cell_type": "code",
   "source": [
    "def my_sq(x):\n",
    "  return x ** 2\n",
    "\n",
    "df['a_sq'] = df['a'].apply(my_sq)\n",
    "print(df)"
   ],
   "id": "f0885459c7d1e4fa",
   "outputs": [
    {
     "name": "stdout",
     "output_type": "stream",
     "text": [
      "    a   b  a_sq\n",
      "0  10  20   100\n",
      "1  20  30   400\n",
      "2  30  40   900\n"
     ]
    }
   ],
   "execution_count": 21
  },
  {
   "metadata": {
    "ExecuteTime": {
     "end_time": "2025-04-02T15:56:25.795799Z",
     "start_time": "2025-04-02T15:56:25.787693Z"
    }
   },
   "cell_type": "code",
   "source": [
    "df['a_sq_lamb'] = df['a'].apply(lambda x: x ** 2)\n",
    "print(df)"
   ],
   "id": "d5513c4d169332e1",
   "outputs": [
    {
     "name": "stdout",
     "output_type": "stream",
     "text": [
      "    a   b  a_sq  a_sq_lamb\n",
      "0  10  20   100        100\n",
      "1  20  30   400        400\n",
      "2  30  40   900        900\n"
     ]
    }
   ],
   "execution_count": 22
  },
  {
   "metadata": {},
   "cell_type": "code",
   "outputs": [],
   "execution_count": null,
   "source": "",
   "id": "7dbabff4483cc761"
  }
 ],
 "metadata": {
  "kernelspec": {
   "display_name": "Python 3",
   "language": "python",
   "name": "python3"
  },
  "language_info": {
   "codemirror_mode": {
    "name": "ipython",
    "version": 2
   },
   "file_extension": ".py",
   "mimetype": "text/x-python",
   "name": "python",
   "nbconvert_exporter": "python",
   "pygments_lexer": "ipython2",
   "version": "2.7.6"
  }
 },
 "nbformat": 4,
 "nbformat_minor": 5
}
