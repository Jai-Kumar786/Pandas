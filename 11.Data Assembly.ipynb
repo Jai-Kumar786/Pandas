{
 "cells": [
  {
   "metadata": {},
   "cell_type": "markdown",
   "source": [
    "\n",
    "#  Identify when needs to be combined\n",
    "#  Identify whether data needs to be concatenated or joined together\n",
    "#  Use the appropriate function or methods to combine multiple data sets\n",
    "#  Produce a single data set from multiple files\n",
    "#  Assess whether data was joined properly"
   ],
   "id": "50fb26e7fecdcd98"
  },
  {
   "metadata": {},
   "cell_type": "markdown",
   "source": "# Concatenation",
   "id": "4ca1c78e2cb5cbe4"
  },
  {
   "metadata": {
    "ExecuteTime": {
     "end_time": "2025-04-02T16:44:20.454882Z",
     "start_time": "2025-04-02T16:44:20.433368Z"
    }
   },
   "cell_type": "code",
   "source": [
    "import pandas as pd\n",
    "\n",
    "df1 = pd.read_csv('concat_1.csv')\n",
    "df2 = pd.read_csv('concat_2.csv')\n",
    "df3 = pd.read_csv('concat_3.csv')\n",
    "print(df1)\n",
    "print(df2)\n",
    "print(df3)"
   ],
   "id": "9d0d0186a564fd50",
   "outputs": [
    {
     "name": "stdout",
     "output_type": "stream",
     "text": [
      "    A   B   C   D\n",
      "0  a0  b0  c0  d0\n",
      "1  a1  b1  c1  d1\n",
      "2  a2  b2  c2  d2\n",
      "3  a3  b3  c3  d3\n",
      "    A   B   C   D\n",
      "0  a4  b4  c4  d4\n",
      "1  a5  b5  c5  d5\n",
      "2  a6  b6  c6  d6\n",
      "3  a7  b7  c7  d7\n",
      "     A    B    C    D\n",
      "0   a8   b8   c8   d8\n",
      "1   a9   b9   c9   d9\n",
      "2  a10  b10  c10  d10\n",
      "3  a11  b11  c11  d11\n"
     ]
    }
   ],
   "execution_count": 2
  },
  {
   "metadata": {},
   "cell_type": "markdown",
   "source": "# Add Rows",
   "id": "7eead28e01b2c247"
  },
  {
   "metadata": {
    "ExecuteTime": {
     "end_time": "2025-04-02T16:45:27.494640Z",
     "start_time": "2025-04-02T16:45:27.487025Z"
    }
   },
   "cell_type": "code",
   "source": [
    "row_concat = pd.concat([df1, df2, df3])\n",
    "print(row_concat)"
   ],
   "id": "89b76b56c33e26f4",
   "outputs": [
    {
     "name": "stdout",
     "output_type": "stream",
     "text": [
      "     A    B    C    D\n",
      "0   a0   b0   c0   d0\n",
      "1   a1   b1   c1   d1\n",
      "2   a2   b2   c2   d2\n",
      "3   a3   b3   c3   d3\n",
      "0   a4   b4   c4   d4\n",
      "1   a5   b5   c5   d5\n",
      "2   a6   b6   c6   d6\n",
      "3   a7   b7   c7   d7\n",
      "0   a8   b8   c8   d8\n",
      "1   a9   b9   c9   d9\n",
      "2  a10  b10  c10  d10\n",
      "3  a11  b11  c11  d11\n"
     ]
    }
   ],
   "execution_count": 3
  },
  {
   "metadata": {
    "ExecuteTime": {
     "end_time": "2025-04-02T16:46:34.931471Z",
     "start_time": "2025-04-02T16:46:34.925849Z"
    }
   },
   "cell_type": "code",
   "source": [
    "# subset the fourth row of the concatenated dataframe\n",
    "print(row_concat.iloc[3, :])"
   ],
   "id": "7926c51faa9bd512",
   "outputs": [
    {
     "name": "stdout",
     "output_type": "stream",
     "text": [
      "A    a3\n",
      "B    b3\n",
      "C    c3\n",
      "D    d3\n",
      "Name: 3, dtype: object\n"
     ]
    }
   ],
   "execution_count": 4
  },
  {
   "metadata": {
    "ExecuteTime": {
     "end_time": "2025-04-02T16:47:17.202958Z",
     "start_time": "2025-04-02T16:47:17.197490Z"
    }
   },
   "cell_type": "code",
   "source": [
    "# create a new row of data\n",
    "new_row_series = pd.Series(['n1', 'n2', 'n3', 'n4'])\n",
    "print(new_row_series)"
   ],
   "id": "8fc30e8e3176c718",
   "outputs": [
    {
     "name": "stdout",
     "output_type": "stream",
     "text": [
      "0    n1\n",
      "1    n2\n",
      "2    n3\n",
      "3    n4\n",
      "dtype: object\n"
     ]
    }
   ],
   "execution_count": 5
  },
  {
   "metadata": {
    "ExecuteTime": {
     "end_time": "2025-04-02T16:47:30.657684Z",
     "start_time": "2025-04-02T16:47:30.647133Z"
    }
   },
   "cell_type": "code",
   "source": [
    "# attempt to add the new row to a dataframe\n",
    "print(pd.concat([df1, new_row_series]))"
   ],
   "id": "614b4ba3354b657e",
   "outputs": [
    {
     "name": "stdout",
     "output_type": "stream",
     "text": [
      "     A    B    C    D    0\n",
      "0   a0   b0   c0   d0  NaN\n",
      "1   a1   b1   c1   d1  NaN\n",
      "2   a2   b2   c2   d2  NaN\n",
      "3   a3   b3   c3   d3  NaN\n",
      "0  NaN  NaN  NaN  NaN   n1\n",
      "1  NaN  NaN  NaN  NaN   n2\n",
      "2  NaN  NaN  NaN  NaN   n3\n",
      "3  NaN  NaN  NaN  NaN   n4\n"
     ]
    }
   ],
   "execution_count": 6
  },
  {
   "metadata": {
    "ExecuteTime": {
     "end_time": "2025-04-02T16:48:09.004384Z",
     "start_time": "2025-04-02T16:48:08.993352Z"
    }
   },
   "cell_type": "code",
   "source": [
    "new_row_df = pd.DataFrame(\n",
    "  # note the double brackets to create a \"row\" of data\n",
    "  data =[[\"n1\", \"n2\", \"n3\", \"n4\"]],\n",
    "  columns =[\"A\", \"B\", \"C\", \"D\"],\n",
    ")\n",
    "\n",
    "print(new_row_df)"
   ],
   "id": "a04fb9e4c9cce88f",
   "outputs": [
    {
     "name": "stdout",
     "output_type": "stream",
     "text": [
      "    A   B   C   D\n",
      "0  n1  n2  n3  n4\n"
     ]
    }
   ],
   "execution_count": 7
  },
  {
   "metadata": {
    "ExecuteTime": {
     "end_time": "2025-04-02T16:48:18.722459Z",
     "start_time": "2025-04-02T16:48:18.715390Z"
    }
   },
   "cell_type": "code",
   "source": [
    "# concatenate the row of data\n",
    "print(pd.concat([df1, new_row_df]))"
   ],
   "id": "f051a6f50ac72f90",
   "outputs": [
    {
     "name": "stdout",
     "output_type": "stream",
     "text": [
      "    A   B   C   D\n",
      "0  a0  b0  c0  d0\n",
      "1  a1  b1  c1  d1\n",
      "2  a2  b2  c2  d2\n",
      "3  a3  b3  c3  d3\n",
      "0  n1  n2  n3  n4\n"
     ]
    }
   ],
   "execution_count": 8
  },
  {
   "metadata": {},
   "cell_type": "markdown",
   "source": "# Ignore the Index",
   "id": "508680769363700d"
  },
  {
   "metadata": {
    "ExecuteTime": {
     "end_time": "2025-04-02T16:49:10.093058Z",
     "start_time": "2025-04-02T16:49:10.085930Z"
    }
   },
   "cell_type": "code",
   "source": [
    "row_concat_i = pd.concat([df1, df2, df3], ignore_index=True)\n",
    "print(row_concat_i)"
   ],
   "id": "b5dba64c172fab20",
   "outputs": [
    {
     "name": "stdout",
     "output_type": "stream",
     "text": [
      "      A    B    C    D\n",
      "0    a0   b0   c0   d0\n",
      "1    a1   b1   c1   d1\n",
      "2    a2   b2   c2   d2\n",
      "3    a3   b3   c3   d3\n",
      "4    a4   b4   c4   d4\n",
      "5    a5   b5   c5   d5\n",
      "6    a6   b6   c6   d6\n",
      "7    a7   b7   c7   d7\n",
      "8    a8   b8   c8   d8\n",
      "9    a9   b9   c9   d9\n",
      "10  a10  b10  c10  d10\n",
      "11  a11  b11  c11  d11\n"
     ]
    }
   ],
   "execution_count": 9
  },
  {
   "metadata": {},
   "cell_type": "markdown",
   "source": "# Add Columns",
   "id": "96c0add937e48222"
  },
  {
   "metadata": {
    "ExecuteTime": {
     "end_time": "2025-04-02T16:49:36.803704Z",
     "start_time": "2025-04-02T16:49:36.794148Z"
    }
   },
   "cell_type": "code",
   "source": [
    "col_concat = pd.concat([df1, df2, df3], axis=\"columns\")\n",
    "print(col_concat)"
   ],
   "id": "766483eaa9d104cb",
   "outputs": [
    {
     "name": "stdout",
     "output_type": "stream",
     "text": [
      "    A   B   C   D   A   B   C   D    A    B    C    D\n",
      "0  a0  b0  c0  d0  a4  b4  c4  d4   a8   b8   c8   d8\n",
      "1  a1  b1  c1  d1  a5  b5  c5  d5   a9   b9   c9   d9\n",
      "2  a2  b2  c2  d2  a6  b6  c6  d6  a10  b10  c10  d10\n",
      "3  a3  b3  c3  d3  a7  b7  c7  d7  a11  b11  c11  d11\n"
     ]
    }
   ],
   "execution_count": 10
  },
  {
   "metadata": {
    "ExecuteTime": {
     "end_time": "2025-04-02T16:49:49.172814Z",
     "start_time": "2025-04-02T16:49:49.165186Z"
    }
   },
   "cell_type": "code",
   "source": "print(col_concat['A'])",
   "id": "9c124ee280850387",
   "outputs": [
    {
     "name": "stdout",
     "output_type": "stream",
     "text": [
      "    A   A    A\n",
      "0  a0  a4   a8\n",
      "1  a1  a5   a9\n",
      "2  a2  a6  a10\n",
      "3  a3  a7  a11\n"
     ]
    }
   ],
   "execution_count": 11
  },
  {
   "metadata": {
    "ExecuteTime": {
     "end_time": "2025-04-02T16:50:32.796796Z",
     "start_time": "2025-04-02T16:50:32.780938Z"
    }
   },
   "cell_type": "code",
   "source": [
    "col_concat['new_col_list'] = ['n1', 'n2', 'n3', 'n4']\n",
    "print(col_concat)"
   ],
   "id": "4ef2dd1e1df92f70",
   "outputs": [
    {
     "name": "stdout",
     "output_type": "stream",
     "text": [
      "    A   B   C   D   A   B   C   D    A    B    C    D new_col_list\n",
      "0  a0  b0  c0  d0  a4  b4  c4  d4   a8   b8   c8   d8           n1\n",
      "1  a1  b1  c1  d1  a5  b5  c5  d5   a9   b9   c9   d9           n2\n",
      "2  a2  b2  c2  d2  a6  b6  c6  d6  a10  b10  c10  d10           n3\n",
      "3  a3  b3  c3  d3  a7  b7  c7  d7  a11  b11  c11  d11           n4\n"
     ]
    }
   ],
   "execution_count": 12
  },
  {
   "metadata": {
    "ExecuteTime": {
     "end_time": "2025-04-02T16:50:46.471096Z",
     "start_time": "2025-04-02T16:50:46.459366Z"
    }
   },
   "cell_type": "code",
   "source": [
    "col_concat['new_col_series'] = pd.Series(['n1', 'n2', 'n3', 'n4'])\n",
    "print(col_concat)"
   ],
   "id": "e78a5b103f2d3ee",
   "outputs": [
    {
     "name": "stdout",
     "output_type": "stream",
     "text": [
      "    A   B   C   D   A   B   C   D    A    B    C    D new_col_list  \\\n",
      "0  a0  b0  c0  d0  a4  b4  c4  d4   a8   b8   c8   d8           n1   \n",
      "1  a1  b1  c1  d1  a5  b5  c5  d5   a9   b9   c9   d9           n2   \n",
      "2  a2  b2  c2  d2  a6  b6  c6  d6  a10  b10  c10  d10           n3   \n",
      "3  a3  b3  c3  d3  a7  b7  c7  d7  a11  b11  c11  d11           n4   \n",
      "\n",
      "  new_col_series  \n",
      "0             n1  \n",
      "1             n2  \n",
      "2             n3  \n",
      "3             n4  \n"
     ]
    }
   ],
   "execution_count": 13
  },
  {
   "metadata": {
    "ExecuteTime": {
     "end_time": "2025-04-02T16:54:40.539385Z",
     "start_time": "2025-04-02T16:54:40.530939Z"
    }
   },
   "cell_type": "code",
   "source": "print(pd.concat([df1, df2, df3], axis=\"columns\", ignore_index=True))",
   "id": "3bad285f4538429e",
   "outputs": [
    {
     "name": "stdout",
     "output_type": "stream",
     "text": [
      "   0   1   2   3   4   5   6   7    8    9    10   11\n",
      "0  a0  b0  c0  d0  a4  b4  c4  d4   a8   b8   c8   d8\n",
      "1  a1  b1  c1  d1  a5  b5  c5  d5   a9   b9   c9   d9\n",
      "2  a2  b2  c2  d2  a6  b6  c6  d6  a10  b10  c10  d10\n",
      "3  a3  b3  c3  d3  a7  b7  c7  d7  a11  b11  c11  d11\n"
     ]
    }
   ],
   "execution_count": 14
  },
  {
   "metadata": {},
   "cell_type": "markdown",
   "source": "# Concatenate Rows with Different Columns",
   "id": "951d9c0a1e775533"
  },
  {
   "metadata": {
    "ExecuteTime": {
     "end_time": "2025-04-02T16:56:01.234364Z",
     "start_time": "2025-04-02T16:56:01.226889Z"
    }
   },
   "cell_type": "code",
   "source": [
    "# rename the columns of our dataframes\n",
    "df1.columns = ['A', 'B', 'C', 'D']\n",
    "df2.columns = ['E', 'F', 'G', 'H']\n",
    "df3.columns = ['A', 'C', 'F', 'H']\n",
    "\n",
    "print(df1)"
   ],
   "id": "8996bb217cb8268d",
   "outputs": [
    {
     "name": "stdout",
     "output_type": "stream",
     "text": [
      "    A   B   C   D\n",
      "0  a0  b0  c0  d0\n",
      "1  a1  b1  c1  d1\n",
      "2  a2  b2  c2  d2\n",
      "3  a3  b3  c3  d3\n"
     ]
    }
   ],
   "execution_count": 15
  },
  {
   "metadata": {
    "ExecuteTime": {
     "end_time": "2025-04-02T16:56:14.424527Z",
     "start_time": "2025-04-02T16:56:14.413400Z"
    }
   },
   "cell_type": "code",
   "source": [
    "row_concat = pd.concat([df1, df2, df3])\n",
    "print(row_concat)"
   ],
   "id": "35143aa5c540b5b8",
   "outputs": [
    {
     "name": "stdout",
     "output_type": "stream",
     "text": [
      "     A    B    C    D    E    F    G    H\n",
      "0   a0   b0   c0   d0  NaN  NaN  NaN  NaN\n",
      "1   a1   b1   c1   d1  NaN  NaN  NaN  NaN\n",
      "2   a2   b2   c2   d2  NaN  NaN  NaN  NaN\n",
      "3   a3   b3   c3   d3  NaN  NaN  NaN  NaN\n",
      "0  NaN  NaN  NaN  NaN   a4   b4   c4   d4\n",
      "1  NaN  NaN  NaN  NaN   a5   b5   c5   d5\n",
      "2  NaN  NaN  NaN  NaN   a6   b6   c6   d6\n",
      "3  NaN  NaN  NaN  NaN   a7   b7   c7   d7\n",
      "0   a8  NaN   b8  NaN  NaN   c8  NaN   d8\n",
      "1   a9  NaN   b9  NaN  NaN   c9  NaN   d9\n",
      "2  a10  NaN  b10  NaN  NaN  c10  NaN  d10\n",
      "3  a11  NaN  b11  NaN  NaN  c11  NaN  d11\n"
     ]
    }
   ],
   "execution_count": 16
  },
  {
   "metadata": {},
   "cell_type": "markdown",
   "source": [
    "# One way to avoid the inclusion of NaN values is to keep only those columns that are shared in common by the list of objects to be concatenated. A parameter named join accomplishes this. By default, it has a value of 'outer', meaning it will keep all the columns. However, we can set join='inner' to keep only the columns that are shared among the data sets.\n",
    "# \n",
    "# If we try to keep only the columns from all three dataframes, we will get an empty dataframe, since there are no columns in common."
   ],
   "id": "f4405d00e809a46f"
  },
  {
   "metadata": {
    "ExecuteTime": {
     "end_time": "2025-04-02T16:57:08.871790Z",
     "start_time": "2025-04-02T16:57:08.864616Z"
    }
   },
   "cell_type": "code",
   "source": "print(pd.concat([df1, df2, df3], join ='inner'))",
   "id": "e7e77d13f854ec15",
   "outputs": [
    {
     "name": "stdout",
     "output_type": "stream",
     "text": [
      "Empty DataFrame\n",
      "Columns: []\n",
      "Index: [0, 1, 2, 3, 0, 1, 2, 3, 0, 1, 2, 3]\n"
     ]
    }
   ],
   "execution_count": 17
  },
  {
   "metadata": {
    "ExecuteTime": {
     "end_time": "2025-04-02T16:57:27.893654Z",
     "start_time": "2025-04-02T16:57:27.886699Z"
    }
   },
   "cell_type": "code",
   "source": "print(pd.concat([df1,df3], ignore_index =False, join ='inner'))",
   "id": "ab1999db552eea65",
   "outputs": [
    {
     "name": "stdout",
     "output_type": "stream",
     "text": [
      "     A    C\n",
      "0   a0   c0\n",
      "1   a1   c1\n",
      "2   a2   c2\n",
      "3   a3   c3\n",
      "0   a8   b8\n",
      "1   a9   b9\n",
      "2  a10  b10\n",
      "3  a11  b11\n"
     ]
    }
   ],
   "execution_count": 18
  },
  {
   "metadata": {
    "ExecuteTime": {
     "end_time": "2025-04-02T16:57:56.250145Z",
     "start_time": "2025-04-02T16:57:56.241232Z"
    }
   },
   "cell_type": "code",
   "source": [
    "col_concat = pd.concat([df1, df2, df3], axis=\"columns\")\n",
    "print(col_concat)"
   ],
   "id": "e336addab404c7d1",
   "outputs": [
    {
     "name": "stdout",
     "output_type": "stream",
     "text": [
      "    A   B   C   D   E   F   G   H    A    C    F    H\n",
      "0  a0  b0  c0  d0  a4  b4  c4  d4   a8   b8   c8   d8\n",
      "1  a1  b1  c1  d1  a5  b5  c5  d5   a9   b9   c9   d9\n",
      "2  a2  b2  c2  d2  a6  b6  c6  d6  a10  b10  c10  d10\n",
      "3  a3  b3  c3  d3  a7  b7  c7  d7  a11  b11  c11  d11\n"
     ]
    }
   ],
   "execution_count": 19
  },
  {
   "metadata": {
    "ExecuteTime": {
     "end_time": "2025-04-02T16:58:11.265220Z",
     "start_time": "2025-04-02T16:58:11.253949Z"
    }
   },
   "cell_type": "code",
   "source": "print(pd.concat([df1, df3], axis =\"columns\", join='inner'))",
   "id": "1c9556b9f7ede29c",
   "outputs": [
    {
     "name": "stdout",
     "output_type": "stream",
     "text": [
      "    A   B   C   D    A    C    F    H\n",
      "0  a0  b0  c0  d0   a8   b8   c8   d8\n",
      "1  a1  b1  c1  d1   a9   b9   c9   d9\n",
      "2  a2  b2  c2  d2  a10  b10  c10  d10\n",
      "3  a3  b3  c3  d3  a11  b11  c11  d11\n"
     ]
    }
   ],
   "execution_count": 20
  },
  {
   "metadata": {},
   "cell_type": "markdown",
   "source": "# Concatenate Columns with Different Rows",
   "id": "7e66955b66b7021b"
  },
  {
   "metadata": {
    "ExecuteTime": {
     "end_time": "2025-04-02T16:59:21.971295Z",
     "start_time": "2025-04-02T16:59:21.962960Z"
    }
   },
   "cell_type": "code",
   "source": [
    "df1.index = [0, 1, 2, 3]\n",
    "df2.index = [4, 5, 6, 7]\n",
    "df3.index = [0, 2, 5, 7]\n",
    "print(df1)"
   ],
   "id": "48bbc37f12e5824e",
   "outputs": [
    {
     "name": "stdout",
     "output_type": "stream",
     "text": [
      "    A   B   C   D\n",
      "0  a0  b0  c0  d0\n",
      "1  a1  b1  c1  d1\n",
      "2  a2  b2  c2  d2\n",
      "3  a3  b3  c3  d3\n"
     ]
    }
   ],
   "execution_count": 21
  },
  {
   "metadata": {
    "ExecuteTime": {
     "end_time": "2025-04-02T16:59:39.925577Z",
     "start_time": "2025-04-02T16:59:39.913100Z"
    }
   },
   "cell_type": "code",
   "source": [
    "col_concat = pd.concat([df1, df2, df3], axis=\"columns\")\n",
    "print(col_concat)"
   ],
   "id": "21c43a8c68fdf598",
   "outputs": [
    {
     "name": "stdout",
     "output_type": "stream",
     "text": [
      "     A    B    C    D    E    F    G    H    A    C    F    H\n",
      "0   a0   b0   c0   d0  NaN  NaN  NaN  NaN   a8   b8   c8   d8\n",
      "1   a1   b1   c1   d1  NaN  NaN  NaN  NaN  NaN  NaN  NaN  NaN\n",
      "2   a2   b2   c2   d2  NaN  NaN  NaN  NaN   a9   b9   c9   d9\n",
      "3   a3   b3   c3   d3  NaN  NaN  NaN  NaN  NaN  NaN  NaN  NaN\n",
      "4  NaN  NaN  NaN  NaN   a4   b4   c4   d4  NaN  NaN  NaN  NaN\n",
      "5  NaN  NaN  NaN  NaN   a5   b5   c5   d5  a10  b10  c10  d10\n",
      "6  NaN  NaN  NaN  NaN   a6   b6   c6   d6  NaN  NaN  NaN  NaN\n",
      "7  NaN  NaN  NaN  NaN   a7   b7   c7   d7  a11  b11  c11  d11\n"
     ]
    }
   ],
   "execution_count": 22
  },
  {
   "metadata": {
    "ExecuteTime": {
     "end_time": "2025-04-02T16:59:52.297679Z",
     "start_time": "2025-04-02T16:59:52.287605Z"
    }
   },
   "cell_type": "code",
   "source": "print(pd.concat([df1, df3], axis =\"columns\", join='inner'))",
   "id": "c6e0083706693ea0",
   "outputs": [
    {
     "name": "stdout",
     "output_type": "stream",
     "text": [
      "    A   B   C   D   A   C   F   H\n",
      "0  a0  b0  c0  d0  a8  b8  c8  d8\n",
      "2  a2  b2  c2  d2  a9  b9  c9  d9\n"
     ]
    }
   ],
   "execution_count": 23
  },
  {
   "metadata": {},
   "cell_type": "markdown",
   "source": "# Merge Multiple Data Sets",
   "id": "4f38d6f3cea8d424"
  },
  {
   "metadata": {
    "ExecuteTime": {
     "end_time": "2025-04-02T17:33:55.004940Z",
     "start_time": "2025-04-02T17:33:54.991915Z"
    }
   },
   "cell_type": "code",
   "source": [
    "person = pd.read_csv('survey_person.csv')\n",
    "site = pd.read_csv('survey_site.csv')\n",
    "survey = pd.read_csv('survey_survey.csv')\n",
    "visited = pd.read_csv('survey_visited.csv')\n",
    "print(person)\n"
   ],
   "id": "dfc9d34f2de43f2",
   "outputs": [
    {
     "name": "stdout",
     "output_type": "stream",
     "text": [
      "      ident   personal    family\n",
      "0      dyer    William      Dyer\n",
      "1        pb      Frank   Pabodie\n",
      "2      lake   Anderson      Lake\n",
      "3       roe  Valentina   Roerich\n",
      "4  danforth      Frank  Danforth\n"
     ]
    }
   ],
   "execution_count": 35
  },
  {
   "metadata": {
    "ExecuteTime": {
     "end_time": "2025-04-02T17:33:57.526943Z",
     "start_time": "2025-04-02T17:33:57.518452Z"
    }
   },
   "cell_type": "code",
   "source": "print(site)",
   "id": "5e804f30acc20373",
   "outputs": [
    {
     "name": "stdout",
     "output_type": "stream",
     "text": [
      "    name    lat    long\n",
      "0   DR-1 -49.85 -128.57\n",
      "1   DR-3 -47.15 -126.72\n",
      "2  MSK-4 -48.87 -123.40\n"
     ]
    }
   ],
   "execution_count": 36
  },
  {
   "metadata": {
    "ExecuteTime": {
     "end_time": "2025-04-02T17:34:00.519265Z",
     "start_time": "2025-04-02T17:34:00.512084Z"
    }
   },
   "cell_type": "code",
   "source": "print(site)",
   "id": "a1155fcf775ad14d",
   "outputs": [
    {
     "name": "stdout",
     "output_type": "stream",
     "text": [
      "    name    lat    long\n",
      "0   DR-1 -49.85 -128.57\n",
      "1   DR-3 -47.15 -126.72\n",
      "2  MSK-4 -48.87 -123.40\n"
     ]
    }
   ],
   "execution_count": 37
  },
  {
   "metadata": {
    "ExecuteTime": {
     "end_time": "2025-04-02T17:34:02.977219Z",
     "start_time": "2025-04-02T17:34:02.970275Z"
    }
   },
   "cell_type": "code",
   "source": "print(visited)",
   "id": "d56d9c5638764578",
   "outputs": [
    {
     "name": "stdout",
     "output_type": "stream",
     "text": [
      "   ident   site       dated\n",
      "0    619   DR-1  1927-02-08\n",
      "1    622   DR-1  1927-02-10\n",
      "2    734   DR-3  1939-01-07\n",
      "3    735   DR-3  1930-01-12\n",
      "4    751   DR-3  1930-02-26\n",
      "5    752   DR-3         NaN\n",
      "6    837  MSK-4  1932-01-14\n",
      "7    844   DR-1  1932-03-22\n"
     ]
    }
   ],
   "execution_count": 38
  },
  {
   "metadata": {},
   "cell_type": "markdown",
   "source": "# One-to-One Merge",
   "id": "a99a5206953c5a57"
  },
  {
   "metadata": {
    "ExecuteTime": {
     "end_time": "2025-04-02T17:22:08.788570Z",
     "start_time": "2025-04-02T17:22:08.779678Z"
    }
   },
   "cell_type": "code",
   "source": [
    "visited_subset = visited.loc[[0, 2, 6], :]\n",
    "print(visited_subset)"
   ],
   "id": "b053a3b2ccadca25",
   "outputs": [
    {
     "name": "stdout",
     "output_type": "stream",
     "text": [
      "   ident   site       dated\n",
      "0    619   DR-1  1927-02-08\n",
      "2    734   DR-3  1939-01-07\n",
      "6    837  MSK-4  1932-01-14\n"
     ]
    }
   ],
   "execution_count": 30
  },
  {
   "metadata": {
    "ExecuteTime": {
     "end_time": "2025-04-02T17:22:19.215825Z",
     "start_time": "2025-04-02T17:22:19.208474Z"
    }
   },
   "cell_type": "code",
   "source": [
    "# get a count of the values in the site column\n",
    "print(\n",
    "  visited_subset[\"site\"].value_counts()\n",
    ")"
   ],
   "id": "467c9a39541b1485",
   "outputs": [
    {
     "name": "stdout",
     "output_type": "stream",
     "text": [
      "site\n",
      "DR-1     1\n",
      "DR-3     1\n",
      "MSK-4    1\n",
      "Name: count, dtype: int64\n"
     ]
    }
   ],
   "execution_count": 31
  },
  {
   "metadata": {
    "ExecuteTime": {
     "end_time": "2025-04-02T17:23:30.086823Z",
     "start_time": "2025-04-02T17:23:30.076340Z"
    }
   },
   "cell_type": "code",
   "source": [
    "# the default value for 'how' is 'inner'\n",
    "# so it doesn't need to be specified\n",
    "o2o_merge = site.merge(\n",
    "  visited_subset, left_on=\"name\", right_on=\"site\"\n",
    ")\n",
    "print(o2o_merge)"
   ],
   "id": "520d9fa6b2c9603b",
   "outputs": [
    {
     "name": "stdout",
     "output_type": "stream",
     "text": [
      "    name    lat    long  ident   site       dated\n",
      "0   DR-1 -49.85 -128.57    619   DR-1  1927-02-08\n",
      "1   DR-3 -47.15 -126.72    734   DR-3  1939-01-07\n",
      "2  MSK-4 -48.87 -123.40    837  MSK-4  1932-01-14\n"
     ]
    }
   ],
   "execution_count": 32
  },
  {
   "metadata": {},
   "cell_type": "markdown",
   "source": "# Many-to-Many Merge",
   "id": "f63e9e63a0048ebc"
  },
  {
   "metadata": {
    "ExecuteTime": {
     "end_time": "2025-04-02T17:26:58.602319Z",
     "start_time": "2025-04-02T17:26:58.588120Z"
    }
   },
   "cell_type": "code",
   "source": [
    "ps = person.merge(survey, left_on='ident', right_on='person')\n",
    "vs = visited.merge(survey, left_on='ident', right_on='taken')\n",
    "print(ps)"
   ],
   "id": "c541196ee48e9558",
   "outputs": [
    {
     "name": "stdout",
     "output_type": "stream",
     "text": [
      "   ident   personal   family  taken person quant  reading\n",
      "0   dyer    William     Dyer    619   dyer   rad     9.82\n",
      "1   dyer    William     Dyer    619   dyer   sal     0.13\n",
      "2   dyer    William     Dyer    622   dyer   rad     7.80\n",
      "3   dyer    William     Dyer    622   dyer   sal     0.09\n",
      "4     pb      Frank  Pabodie    734     pb   rad     8.41\n",
      "5     pb      Frank  Pabodie    734     pb  temp   -21.50\n",
      "6     pb      Frank  Pabodie    735     pb   rad     7.22\n",
      "7     pb      Frank  Pabodie    751     pb   rad     4.35\n",
      "8     pb      Frank  Pabodie    751     pb  temp   -18.50\n",
      "9   lake   Anderson     Lake    734   lake   sal     0.05\n",
      "10  lake   Anderson     Lake    751   lake   sal     0.10\n",
      "11  lake   Anderson     Lake    752   lake   rad     2.19\n",
      "12  lake   Anderson     Lake    752   lake   sal     0.09\n",
      "13  lake   Anderson     Lake    752   lake  temp   -16.00\n",
      "14  lake   Anderson     Lake    837   lake   rad     1.46\n",
      "15  lake   Anderson     Lake    837   lake   sal     0.21\n",
      "16   roe  Valentina  Roerich    752    roe   sal    41.60\n",
      "17   roe  Valentina  Roerich    837    roe   sal    22.50\n",
      "18   roe  Valentina  Roerich    844    roe   rad    11.25\n"
     ]
    }
   ],
   "execution_count": 33
  },
  {
   "metadata": {
    "ExecuteTime": {
     "end_time": "2025-04-02T17:37:30.378151Z",
     "start_time": "2025-04-02T17:37:30.373067Z"
    }
   },
   "cell_type": "code",
   "source": [
    "print(\n",
    "  ps[\"quant\"].value_counts()\n",
    ")"
   ],
   "id": "1bc36577f1a7017a",
   "outputs": [
    {
     "name": "stdout",
     "output_type": "stream",
     "text": [
      "quant\n",
      "rad     8\n",
      "sal     8\n",
      "temp    3\n",
      "Name: count, dtype: int64\n"
     ]
    }
   ],
   "execution_count": 39
  },
  {
   "metadata": {
    "ExecuteTime": {
     "end_time": "2025-04-02T17:37:42.096865Z",
     "start_time": "2025-04-02T17:37:42.090494Z"
    }
   },
   "cell_type": "code",
   "source": [
    "print(\n",
    "  vs[\"quant\"].value_counts()\n",
    ")"
   ],
   "id": "f4b52e462489d72c",
   "outputs": [
    {
     "name": "stdout",
     "output_type": "stream",
     "text": [
      "quant\n",
      "sal     9\n",
      "rad     8\n",
      "temp    4\n",
      "Name: count, dtype: int64\n"
     ]
    }
   ],
   "execution_count": 40
  },
  {
   "metadata": {
    "ExecuteTime": {
     "end_time": "2025-04-02T17:37:58.205586Z",
     "start_time": "2025-04-02T17:37:58.194026Z"
    }
   },
   "cell_type": "code",
   "source": [
    "ps_vs = ps.merge(\n",
    "    vs,\n",
    "    left_on=[\"quant\"],\n",
    "    right_on=[\"quant\"],\n",
    ")"
   ],
   "id": "e4c4f22731da07b2",
   "outputs": [],
   "execution_count": 41
  },
  {
   "metadata": {
    "ExecuteTime": {
     "end_time": "2025-04-02T17:38:10.822569Z",
     "start_time": "2025-04-02T17:38:10.815995Z"
    }
   },
   "cell_type": "code",
   "source": "print(ps_vs.loc[0, :])",
   "id": "23e4b2cde5ac8d51",
   "outputs": [
    {
     "name": "stdout",
     "output_type": "stream",
     "text": [
      "ident_x            dyer\n",
      "personal        William\n",
      "family             Dyer\n",
      "taken_x             619\n",
      "person_x           dyer\n",
      "quant               rad\n",
      "reading_x          9.82\n",
      "ident_y             619\n",
      "site               DR-1\n",
      "dated        1927-02-08\n",
      "taken_y             619\n",
      "person_y           dyer\n",
      "reading_y          9.82\n",
      "Name: 0, dtype: object\n"
     ]
    }
   ],
   "execution_count": 42
  },
  {
   "metadata": {},
   "cell_type": "markdown",
   "source": "# Check Your Work with Assert",
   "id": "79ffc61b2ed1243d"
  },
  {
   "metadata": {
    "ExecuteTime": {
     "end_time": "2025-04-02T17:39:19.228298Z",
     "start_time": "2025-04-02T17:39:19.223847Z"
    }
   },
   "cell_type": "code",
   "source": "print(ps.shape) # left dataframe",
   "id": "910da99097a3bd24",
   "outputs": [
    {
     "name": "stdout",
     "output_type": "stream",
     "text": [
      "(19, 7)\n"
     ]
    }
   ],
   "execution_count": 43
  },
  {
   "metadata": {
    "ExecuteTime": {
     "end_time": "2025-04-02T17:39:29.164649Z",
     "start_time": "2025-04-02T17:39:29.160821Z"
    }
   },
   "cell_type": "code",
   "source": "print(vs.shape) # right dataframe",
   "id": "2b77faf4a33fe916",
   "outputs": [
    {
     "name": "stdout",
     "output_type": "stream",
     "text": [
      "(21, 7)\n"
     ]
    }
   ],
   "execution_count": 44
  },
  {
   "metadata": {
    "ExecuteTime": {
     "end_time": "2025-04-02T17:39:39.186376Z",
     "start_time": "2025-04-02T17:39:39.181204Z"
    }
   },
   "cell_type": "code",
   "source": "print(ps_vs.shape) # after merge",
   "id": "2e0fe50aa70306a7",
   "outputs": [
    {
     "name": "stdout",
     "output_type": "stream",
     "text": [
      "(148, 13)\n"
     ]
    }
   ],
   "execution_count": 45
  },
  {
   "metadata": {
    "ExecuteTime": {
     "end_time": "2025-04-02T17:39:50.789525Z",
     "start_time": "2025-04-02T17:39:50.785222Z"
    }
   },
   "cell_type": "code",
   "source": [
    "# expect this to be true\n",
    "# note there is no output\n",
    "assert vs.shape[0] == 21"
   ],
   "id": "4a1108fae71177c3",
   "outputs": [],
   "execution_count": 46
  },
  {
   "metadata": {},
   "cell_type": "markdown",
   "source": "However, if the expression to assert evaluates to False, it will throw an AssertionError, and your code will stop.",
   "id": "c873d16973cec372"
  },
  {
   "metadata": {
    "ExecuteTime": {
     "end_time": "2025-04-02T17:40:25.188562Z",
     "start_time": "2025-04-02T17:40:25.167140Z"
    }
   },
   "cell_type": "code",
   "source": "assert ps_vs.shape[0] <= vs.shape[0]",
   "id": "40283b2714070238",
   "outputs": [
    {
     "ename": "AssertionError",
     "evalue": "",
     "output_type": "error",
     "traceback": [
      "\u001B[1;31m---------------------------------------------------------------------------\u001B[0m",
      "\u001B[1;31mAssertionError\u001B[0m                            Traceback (most recent call last)",
      "Cell \u001B[1;32mIn[47], line 1\u001B[0m\n\u001B[1;32m----> 1\u001B[0m \u001B[38;5;28;01massert\u001B[39;00m ps_vs\u001B[38;5;241m.\u001B[39mshape[\u001B[38;5;241m0\u001B[39m] \u001B[38;5;241m<\u001B[39m\u001B[38;5;241m=\u001B[39m vs\u001B[38;5;241m.\u001B[39mshape[\u001B[38;5;241m0\u001B[39m]\n",
      "\u001B[1;31mAssertionError\u001B[0m: "
     ]
    }
   ],
   "execution_count": 47
  },
  {
   "metadata": {},
   "cell_type": "markdown",
   "source": "# Many-to-One Merge",
   "id": "2ecb3bc5648556c0"
  },
  {
   "metadata": {
    "ExecuteTime": {
     "end_time": "2025-04-02T17:41:40.983215Z",
     "start_time": "2025-04-02T17:41:40.976826Z"
    }
   },
   "cell_type": "code",
   "source": [
    "# get a count of the values in the site column\n",
    "print(\n",
    "  visited[\"site\"].value_counts()\n",
    ")"
   ],
   "id": "e2db6189abd6d416",
   "outputs": [
    {
     "name": "stdout",
     "output_type": "stream",
     "text": [
      "site\n",
      "DR-3     4\n",
      "DR-1     3\n",
      "MSK-4    1\n",
      "Name: count, dtype: int64\n"
     ]
    }
   ],
   "execution_count": 48
  },
  {
   "metadata": {
    "ExecuteTime": {
     "end_time": "2025-04-02T17:41:58.409733Z",
     "start_time": "2025-04-02T17:41:58.397928Z"
    }
   },
   "cell_type": "code",
   "source": [
    "m2o_merge = site.merge(visited, left_on='name', right_on='site')\n",
    "print(m2o_merge)"
   ],
   "id": "13b18b8113af6fd4",
   "outputs": [
    {
     "name": "stdout",
     "output_type": "stream",
     "text": [
      "    name    lat    long  ident   site       dated\n",
      "0   DR-1 -49.85 -128.57    619   DR-1  1927-02-08\n",
      "1   DR-1 -49.85 -128.57    622   DR-1  1927-02-10\n",
      "2   DR-1 -49.85 -128.57    844   DR-1  1932-03-22\n",
      "3   DR-3 -47.15 -126.72    734   DR-3  1939-01-07\n",
      "4   DR-3 -47.15 -126.72    735   DR-3  1930-01-12\n",
      "5   DR-3 -47.15 -126.72    751   DR-3  1930-02-26\n",
      "6   DR-3 -47.15 -126.72    752   DR-3         NaN\n",
      "7  MSK-4 -48.87 -123.40    837  MSK-4  1932-01-14\n"
     ]
    }
   ],
   "execution_count": 49
  },
  {
   "metadata": {},
   "cell_type": "code",
   "outputs": [],
   "execution_count": null,
   "source": "",
   "id": "b511b8d38a0578c4"
  }
 ],
 "metadata": {
  "kernelspec": {
   "display_name": "Python 3",
   "language": "python",
   "name": "python3"
  },
  "language_info": {
   "codemirror_mode": {
    "name": "ipython",
    "version": 2
   },
   "file_extension": ".py",
   "mimetype": "text/x-python",
   "name": "python",
   "nbconvert_exporter": "python",
   "pygments_lexer": "ipython2",
   "version": "2.7.6"
  }
 },
 "nbformat": 4,
 "nbformat_minor": 5
}
