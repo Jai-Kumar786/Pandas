{
 "cells": [
  {
   "metadata": {},
   "cell_type": "markdown",
   "source": [
    "# Grouped operations are a powerful way to aggregate, transform, and filter data. They rely on the mantra of “split–apply–combine”:\n",
    "# \n",
    "# 1. Data is split into separate parts based on key(s).\n",
    "# 2. A function is applied to each part of the data.\n",
    "# 3. The results from each part are combined to create a new data set."
   ],
   "id": "21e0d7e0cb79810e"
  },
  {
   "metadata": {},
   "cell_type": "markdown",
   "source": "# The split–apply–combine concept is also heavily used in “big data” systems that use distributed computing, with the data being split into independent parts and dispatched to a separate server where a function is applied, and the results are then combined.",
   "id": "85e2da11778afda4"
  },
  {
   "metadata": {},
   "cell_type": "markdown",
   "source": [
    "# The techniques shown in this chapter can all be done without using the .groupby() method. For example:\n",
    "# \n",
    "#  Aggregation can be done by using conditional subsetting on a dataframe\n",
    "#  Transformation can be done by passing a column into a separate function\n",
    "#  Filtering can be done with conditional subsetting"
   ],
   "id": "eafea132683b1370"
  },
  {
   "metadata": {},
   "cell_type": "markdown",
   "source": "# Aggregate",
   "id": "5a79932f2b7028b1"
  },
  {
   "metadata": {},
   "cell_type": "markdown",
   "source": "# Basic One-Variable Grouped Aggregation",
   "id": "1ac11f2128b6b16c"
  },
  {
   "metadata": {
    "ExecuteTime": {
     "end_time": "2025-04-03T14:22:14.220942Z",
     "start_time": "2025-04-03T14:22:13.345056Z"
    }
   },
   "cell_type": "code",
   "source": [
    "import pandas as pd\n",
    "df = pd.read_csv('gapminder.tsv', sep='\\t')\n",
    "\n",
    "# calculate the average life expectancy for each year\n",
    "avg_life_exp_by_year = df.groupby('year')[\"lifeExp\"].mean()\n",
    "\n",
    "print(avg_life_exp_by_year)"
   ],
   "id": "7eeff316da6314ec",
   "outputs": [
    {
     "name": "stdout",
     "output_type": "stream",
     "text": [
      "year\n",
      "1952    49.057620\n",
      "1957    51.507401\n",
      "1962    53.609249\n",
      "1967    55.678290\n",
      "1972    57.647386\n",
      "1977    59.570157\n",
      "1982    61.533197\n",
      "1987    63.212613\n",
      "1992    64.160338\n",
      "1997    65.014676\n",
      "2002    65.694923\n",
      "2007    67.007423\n",
      "Name: lifeExp, dtype: float64\n"
     ]
    }
   ],
   "execution_count": 1
  },
  {
   "metadata": {
    "ExecuteTime": {
     "end_time": "2025-04-03T14:23:06.016423Z",
     "start_time": "2025-04-03T14:23:06.009761Z"
    }
   },
   "cell_type": "code",
   "source": [
    "# get a list of unique years in the data\n",
    "years = df.year.unique()\n",
    "print(years)"
   ],
   "id": "3d2e0bd0ccbdfbdd",
   "outputs": [
    {
     "name": "stdout",
     "output_type": "stream",
     "text": [
      "[1952 1957 1962 1967 1972 1977 1982 1987 1992 1997 2002 2007]\n"
     ]
    }
   ],
   "execution_count": 2
  },
  {
   "metadata": {
    "ExecuteTime": {
     "end_time": "2025-04-03T14:23:22.112195Z",
     "start_time": "2025-04-03T14:23:22.101371Z"
    }
   },
   "cell_type": "code",
   "source": [
    "# subset the data for the year 1952\n",
    "y1952 = df.loc[df.year == 1952, :]\n",
    "print(y1952)"
   ],
   "id": "cc479a9335ce0f80",
   "outputs": [
    {
     "name": "stdout",
     "output_type": "stream",
     "text": [
      "                 country continent  year  lifeExp       pop    gdpPercap\n",
      "0            Afghanistan      Asia  1952   28.801   8425333   779.445314\n",
      "12               Albania    Europe  1952   55.230   1282697  1601.056136\n",
      "24               Algeria    Africa  1952   43.077   9279525  2449.008185\n",
      "36                Angola    Africa  1952   30.015   4232095  3520.610273\n",
      "48             Argentina  Americas  1952   62.485  17876956  5911.315053\n",
      "...                  ...       ...   ...      ...       ...          ...\n",
      "1644             Vietnam      Asia  1952   40.412  26246839   605.066492\n",
      "1656  West Bank and Gaza      Asia  1952   43.160   1030585  1515.592329\n",
      "1668         Yemen, Rep.      Asia  1952   32.548   4963829   781.717576\n",
      "1680              Zambia    Africa  1952   42.038   2672000  1147.388831\n",
      "1692            Zimbabwe    Africa  1952   48.451   3080907   406.884115\n",
      "\n",
      "[142 rows x 6 columns]\n"
     ]
    }
   ],
   "execution_count": 3
  },
  {
   "metadata": {
    "ExecuteTime": {
     "end_time": "2025-04-03T14:23:43.273900Z",
     "start_time": "2025-04-03T14:23:43.268604Z"
    }
   },
   "cell_type": "code",
   "source": [
    "y1952_mean = y1952[\"lifeExp\"].mean()\n",
    "print(y1952_mean)"
   ],
   "id": "be9e7fe384f1a24a",
   "outputs": [
    {
     "name": "stdout",
     "output_type": "stream",
     "text": [
      "49.057619718309866\n"
     ]
    }
   ],
   "execution_count": 4
  },
  {
   "metadata": {
    "ExecuteTime": {
     "end_time": "2025-04-03T14:32:55.573227Z",
     "start_time": "2025-04-03T14:32:55.546735Z"
    }
   },
   "cell_type": "code",
   "source": [
    "# group by continent and describe each group\n",
    "continent_describe = df.groupby('continent')[\"lifeExp\"].describe()\n",
    "print(continent_describe)"
   ],
   "id": "1c80494045655202",
   "outputs": [
    {
     "name": "stdout",
     "output_type": "stream",
     "text": [
      "           count       mean        std     min       25%      50%       75%  \\\n",
      "continent                                                                     \n",
      "Africa     624.0  48.865330   9.150210  23.599  42.37250  47.7920  54.41150   \n",
      "Americas   300.0  64.658737   9.345088  37.579  58.41000  67.0480  71.69950   \n",
      "Asia       396.0  60.064903  11.864532  28.801  51.42625  61.7915  69.50525   \n",
      "Europe     360.0  71.903686   5.433178  43.585  69.57000  72.2410  75.45050   \n",
      "Oceania     24.0  74.326208   3.795611  69.120  71.20500  73.6650  77.55250   \n",
      "\n",
      "              max  \n",
      "continent          \n",
      "Africa     76.442  \n",
      "Americas   80.653  \n",
      "Asia       82.603  \n",
      "Europe     81.757  \n",
      "Oceania    81.235  \n"
     ]
    }
   ],
   "execution_count": 5
  },
  {
   "metadata": {},
   "cell_type": "markdown",
   "source": [
    "# Aggregation Functions\n",
    "The .agg() method is an alias for .aggregate(). The Pandas documentation suggests you use the alias, .agg(), over the fully spelled out method."
   ],
   "id": "50407a11e06808c1"
  },
  {
   "metadata": {
    "ExecuteTime": {
     "end_time": "2025-04-03T14:34:32.648843Z",
     "start_time": "2025-04-03T14:34:32.640776Z"
    }
   },
   "cell_type": "code",
   "source": [
    "import numpy as np\n",
    "\n",
    "# calculate the average life expectancy by continent\n",
    "# but use the np.mean function\n",
    "cont_le_agg = df.groupby('continent')[\"lifeExp\"].agg(np.mean)\n",
    "\n",
    "print(cont_le_agg)"
   ],
   "id": "6a5e7f633cafa117",
   "outputs": [
    {
     "name": "stdout",
     "output_type": "stream",
     "text": [
      "continent\n",
      "Africa      48.865330\n",
      "Americas    64.658737\n",
      "Asia        60.064903\n",
      "Europe      71.903686\n",
      "Oceania     74.326208\n",
      "Name: lifeExp, dtype: float64\n"
     ]
    },
    {
     "name": "stderr",
     "output_type": "stream",
     "text": [
      "C:\\Users\\jaiku\\AppData\\Local\\Temp\\ipykernel_24332\\1685496861.py:5: FutureWarning: The provided callable <function mean at 0x000002805D01CD60> is currently using SeriesGroupBy.mean. In a future version of pandas, the provided callable will be used directly. To keep current behavior pass the string \"mean\" instead.\n",
      "  cont_le_agg = df.groupby('continent')[\"lifeExp\"].agg(np.mean)\n"
     ]
    }
   ],
   "execution_count": 6
  },
  {
   "metadata": {},
   "cell_type": "markdown",
   "source": [
    "# Note\n",
    "When we pass in the function into .agg(), we only need the actual function object, we do not need to “call” the function. That’s why we write np.mean and not np.mean(). This is similar to when we called .apply() in"
   ],
   "id": "91b7a64a448a3051"
  },
  {
   "metadata": {},
   "cell_type": "markdown",
   "source": [
    "# Transform\n",
    "When we transform data, we pass values from our dataframe into a function. The function then “transforms” the data. Unlike .agg(), which can take multiple values and return a single (aggregated) value, .transform() takes multiple values and returns a one-to-one transformation of the values. That is, it does not reduce the amount of data."
   ],
   "id": "a882269c77925750"
  },
  {
   "metadata": {},
   "cell_type": "markdown",
   "source": [
    "# Z-Score Example\n",
    "# \n",
    "# Let’s calculate the z-score of our life expectancy data by year. The z-score identifies the number of standard deviations from the mean of our data. It centers our data around 0, with a standard deviation of 1. This technique standardizes our data and makes it easier to compare different variables with different units to each other.\n",
    "# \n",
    "# Here’s the formula for calculating z-score:"
   ],
   "id": "34f03c5e7a486148"
  },
  {
   "metadata": {
    "ExecuteTime": {
     "end_time": "2025-04-03T14:47:36.810771Z",
     "start_time": "2025-04-03T14:47:36.805327Z"
    }
   },
   "cell_type": "code",
   "source": [
    "# x is a data point in our data set\n",
    "#  µ is the average of our data set, as calculated by Equation 8.1\n",
    "#  σ is the standard deviation, as calculated by Equation 8.3"
   ],
   "id": "ade64f3503b9cc97",
   "outputs": [],
   "execution_count": 7
  },
  {
   "metadata": {},
   "cell_type": "markdown",
   "source": "![Text](img.png)",
   "id": "c616688363c35aca"
  },
  {
   "metadata": {},
   "cell_type": "markdown",
   "source": "![Text2](img_1.png)",
   "id": "76a0e85de1d9b805"
  },
  {
   "metadata": {
    "ExecuteTime": {
     "end_time": "2025-04-03T14:51:43.084988Z",
     "start_time": "2025-04-03T14:51:43.079577Z"
    }
   },
   "cell_type": "code",
   "source": [
    "def my_zscore(x):\n",
    "  '''Calculates the z-score of provided data\n",
    "  'x' is a vector or series of values\n",
    "  '''\n",
    "  return (x - x.mean()) / x.std()"
   ],
   "id": "4f5cb6d73ee99bfc",
   "outputs": [],
   "execution_count": 8
  },
  {
   "metadata": {
    "ExecuteTime": {
     "end_time": "2025-04-03T14:51:55.481666Z",
     "start_time": "2025-04-03T14:51:55.467509Z"
    }
   },
   "cell_type": "code",
   "source": [
    "transform_z = df.groupby('year')[\"lifeExp\"].transform(my_zscore)\n",
    "\n",
    "print(transform_z)"
   ],
   "id": "8f502a7063a34f4b",
   "outputs": [
    {
     "name": "stdout",
     "output_type": "stream",
     "text": [
      "0      -1.656854\n",
      "1      -1.731249\n",
      "2      -1.786543\n",
      "3      -1.848157\n",
      "4      -1.894173\n",
      "          ...   \n",
      "1699   -0.081621\n",
      "1700   -0.336974\n",
      "1701   -1.574962\n",
      "1702   -2.093346\n",
      "1703   -1.948180\n",
      "Name: lifeExp, Length: 1704, dtype: float64\n"
     ]
    }
   ],
   "execution_count": 9
  },
  {
   "metadata": {
    "ExecuteTime": {
     "end_time": "2025-04-03T14:52:13.088153Z",
     "start_time": "2025-04-03T14:52:13.083601Z"
    }
   },
   "cell_type": "code",
   "source": [
    "# note the number of rows in our data\n",
    "print(df.shape)"
   ],
   "id": "a73372fda498ef95",
   "outputs": [
    {
     "name": "stdout",
     "output_type": "stream",
     "text": [
      "(1704, 6)\n"
     ]
    }
   ],
   "execution_count": 10
  },
  {
   "metadata": {
    "ExecuteTime": {
     "end_time": "2025-04-03T14:52:25.060802Z",
     "start_time": "2025-04-03T14:52:25.055671Z"
    }
   },
   "cell_type": "code",
   "source": [
    "# note the number of values in our transformation\n",
    "print(transform_z.shape)"
   ],
   "id": "c8890712119e833c",
   "outputs": [
    {
     "name": "stdout",
     "output_type": "stream",
     "text": [
      "(1704,)\n"
     ]
    }
   ],
   "execution_count": 11
  },
  {
   "metadata": {
    "ExecuteTime": {
     "end_time": "2025-04-03T14:53:33.606166Z",
     "start_time": "2025-04-03T14:53:32.494260Z"
    }
   },
   "cell_type": "code",
   "source": [
    "from scipy.stats import zscore\n",
    "\n",
    "# calculate a grouped zscore\n",
    "\n",
    "sp_z_grouped = df.groupby('year')[\"lifeExp\"].transform(zscore)\n",
    "\n",
    "# calculate a nongrouped zscore\n",
    "sp_z_nogroup = zscore(df[\"lifeExp\"])"
   ],
   "id": "b17d4be082dbe7f4",
   "outputs": [],
   "execution_count": 12
  },
  {
   "metadata": {
    "ExecuteTime": {
     "end_time": "2025-04-03T14:53:43.822966Z",
     "start_time": "2025-04-03T14:53:43.817738Z"
    }
   },
   "cell_type": "code",
   "source": [
    "# grouped z-score\n",
    "print(transform_z.head())"
   ],
   "id": "58b5314dadc78dd3",
   "outputs": [
    {
     "name": "stdout",
     "output_type": "stream",
     "text": [
      "0   -1.656854\n",
      "1   -1.731249\n",
      "2   -1.786543\n",
      "3   -1.848157\n",
      "4   -1.894173\n",
      "Name: lifeExp, dtype: float64\n"
     ]
    }
   ],
   "execution_count": 13
  },
  {
   "metadata": {
    "ExecuteTime": {
     "end_time": "2025-04-03T14:54:02.330852Z",
     "start_time": "2025-04-03T14:54:02.325022Z"
    }
   },
   "cell_type": "code",
   "source": [
    "# grouped z-score using scipy\n",
    "print(sp_z_grouped.head())"
   ],
   "id": "ef484f9e6c522b2c",
   "outputs": [
    {
     "name": "stdout",
     "output_type": "stream",
     "text": [
      "0   -1.662719\n",
      "1   -1.737377\n",
      "2   -1.792867\n",
      "3   -1.854699\n",
      "4   -1.900878\n",
      "Name: lifeExp, dtype: float64\n"
     ]
    }
   ],
   "execution_count": 14
  },
  {
   "metadata": {
    "ExecuteTime": {
     "end_time": "2025-04-03T14:55:44.443975Z",
     "start_time": "2025-04-03T14:55:44.438418Z"
    }
   },
   "cell_type": "code",
   "source": [
    "# nongrouped z-score\n",
    "print(sp_z_nogroup[:5])"
   ],
   "id": "b57b288e27b65dd8",
   "outputs": [
    {
     "name": "stdout",
     "output_type": "stream",
     "text": [
      "0   -2.375334\n",
      "1   -2.256774\n",
      "2   -2.127837\n",
      "3   -1.971178\n",
      "4   -1.811033\n",
      "Name: lifeExp, dtype: float64\n"
     ]
    }
   ],
   "execution_count": 15
  },
  {
   "metadata": {},
   "cell_type": "markdown",
   "source": "# Missing Value Example",
   "id": "4ae9834241b96c19"
  },
  {
   "metadata": {
    "ExecuteTime": {
     "end_time": "2025-04-03T15:18:24.948197Z",
     "start_time": "2025-04-03T15:18:24.933802Z"
    }
   },
   "cell_type": "code",
   "source": [
    "import seaborn as sns\n",
    "import numpy as np\n",
    "\n",
    "# set the seed so results are deterministic\n",
    "np.random.seed(42)\n",
    "\n",
    "# sample 10 rows from tips\n",
    "tips_10 = sns.load_dataset(\"tips\").sample(10)\n",
    "\n",
    "# randomly pick 4 'total_bill' values and turn them into missing\n",
    "tips_10.loc[\n",
    "    np.random.permutation(tips_10.index)[:4],\n",
    "    \"total_bill\"\n",
    "] = np.NaN\n",
    "\n",
    "print(tips_10)"
   ],
   "id": "5943926fc87d9053",
   "outputs": [
    {
     "name": "stdout",
     "output_type": "stream",
     "text": [
      "     total_bill   tip     sex smoker   day    time  size\n",
      "24        19.82  3.18    Male     No   Sat  Dinner     2\n",
      "6          8.77  2.00    Male     No   Sun  Dinner     2\n",
      "153         NaN  2.00    Male     No   Sun  Dinner     4\n",
      "211         NaN  5.16    Male    Yes   Sat  Dinner     4\n",
      "198         NaN  2.00  Female    Yes  Thur   Lunch     2\n",
      "176         NaN  2.00    Male    Yes   Sun  Dinner     2\n",
      "192       28.44  2.56    Male    Yes  Thur   Lunch     2\n",
      "124       12.48  2.52  Female     No  Thur   Lunch     2\n",
      "9         14.78  3.23    Male     No   Sun  Dinner     2\n",
      "101       15.38  3.00  Female    Yes   Fri  Dinner     2\n"
     ]
    }
   ],
   "execution_count": 21
  },
  {
   "metadata": {
    "ExecuteTime": {
     "end_time": "2025-04-03T15:22:23.742343Z",
     "start_time": "2025-04-03T15:22:23.732778Z"
    }
   },
   "cell_type": "code",
   "source": [
    "count_sex = tips_10.groupby('sex').count()\n",
    "print(count_sex)"
   ],
   "id": "ca44c8a8f81e9f81",
   "outputs": [
    {
     "name": "stdout",
     "output_type": "stream",
     "text": [
      "        total_bill  tip  smoker  day  time  size\n",
      "sex                                             \n",
      "Male             4    7       7    7     7     7\n",
      "Female           2    3       3    3     3     3\n"
     ]
    },
    {
     "name": "stderr",
     "output_type": "stream",
     "text": [
      "C:\\Users\\jaiku\\AppData\\Local\\Temp\\ipykernel_24332\\2763183012.py:1: FutureWarning: The default of observed=False is deprecated and will be changed to True in a future version of pandas. Pass observed=False to retain current behavior or observed=True to adopt the future default and silence this warning.\n",
      "  count_sex = tips_10.groupby('sex').count()\n"
     ]
    }
   ],
   "execution_count": 22
  },
  {
   "metadata": {
    "ExecuteTime": {
     "end_time": "2025-04-03T15:24:13.067183Z",
     "start_time": "2025-04-03T15:24:13.053319Z"
    }
   },
   "cell_type": "code",
   "source": [
    "def fill_na_mean(x):\n",
    "  \"\"\"Returns the average of a given vector\"\"\"\n",
    "  avg = x.mean()\n",
    "  return x.fillna(avg)\n",
    "\n",
    "\n",
    "# calculate a mean 'total_bill' by 'sex'\n",
    "total_bill_group_mean = (\n",
    "  tips_10\n",
    "  .groupby(\"sex\")\n",
    "  .total_bill\n",
    "  .transform(fill_na_mean)\n",
    ")\n",
    "\n",
    "# assign to a new column in the original data\n",
    "# you can also replace the original column by using 'total_bill'\n",
    "tips_10[\"fill_total_bill\"] = total_bill_group_mean\n",
    "\n",
    "print(tips_10[['sex', 'total_bill', 'fill_total_bill']])"
   ],
   "id": "40cd8d51b96688ad",
   "outputs": [
    {
     "name": "stdout",
     "output_type": "stream",
     "text": [
      "        sex  total_bill  fill_total_bill\n",
      "24     Male       19.82          19.8200\n",
      "6      Male        8.77           8.7700\n",
      "153    Male         NaN          17.9525\n",
      "211    Male         NaN          17.9525\n",
      "198  Female         NaN          13.9300\n",
      "176    Male         NaN          17.9525\n",
      "192    Male       28.44          28.4400\n",
      "124  Female       12.48          12.4800\n",
      "9      Male       14.78          14.7800\n",
      "101  Female       15.38          15.3800\n"
     ]
    },
    {
     "name": "stderr",
     "output_type": "stream",
     "text": [
      "C:\\Users\\jaiku\\AppData\\Local\\Temp\\ipykernel_24332\\619654303.py:10: FutureWarning: The default of observed=False is deprecated and will be changed to True in a future version of pandas. Pass observed=False to retain current behavior or observed=True to adopt the future default and silence this warning.\n",
      "  .groupby(\"sex\")\n"
     ]
    }
   ],
   "execution_count": 23
  },
  {
   "metadata": {},
   "cell_type": "markdown",
   "source": "# Filter",
   "id": "ddb3b935f88df8fa"
  },
  {
   "metadata": {
    "ExecuteTime": {
     "end_time": "2025-04-03T15:44:28.428370Z",
     "start_time": "2025-04-03T15:44:28.403907Z"
    }
   },
   "cell_type": "code",
   "source": [
    "# load the tips data set\n",
    "tips = sns.load_dataset('tips')\n",
    "\n",
    "# note the number of rows in the original data\n",
    "print(tips.shape)"
   ],
   "id": "2037c8fa03a079fd",
   "outputs": [
    {
     "name": "stdout",
     "output_type": "stream",
     "text": [
      "(244, 7)\n"
     ]
    }
   ],
   "execution_count": 24
  },
  {
   "metadata": {
    "ExecuteTime": {
     "end_time": "2025-04-03T15:44:41.653054Z",
     "start_time": "2025-04-03T15:44:41.645810Z"
    }
   },
   "cell_type": "code",
   "source": [
    "# look at the frequency counts for the table size\n",
    "print(tips['size'].value_counts())"
   ],
   "id": "4e452b0fbca54395",
   "outputs": [
    {
     "name": "stdout",
     "output_type": "stream",
     "text": [
      "size\n",
      "2    156\n",
      "3     38\n",
      "4     37\n",
      "5      5\n",
      "1      4\n",
      "6      4\n",
      "Name: count, dtype: int64\n"
     ]
    }
   ],
   "execution_count": 25
  },
  {
   "metadata": {
    "ExecuteTime": {
     "end_time": "2025-04-03T15:45:47.329165Z",
     "start_time": "2025-04-03T15:45:47.321544Z"
    }
   },
   "cell_type": "code",
   "source": [
    "# filter the data such that each group has more than 30 observations\n",
    "tips_filtered = (\n",
    "  tips\n",
    "  .groupby(\"size\")\n",
    "  .filter(lambda x: x[\"size\"].count() >= 30)\n",
    ")"
   ],
   "id": "466c61553d6c6e22",
   "outputs": [],
   "execution_count": 26
  },
  {
   "metadata": {
    "ExecuteTime": {
     "end_time": "2025-04-03T15:46:03.124062Z",
     "start_time": "2025-04-03T15:46:03.117928Z"
    }
   },
   "cell_type": "code",
   "source": "print(tips_filtered.shape)",
   "id": "1eb48014854f8250",
   "outputs": [
    {
     "name": "stdout",
     "output_type": "stream",
     "text": [
      "(231, 7)\n"
     ]
    }
   ],
   "execution_count": 27
  },
  {
   "metadata": {
    "ExecuteTime": {
     "end_time": "2025-04-03T15:46:23.204994Z",
     "start_time": "2025-04-03T15:46:23.199011Z"
    }
   },
   "cell_type": "code",
   "source": "print(tips_filtered['size'].value_counts())",
   "id": "b8fa986b8695ced1",
   "outputs": [
    {
     "name": "stdout",
     "output_type": "stream",
     "text": [
      "size\n",
      "2    156\n",
      "3     38\n",
      "4     37\n",
      "Name: count, dtype: int64\n"
     ]
    }
   ],
   "execution_count": 28
  },
  {
   "metadata": {},
   "cell_type": "markdown",
   "source": "# The pandas.core.groupby. DataFrameGroupBy object",
   "id": "53e38400613bbc5c"
  },
  {
   "metadata": {},
   "cell_type": "markdown",
   "source": "# Groups",
   "id": "929463c1d13d6662"
  },
  {
   "metadata": {
    "ExecuteTime": {
     "end_time": "2025-04-03T16:24:26.943394Z",
     "start_time": "2025-04-03T16:24:26.926688Z"
    }
   },
   "cell_type": "code",
   "source": [
    "tips_10 = sns.load_dataset('tips').sample(10, random_state=42)\n",
    "print(tips_10)"
   ],
   "id": "c337ec188ea932d",
   "outputs": [
    {
     "name": "stdout",
     "output_type": "stream",
     "text": [
      "     total_bill   tip     sex smoker   day    time  size\n",
      "24        19.82  3.18    Male     No   Sat  Dinner     2\n",
      "6          8.77  2.00    Male     No   Sun  Dinner     2\n",
      "153       24.55  2.00    Male     No   Sun  Dinner     4\n",
      "211       25.89  5.16    Male    Yes   Sat  Dinner     4\n",
      "198       13.00  2.00  Female    Yes  Thur   Lunch     2\n",
      "176       17.89  2.00    Male    Yes   Sun  Dinner     2\n",
      "192       28.44  2.56    Male    Yes  Thur   Lunch     2\n",
      "124       12.48  2.52  Female     No  Thur   Lunch     2\n",
      "9         14.78  3.23    Male     No   Sun  Dinner     2\n",
      "101       15.38  3.00  Female    Yes   Fri  Dinner     2\n"
     ]
    }
   ],
   "execution_count": 41
  },
  {
   "metadata": {
    "ExecuteTime": {
     "end_time": "2025-04-03T16:26:35.105733Z",
     "start_time": "2025-04-03T16:26:35.100181Z"
    }
   },
   "cell_type": "code",
   "source": [
    "# save just the grouped object\n",
    "grouped = tips_10.groupby('sex',observed=True)\n",
    "\n",
    "# note that we just get back the object and its memory location\n",
    "print(grouped)"
   ],
   "id": "e0e59ea78b864b33",
   "outputs": [
    {
     "name": "stdout",
     "output_type": "stream",
     "text": [
      "<pandas.core.groupby.generic.DataFrameGroupBy object at 0x00000280662A9040>\n"
     ]
    }
   ],
   "execution_count": 53
  },
  {
   "metadata": {
    "ExecuteTime": {
     "end_time": "2025-04-03T16:26:37.776426Z",
     "start_time": "2025-04-03T16:26:37.770718Z"
    }
   },
   "cell_type": "code",
   "source": [
    "# see the actual groups of the groupby\n",
    "# it returns only the index\n",
    "print(grouped.groups)"
   ],
   "id": "aa73602d8fde2682",
   "outputs": [
    {
     "name": "stdout",
     "output_type": "stream",
     "text": [
      "{'Male': [24, 6, 153, 211, 176, 192, 9], 'Female': [198, 124, 101]}\n"
     ]
    }
   ],
   "execution_count": 54
  },
  {
   "metadata": {},
   "cell_type": "markdown",
   "source": [
    "# Even when we ask for the groups from our grouped object, we get only the index of the dataframe back. Think of this index as indicating the row numbers. It is intended mainly to optimize performance. Again, we haven’t calculated anything yet.\n",
    "# \n",
    "# This approach does allow you to save just the grouped result. You could then perform multiple .agg(), .transform(), or .filter() operations without having to process the .groupby() statement again."
   ],
   "id": "2793bce14f8ef7c6"
  },
  {
   "metadata": {},
   "cell_type": "markdown",
   "source": "# 8.4.2 Group Calculations Involving Multiple Variables",
   "id": "5e757b61ceefa4ea"
  },
  {
   "metadata": {
    "ExecuteTime": {
     "end_time": "2025-04-03T16:27:53.487652Z",
     "start_time": "2025-04-03T16:27:53.475484Z"
    }
   },
   "cell_type": "code",
   "source": [
    "# calculate the mean on relevant columns\n",
    "avgs = grouped.mean(numeric_only=True)\n",
    "print(avgs)"
   ],
   "id": "61d913e14f3885a0",
   "outputs": [
    {
     "name": "stdout",
     "output_type": "stream",
     "text": [
      "        total_bill       tip      size\n",
      "sex                                   \n",
      "Male         20.02  2.875714  2.571429\n",
      "Female       13.62  2.506667  2.000000\n"
     ]
    }
   ],
   "execution_count": 55
  },
  {
   "metadata": {
    "ExecuteTime": {
     "end_time": "2025-04-03T16:28:01.296688Z",
     "start_time": "2025-04-03T16:28:01.289794Z"
    }
   },
   "cell_type": "code",
   "source": [
    "# get the 'Female' group\n",
    "female = grouped.get_group('Female')\n",
    "print(female)"
   ],
   "id": "66a88a54b56e8902",
   "outputs": [
    {
     "name": "stdout",
     "output_type": "stream",
     "text": [
      "     total_bill   tip     sex smoker   day    time  size\n",
      "198       13.00  2.00  Female    Yes  Thur   Lunch     2\n",
      "124       12.48  2.52  Female     No  Thur   Lunch     2\n",
      "101       15.38  3.00  Female    Yes   Fri  Dinner     2\n"
     ]
    }
   ],
   "execution_count": 56
  },
  {
   "metadata": {},
   "cell_type": "markdown",
   "source": "# Multiple Groups",
   "id": "4a8bd8dfc6606367"
  },
  {
   "metadata": {
    "ExecuteTime": {
     "end_time": "2025-04-03T16:29:03.443080Z",
     "start_time": "2025-04-03T16:29:03.435630Z"
    }
   },
   "cell_type": "code",
   "source": [
    "# mean by sex and time\n",
    "bill_sex_time = tips_10.groupby(['sex', 'time'],observed=True)\n",
    "\n",
    "group_avg = bill_sex_time.mean(numeric_only=True)"
   ],
   "id": "dd039d8f31ddfbd",
   "outputs": [],
   "execution_count": 59
  },
  {
   "metadata": {
    "ExecuteTime": {
     "end_time": "2025-04-03T16:29:22.538052Z",
     "start_time": "2025-04-03T16:29:22.533637Z"
    }
   },
   "cell_type": "code",
   "source": [
    "# type of the group_avg\n",
    "print(type(group_avg))"
   ],
   "id": "4c505de1ed6fc0ea",
   "outputs": [
    {
     "name": "stdout",
     "output_type": "stream",
     "text": [
      "<class 'pandas.core.frame.DataFrame'>\n"
     ]
    }
   ],
   "execution_count": 60
  },
  {
   "metadata": {
    "ExecuteTime": {
     "end_time": "2025-04-03T16:29:33.946758Z",
     "start_time": "2025-04-03T16:29:33.941400Z"
    }
   },
   "cell_type": "code",
   "source": "print(group_avg.columns)",
   "id": "9fe1e88f38d87569",
   "outputs": [
    {
     "name": "stdout",
     "output_type": "stream",
     "text": [
      "Index(['total_bill', 'tip', 'size'], dtype='object')\n"
     ]
    }
   ],
   "execution_count": 61
  },
  {
   "metadata": {
    "ExecuteTime": {
     "end_time": "2025-04-03T16:30:20.514810Z",
     "start_time": "2025-04-03T16:30:20.509061Z"
    }
   },
   "cell_type": "code",
   "source": "print(group_avg.index)",
   "id": "8daf4e4132c81ed1",
   "outputs": [
    {
     "name": "stdout",
     "output_type": "stream",
     "text": [
      "MultiIndex([(  'Male',  'Lunch'),\n",
      "            (  'Male', 'Dinner'),\n",
      "            ('Female',  'Lunch'),\n",
      "            ('Female', 'Dinner')],\n",
      "           names=['sex', 'time'])\n"
     ]
    }
   ],
   "execution_count": 62
  },
  {
   "metadata": {
    "ExecuteTime": {
     "end_time": "2025-04-03T16:31:22.713816Z",
     "start_time": "2025-04-03T16:31:22.700667Z"
    }
   },
   "cell_type": "code",
   "source": [
    "group_method = tips_10.groupby(['sex', 'time'],observed=False).mean(numeric_only=True).reset_index()\n",
    "print(group_method)"
   ],
   "id": "d6793748ae4aa76e",
   "outputs": [
    {
     "name": "stdout",
     "output_type": "stream",
     "text": [
      "      sex    time  total_bill       tip      size\n",
      "0    Male   Lunch   28.440000  2.560000  2.000000\n",
      "1    Male  Dinner   18.616667  2.928333  2.666667\n",
      "2  Female   Lunch   12.740000  2.260000  2.000000\n",
      "3  Female  Dinner   15.380000  3.000000  2.000000\n"
     ]
    }
   ],
   "execution_count": 65
  },
  {
   "metadata": {},
   "cell_type": "markdown",
   "source": "# Working With a MultiIndex",
   "id": "b3fa59cac9bca883"
  },
  {
   "metadata": {
    "ExecuteTime": {
     "end_time": "2025-04-03T16:47:07.904166Z",
     "start_time": "2025-04-03T16:47:04.184060Z"
    }
   },
   "cell_type": "code",
   "source": [
    "intv_df = pd.read_csv('epi_sim.zip')\n",
    "\n",
    "print(intv_df)"
   ],
   "id": "22f9d97a67e359bf",
   "outputs": [
    {
     "name": "stdout",
     "output_type": "stream",
     "text": [
      "         ig_type  intervened        pid  rep  sid        tr\n",
      "0              3          40  294524448    1  201  0.000135\n",
      "1              3          40  294571037    1  201  0.000135\n",
      "2              3          40  290699504    1  201  0.000135\n",
      "3              3          40  288354895    1  201  0.000135\n",
      "4              3          40  292271290    1  201  0.000135\n",
      "...          ...         ...        ...  ...  ...       ...\n",
      "9434648        2          87  345636694    2  201  0.000166\n",
      "9434649        3          87  295125214    2  201  0.000166\n",
      "9434650        2          89  292571119    2  201  0.000166\n",
      "9434651        3          89  292528142    2  201  0.000166\n",
      "9434652        2          95  291956763    2  201  0.000166\n",
      "\n",
      "[9434653 rows x 6 columns]\n"
     ]
    }
   ],
   "execution_count": 66
  },
  {
   "metadata": {
    "ExecuteTime": {
     "end_time": "2025-04-03T16:47:47.226005Z",
     "start_time": "2025-04-03T16:47:47.222250Z"
    }
   },
   "cell_type": "code",
   "source": [
    "# The data set includes six columns:\n",
    "# \n",
    "#  ig_type: edge type (type of relationship between two nodes in the network, such as “school” and “work”)\n",
    "#  intervened: time in the simulation at which an intervention occurred for a given person (pid)\n",
    "#  pid: simulated person’s ID number\n",
    "#  rep: replication run (each set of simulation parameters was run multiple times)\n",
    "# sid: simulation ID\n",
    "#  tr: transmissibility value of the influenza virus"
   ],
   "id": "5e670c1a3fc4eeb",
   "outputs": [],
   "execution_count": 67
  },
  {
   "metadata": {
    "ExecuteTime": {
     "end_time": "2025-04-03T16:48:14.821878Z",
     "start_time": "2025-04-03T16:48:14.057267Z"
    }
   },
   "cell_type": "code",
   "source": [
    "count_only = (\n",
    "  intv_df\n",
    "  .groupby([\"rep\", \"intervened\", \"tr\"])\n",
    "  [\"ig_type\"]\n",
    "  .count()\n",
    ")\n",
    "\n",
    "count_only"
   ],
   "id": "dbdfab24bafe1360",
   "outputs": [
    {
     "data": {
      "text/plain": [
       "rep  intervened  tr      \n",
       "0    8           0.000166    1\n",
       "     9           0.000152    3\n",
       "                 0.000166    1\n",
       "     10          0.000152    1\n",
       "                 0.000166    1\n",
       "                            ..\n",
       "2    193         0.000135    1\n",
       "                 0.000152    1\n",
       "     195         0.000135    1\n",
       "     198         0.000166    1\n",
       "     199         0.000135    1\n",
       "Name: ig_type, Length: 1196, dtype: int64"
      ]
     },
     "execution_count": 69,
     "metadata": {},
     "output_type": "execute_result"
    }
   ],
   "execution_count": 69
  },
  {
   "metadata": {},
   "cell_type": "code",
   "outputs": [],
   "execution_count": null,
   "source": "",
   "id": "e3b0722671aa7613"
  }
 ],
 "metadata": {
  "kernelspec": {
   "display_name": "Python 3",
   "language": "python",
   "name": "python3"
  },
  "language_info": {
   "codemirror_mode": {
    "name": "ipython",
    "version": 2
   },
   "file_extension": ".py",
   "mimetype": "text/x-python",
   "name": "python",
   "nbconvert_exporter": "python",
   "pygments_lexer": "ipython2",
   "version": "2.7.6"
  }
 },
 "nbformat": 4,
 "nbformat_minor": 5
}
