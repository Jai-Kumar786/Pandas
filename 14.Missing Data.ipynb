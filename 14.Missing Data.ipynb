{
 "cells": [
  {
   "cell_type": "code",
   "id": "initial_id",
   "metadata": {
    "collapsed": true,
    "ExecuteTime": {
     "end_time": "2025-04-03T17:07:20.820587Z",
     "start_time": "2025-04-03T17:07:20.803565Z"
    }
   },
   "source": [
    "import pandas as pd\n",
    "\n",
    "# set the location for data\n",
    "visited_file = 'survey_visited.csv'\n",
    "print(pd.read_csv(visited_file))"
   ],
   "outputs": [
    {
     "name": "stdout",
     "output_type": "stream",
     "text": [
      "   ident   site       dated\n",
      "0    619   DR-1  1927-02-08\n",
      "1    622   DR-1  1927-02-10\n",
      "2    734   DR-3  1939-01-07\n",
      "3    735   DR-3  1930-01-12\n",
      "4    751   DR-3  1930-02-26\n",
      "5    752   DR-3         NaN\n",
      "6    837  MSK-4  1932-01-14\n",
      "7    844   DR-1  1932-03-22\n"
     ]
    }
   ],
   "execution_count": 1
  },
  {
   "metadata": {
    "ExecuteTime": {
     "end_time": "2025-04-03T17:09:49.905663Z",
     "start_time": "2025-04-03T17:09:49.895493Z"
    }
   },
   "cell_type": "code",
   "source": "print(pd.read_csv(visited_file, keep_default_na=False))",
   "id": "37da804d8ca3f22",
   "outputs": [
    {
     "name": "stdout",
     "output_type": "stream",
     "text": [
      "   ident   site       dated\n",
      "0    619   DR-1  1927-02-08\n",
      "1    622   DR-1  1927-02-10\n",
      "2    734   DR-3  1939-01-07\n",
      "3    735   DR-3  1930-01-12\n",
      "4    751   DR-3  1930-02-26\n",
      "5    752   DR-3            \n",
      "6    837  MSK-4  1932-01-14\n",
      "7    844   DR-1  1932-03-22\n"
     ]
    }
   ],
   "execution_count": 2
  },
  {
   "metadata": {
    "ExecuteTime": {
     "end_time": "2025-04-03T17:10:03.495420Z",
     "start_time": "2025-04-03T17:10:03.486916Z"
    }
   },
   "cell_type": "code",
   "source": [
    "print(\n",
    "  pd.read_csv(visited_file, na_values=[\"\"], keep_default_na=False)\n",
    ")"
   ],
   "id": "ce983c7af199e483",
   "outputs": [
    {
     "name": "stdout",
     "output_type": "stream",
     "text": [
      "   ident   site       dated\n",
      "0    619   DR-1  1927-02-08\n",
      "1    622   DR-1  1927-02-10\n",
      "2    734   DR-3  1939-01-07\n",
      "3    735   DR-3  1930-01-12\n",
      "4    751   DR-3  1930-02-26\n",
      "5    752   DR-3         NaN\n",
      "6    837  MSK-4  1932-01-14\n",
      "7    844   DR-1  1932-03-22\n"
     ]
    }
   ],
   "execution_count": 3
  },
  {
   "metadata": {
    "ExecuteTime": {
     "end_time": "2025-04-03T17:11:29.221359Z",
     "start_time": "2025-04-03T17:11:29.212516Z"
    }
   },
   "cell_type": "code",
   "source": [
    "visited = pd.read_csv('survey_visited.csv')\n",
    "survey = pd.read_csv('survey_survey.csv')"
   ],
   "id": "da3192e6ff27fd51",
   "outputs": [],
   "execution_count": 6
  },
  {
   "metadata": {
    "ExecuteTime": {
     "end_time": "2025-04-03T17:11:31.551424Z",
     "start_time": "2025-04-03T17:11:31.539362Z"
    }
   },
   "cell_type": "code",
   "source": [
    "vs = visited.merge(survey, left_on='ident', right_on='taken')\n",
    "print(vs)"
   ],
   "id": "c782531c06da375d",
   "outputs": [
    {
     "name": "stdout",
     "output_type": "stream",
     "text": [
      "    ident   site       dated  taken person quant  reading\n",
      "0     619   DR-1  1927-02-08    619   dyer   rad     9.82\n",
      "1     619   DR-1  1927-02-08    619   dyer   sal     0.13\n",
      "2     622   DR-1  1927-02-10    622   dyer   rad     7.80\n",
      "3     622   DR-1  1927-02-10    622   dyer   sal     0.09\n",
      "4     734   DR-3  1939-01-07    734     pb   rad     8.41\n",
      "5     734   DR-3  1939-01-07    734   lake   sal     0.05\n",
      "6     734   DR-3  1939-01-07    734     pb  temp   -21.50\n",
      "7     735   DR-3  1930-01-12    735     pb   rad     7.22\n",
      "8     735   DR-3  1930-01-12    735    NaN   sal     0.06\n",
      "9     735   DR-3  1930-01-12    735    NaN  temp   -26.00\n",
      "10    751   DR-3  1930-02-26    751     pb   rad     4.35\n",
      "11    751   DR-3  1930-02-26    751     pb  temp   -18.50\n",
      "12    751   DR-3  1930-02-26    751   lake   sal     0.10\n",
      "13    752   DR-3         NaN    752   lake   rad     2.19\n",
      "14    752   DR-3         NaN    752   lake   sal     0.09\n",
      "15    752   DR-3         NaN    752   lake  temp   -16.00\n",
      "16    752   DR-3         NaN    752    roe   sal    41.60\n",
      "17    837  MSK-4  1932-01-14    837   lake   rad     1.46\n",
      "18    837  MSK-4  1932-01-14    837   lake   sal     0.21\n",
      "19    837  MSK-4  1932-01-14    837    roe   sal    22.50\n",
      "20    844   DR-1  1932-03-22    844    roe   rad    11.25\n"
     ]
    }
   ],
   "execution_count": 7
  },
  {
   "metadata": {},
   "cell_type": "markdown",
   "source": "# Reindexing",
   "id": "402c6d310d72a5da"
  },
  {
   "metadata": {
    "ExecuteTime": {
     "end_time": "2025-04-03T17:16:30.469664Z",
     "start_time": "2025-04-03T17:16:30.458706Z"
    }
   },
   "cell_type": "code",
   "source": [
    "gapminder = pd.read_csv('gapminder.tsv', sep='\\t')\n",
    "\n",
    "life_exp = gapminder.groupby(['year'])['lifeExp'].mean()\n",
    "print(life_exp)"
   ],
   "id": "739aaea2090da8f2",
   "outputs": [
    {
     "name": "stdout",
     "output_type": "stream",
     "text": [
      "year\n",
      "1952    49.057620\n",
      "1957    51.507401\n",
      "1962    53.609249\n",
      "1967    55.678290\n",
      "1972    57.647386\n",
      "1977    59.570157\n",
      "1982    61.533197\n",
      "1987    63.212613\n",
      "1992    64.160338\n",
      "1997    65.014676\n",
      "2002    65.694923\n",
      "2007    67.007423\n",
      "Name: lifeExp, dtype: float64\n"
     ]
    }
   ],
   "execution_count": 8
  },
  {
   "metadata": {
    "ExecuteTime": {
     "end_time": "2025-04-03T17:16:46.007185Z",
     "start_time": "2025-04-03T17:16:46.000697Z"
    }
   },
   "cell_type": "code",
   "source": [
    "# subset\n",
    "y2000 = life_exp[life_exp.index > 2000]\n",
    "print(y2000)"
   ],
   "id": "47d321d7fc7bf36c",
   "outputs": [
    {
     "name": "stdout",
     "output_type": "stream",
     "text": [
      "year\n",
      "2002    65.694923\n",
      "2007    67.007423\n",
      "Name: lifeExp, dtype: float64\n"
     ]
    }
   ],
   "execution_count": 9
  },
  {
   "metadata": {
    "ExecuteTime": {
     "end_time": "2025-04-03T17:16:58.283265Z",
     "start_time": "2025-04-03T17:16:58.277249Z"
    }
   },
   "cell_type": "code",
   "source": [
    "# reindex\n",
    "print(y2000.reindex(range(2000, 2010)))"
   ],
   "id": "7ccc4d4e1eb760a4",
   "outputs": [
    {
     "name": "stdout",
     "output_type": "stream",
     "text": [
      "year\n",
      "2000          NaN\n",
      "2001          NaN\n",
      "2002    65.694923\n",
      "2003          NaN\n",
      "2004          NaN\n",
      "2005          NaN\n",
      "2006          NaN\n",
      "2007    67.007423\n",
      "2008          NaN\n",
      "2009          NaN\n",
      "Name: lifeExp, dtype: float64\n"
     ]
    }
   ],
   "execution_count": 10
  },
  {
   "metadata": {},
   "cell_type": "markdown",
   "source": "# Working With Missing Data",
   "id": "9ac9c9e781612f7f"
  },
  {
   "metadata": {
    "ExecuteTime": {
     "end_time": "2025-04-03T17:18:07.544620Z",
     "start_time": "2025-04-03T17:18:07.533413Z"
    }
   },
   "cell_type": "code",
   "source": [
    "ebola = pd.read_csv('country_timeseries.csv')\n",
    "# count the number of non-missing values\n",
    "print(ebola.count())"
   ],
   "id": "7b728d9a6d541eea",
   "outputs": [
    {
     "name": "stdout",
     "output_type": "stream",
     "text": [
      "Date                   122\n",
      "Day                    122\n",
      "Cases_Guinea            93\n",
      "Cases_Liberia           83\n",
      "Cases_SierraLeone       87\n",
      "Cases_Nigeria           38\n",
      "Cases_Senegal           25\n",
      "Cases_UnitedStates      18\n",
      "Cases_Spain             16\n",
      "Cases_Mali              12\n",
      "Deaths_Guinea           92\n",
      "Deaths_Liberia          81\n",
      "Deaths_SierraLeone      87\n",
      "Deaths_Nigeria          38\n",
      "Deaths_Senegal          22\n",
      "Deaths_UnitedStates     18\n",
      "Deaths_Spain            16\n",
      "Deaths_Mali             12\n",
      "dtype: int64\n"
     ]
    }
   ],
   "execution_count": 11
  },
  {
   "metadata": {
    "ExecuteTime": {
     "end_time": "2025-04-03T17:18:35.185607Z",
     "start_time": "2025-04-03T17:18:35.178010Z"
    }
   },
   "cell_type": "code",
   "source": [
    "num_rows = ebola.shape[0]\n",
    "num_missing = num_rows - ebola.count()\n",
    "print(num_missing)\n",
    "# In Pandas, shape returns a tuple (rows, columns) representing the dimensions of a DataFrame.\n",
    "# \n",
    "# shape[0] → Number of rows in the DataFrame\n",
    "# \n",
    "# shape[1] → Number of columns in the DataFrame"
   ],
   "id": "620121a73a87e225",
   "outputs": [
    {
     "name": "stdout",
     "output_type": "stream",
     "text": [
      "Date                     0\n",
      "Day                      0\n",
      "Cases_Guinea            29\n",
      "Cases_Liberia           39\n",
      "Cases_SierraLeone       35\n",
      "Cases_Nigeria           84\n",
      "Cases_Senegal           97\n",
      "Cases_UnitedStates     104\n",
      "Cases_Spain            106\n",
      "Cases_Mali             110\n",
      "Deaths_Guinea           30\n",
      "Deaths_Liberia          41\n",
      "Deaths_SierraLeone      35\n",
      "Deaths_Nigeria          84\n",
      "Deaths_Senegal         100\n",
      "Deaths_UnitedStates    104\n",
      "Deaths_Spain           106\n",
      "Deaths_Mali            110\n",
      "dtype: int64\n"
     ]
    }
   ],
   "execution_count": 12
  },
  {
   "metadata": {
    "ExecuteTime": {
     "end_time": "2025-04-03T17:20:25.243005Z",
     "start_time": "2025-04-03T17:20:25.237418Z"
    }
   },
   "cell_type": "code",
   "source": [
    "import numpy as np\n",
    "\n",
    "print(np.count_nonzero(ebola.isnull()))"
   ],
   "id": "e80654f3af0bae1f",
   "outputs": [
    {
     "name": "stdout",
     "output_type": "stream",
     "text": [
      "1214\n"
     ]
    }
   ],
   "execution_count": 13
  },
  {
   "metadata": {
    "ExecuteTime": {
     "end_time": "2025-04-03T17:20:35.637087Z",
     "start_time": "2025-04-03T17:20:35.631559Z"
    }
   },
   "cell_type": "code",
   "source": "print(np.count_nonzero(ebola['Cases_Guinea'].isnull()))",
   "id": "b03525ee4303d1ce",
   "outputs": [
    {
     "name": "stdout",
     "output_type": "stream",
     "text": [
      "29\n"
     ]
    }
   ],
   "execution_count": 14
  },
  {
   "metadata": {
    "ExecuteTime": {
     "end_time": "2025-04-03T17:21:00.577648Z",
     "start_time": "2025-04-03T17:21:00.569078Z"
    }
   },
   "cell_type": "code",
   "source": [
    "# value counts from the Cases_Guinea column\n",
    "cnts = ebola.Cases_Guinea.value_counts(dropna=False)\n",
    "print(cnts)"
   ],
   "id": "8748eb232d376f8b",
   "outputs": [
    {
     "name": "stdout",
     "output_type": "stream",
     "text": [
      "Cases_Guinea\n",
      "NaN       29\n",
      "86.0       3\n",
      "495.0      2\n",
      "112.0      2\n",
      "390.0      2\n",
      "          ..\n",
      "1199.0     1\n",
      "1298.0     1\n",
      "1350.0     1\n",
      "1472.0     1\n",
      "49.0       1\n",
      "Name: count, Length: 89, dtype: int64\n"
     ]
    }
   ],
   "execution_count": 15
  },
  {
   "metadata": {
    "ExecuteTime": {
     "end_time": "2025-04-03T17:21:45.299784Z",
     "start_time": "2025-04-03T17:21:45.294203Z"
    }
   },
   "cell_type": "code",
   "source": [
    "# select the values in the Series where the index is a NaN value\n",
    "print(cnts.loc[pd.isnull(cnts.index)])"
   ],
   "id": "ff2d031c77bfb8f5",
   "outputs": [
    {
     "name": "stdout",
     "output_type": "stream",
     "text": [
      "Cases_Guinea\n",
      "NaN    29\n",
      "Name: count, dtype: int64\n"
     ]
    }
   ],
   "execution_count": 16
  },
  {
   "metadata": {
    "ExecuteTime": {
     "end_time": "2025-04-03T17:21:57.195300Z",
     "start_time": "2025-04-03T17:21:57.190035Z"
    }
   },
   "cell_type": "code",
   "source": [
    "# check if the value is missing, and sum up the results\n",
    "print(ebola.Cases_Guinea.isnull().sum())"
   ],
   "id": "c25ea6515c0e6354",
   "outputs": [
    {
     "name": "stdout",
     "output_type": "stream",
     "text": [
      "29\n"
     ]
    }
   ],
   "execution_count": 17
  },
  {
   "metadata": {},
   "cell_type": "markdown",
   "source": "# Clean Missing Data",
   "id": "3fc320e87dd4f881"
  },
  {
   "metadata": {
    "ExecuteTime": {
     "end_time": "2025-04-03T17:22:46.375058Z",
     "start_time": "2025-04-03T17:22:46.365285Z"
    }
   },
   "cell_type": "code",
   "source": [
    "# fill the missing values to 0 and only look at the first 5 columns\n",
    "print(ebola.fillna(0).iloc[:, 0:5])"
   ],
   "id": "f9c3d0c3fb508646",
   "outputs": [
    {
     "name": "stdout",
     "output_type": "stream",
     "text": [
      "           Date  Day  Cases_Guinea  Cases_Liberia  Cases_SierraLeone\n",
      "0      1/5/2015  289        2776.0            0.0            10030.0\n",
      "1      1/4/2015  288        2775.0            0.0             9780.0\n",
      "2      1/3/2015  287        2769.0         8166.0             9722.0\n",
      "3      1/2/2015  286           0.0         8157.0                0.0\n",
      "4    12/31/2014  284        2730.0         8115.0             9633.0\n",
      "..          ...  ...           ...            ...                ...\n",
      "117   3/27/2014    5         103.0            8.0                6.0\n",
      "118   3/26/2014    4          86.0            0.0                0.0\n",
      "119   3/25/2014    3          86.0            0.0                0.0\n",
      "120   3/24/2014    2          86.0            0.0                0.0\n",
      "121   3/22/2014    0          49.0            0.0                0.0\n",
      "\n",
      "[122 rows x 5 columns]\n"
     ]
    }
   ],
   "execution_count": 18
  },
  {
   "metadata": {},
   "cell_type": "markdown",
   "source": "# Forward Fill",
   "id": "4a56f4a0a8c3634d"
  },
  {
   "metadata": {},
   "cell_type": "markdown",
   "source": "We can use built-in methods to fill forward or backward. When we fill data forward, the last known value (from top to bottom) is used for the next missing value. In this way, missing values are replaced with the last known and recorded value.",
   "id": "116a1fe65b2cafee"
  },
  {
   "metadata": {
    "ExecuteTime": {
     "end_time": "2025-04-03T17:27:07.896774Z",
     "start_time": "2025-04-03T17:27:07.885261Z"
    }
   },
   "cell_type": "code",
   "source": "print(ebola.ffill().iloc[:, 0:5])",
   "id": "5b0b3934693d589c",
   "outputs": [
    {
     "name": "stdout",
     "output_type": "stream",
     "text": [
      "           Date  Day  Cases_Guinea  Cases_Liberia  Cases_SierraLeone\n",
      "0      1/5/2015  289        2776.0            NaN            10030.0\n",
      "1      1/4/2015  288        2775.0            NaN             9780.0\n",
      "2      1/3/2015  287        2769.0         8166.0             9722.0\n",
      "3      1/2/2015  286        2769.0         8157.0             9722.0\n",
      "4    12/31/2014  284        2730.0         8115.0             9633.0\n",
      "..          ...  ...           ...            ...                ...\n",
      "117   3/27/2014    5         103.0            8.0                6.0\n",
      "118   3/26/2014    4          86.0            8.0                6.0\n",
      "119   3/25/2014    3          86.0            8.0                6.0\n",
      "120   3/24/2014    2          86.0            8.0                6.0\n",
      "121   3/22/2014    0          49.0            8.0                6.0\n",
      "\n",
      "[122 rows x 5 columns]\n"
     ]
    }
   ],
   "execution_count": 22
  },
  {
   "metadata": {},
   "cell_type": "markdown",
   "source": [
    "# Backward Fill\n",
    "# \n",
    "# We can also have Pandas fill data backward. When we fill data backward, the newest value (from top to bottom) is used to replace the missing data. In this way, missing values are replaced with the newest value."
   ],
   "id": "f24de8f38b30d2c3"
  },
  {
   "metadata": {
    "ExecuteTime": {
     "end_time": "2025-04-03T17:28:39.201213Z",
     "start_time": "2025-04-03T17:28:39.190521Z"
    }
   },
   "cell_type": "code",
   "source": "print(ebola.bfill().iloc[:, 0:5])",
   "id": "9b3608b78bde0f1a",
   "outputs": [
    {
     "name": "stdout",
     "output_type": "stream",
     "text": [
      "           Date  Day  Cases_Guinea  Cases_Liberia  Cases_SierraLeone\n",
      "0      1/5/2015  289        2776.0         8166.0            10030.0\n",
      "1      1/4/2015  288        2775.0         8166.0             9780.0\n",
      "2      1/3/2015  287        2769.0         8166.0             9722.0\n",
      "3      1/2/2015  286        2730.0         8157.0             9633.0\n",
      "4    12/31/2014  284        2730.0         8115.0             9633.0\n",
      "..          ...  ...           ...            ...                ...\n",
      "117   3/27/2014    5         103.0            8.0                6.0\n",
      "118   3/26/2014    4          86.0            NaN                NaN\n",
      "119   3/25/2014    3          86.0            NaN                NaN\n",
      "120   3/24/2014    2          86.0            NaN                NaN\n",
      "121   3/22/2014    0          49.0            NaN                NaN\n",
      "\n",
      "[122 rows x 5 columns]\n"
     ]
    }
   ],
   "execution_count": 23
  },
  {
   "metadata": {},
   "cell_type": "markdown",
   "source": [
    "# Interpolate\n",
    "# \n",
    "# Interpolation uses existing values to fill in missing values. There are many ways to fill in missing values, the interpolation in Pandas fills in missing values linearly. Specifically, it treats the missing values as if they should be equally spaced apart."
   ],
   "id": "3ed750f0ae837362"
  },
  {
   "metadata": {
    "ExecuteTime": {
     "end_time": "2025-04-03T18:23:48.380299Z",
     "start_time": "2025-04-03T18:23:48.366320Z"
    }
   },
   "cell_type": "code",
   "source": [
    "ebola = ebola.infer_objects(copy=False)  # Convert object columns to appropriate types\n",
    "print(ebola.interpolate().iloc[:, 0:5])  # Interpolate and print first 5 columns\n"
   ],
   "id": "9a4e270771efa61a",
   "outputs": [
    {
     "name": "stdout",
     "output_type": "stream",
     "text": [
      "           Date  Day  Cases_Guinea  Cases_Liberia  Cases_SierraLeone\n",
      "0      1/5/2015  289        2776.0            NaN            10030.0\n",
      "1      1/4/2015  288        2775.0            NaN             9780.0\n",
      "2      1/3/2015  287        2769.0         8166.0             9722.0\n",
      "3      1/2/2015  286        2749.5         8157.0             9677.5\n",
      "4    12/31/2014  284        2730.0         8115.0             9633.0\n",
      "..          ...  ...           ...            ...                ...\n",
      "117   3/27/2014    5         103.0            8.0                6.0\n",
      "118   3/26/2014    4          86.0            8.0                6.0\n",
      "119   3/25/2014    3          86.0            8.0                6.0\n",
      "120   3/24/2014    2          86.0            8.0                6.0\n",
      "121   3/22/2014    0          49.0            8.0                6.0\n",
      "\n",
      "[122 rows x 5 columns]\n"
     ]
    },
    {
     "name": "stderr",
     "output_type": "stream",
     "text": [
      "C:\\Users\\jaiku\\AppData\\Local\\Temp\\ipykernel_13356\\2705333186.py:2: FutureWarning: DataFrame.interpolate with object dtype is deprecated and will raise in a future version. Call obj.infer_objects(copy=False) before interpolating instead.\n",
      "  print(ebola.interpolate().iloc[:, 0:5])  # Interpolate and print first 5 columns\n"
     ]
    }
   ],
   "execution_count": 31
  },
  {
   "metadata": {},
   "cell_type": "code",
   "outputs": [],
   "execution_count": null,
   "source": "",
   "id": "f3796094fc6a4d5b"
  }
 ],
 "metadata": {
  "kernelspec": {
   "display_name": "Python 3",
   "language": "python",
   "name": "python3"
  },
  "language_info": {
   "codemirror_mode": {
    "name": "ipython",
    "version": 2
   },
   "file_extension": ".py",
   "mimetype": "text/x-python",
   "name": "python",
   "nbconvert_exporter": "python",
   "pygments_lexer": "ipython2",
   "version": "2.7.6"
  }
 },
 "nbformat": 4,
 "nbformat_minor": 5
}
