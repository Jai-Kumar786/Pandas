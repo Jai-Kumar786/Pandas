{
 "cells": [
  {
   "cell_type": "code",
   "id": "initial_id",
   "metadata": {
    "collapsed": true,
    "ExecuteTime": {
     "end_time": "2025-04-03T18:26:52.588116Z",
     "start_time": "2025-04-03T18:26:52.558823Z"
    }
   },
   "source": [
    "import numpy as np\n",
    "import pandas as pd\n",
    "import seaborn as sns\n",
    "\n",
    "tips = sns.load_dataset(\"tips\")\n",
    "#To get a list of the data types stored in each column of our dataframe, we call the dtypes attribute (Section 1.2).\n",
    "\n",
    "print(tips.dtypes)"
   ],
   "outputs": [
    {
     "name": "stdout",
     "output_type": "stream",
     "text": [
      "total_bill     float64\n",
      "tip            float64\n",
      "sex           category\n",
      "smoker        category\n",
      "day           category\n",
      "time          category\n",
      "size             int64\n",
      "dtype: object\n"
     ]
    }
   ],
   "execution_count": 1
  },
  {
   "metadata": {},
   "cell_type": "markdown",
   "source": "# Converting to String Objects",
   "id": "f3818d5c72436302"
  },
  {
   "metadata": {
    "ExecuteTime": {
     "end_time": "2025-04-03T18:27:37.770548Z",
     "start_time": "2025-04-03T18:27:37.761899Z"
    }
   },
   "cell_type": "code",
   "source": [
    "# convert the category sex column into a string dtype\n",
    "tips['sex_str'] = tips['sex'].astype(str)\n",
    "# Python has built-in str, float, int, complex, and bool types. However, you can also specify any dtype from the numpy library. If we look at the dtypes now, you will see the sex_str now has a dtype of object.\n",
    "\n",
    "print(tips.dtypes)"
   ],
   "id": "c5ec6bbac19e932c",
   "outputs": [
    {
     "name": "stdout",
     "output_type": "stream",
     "text": [
      "total_bill     float64\n",
      "tip            float64\n",
      "sex           category\n",
      "smoker        category\n",
      "day           category\n",
      "time          category\n",
      "size             int64\n",
      "sex_str         object\n",
      "dtype: object\n"
     ]
    }
   ],
   "execution_count": 2
  },
  {
   "metadata": {},
   "cell_type": "markdown",
   "source": "# Converting to Numeric Values",
   "id": "ed39efb82c93585f"
  },
  {
   "metadata": {
    "ExecuteTime": {
     "end_time": "2025-04-03T18:29:16.449017Z",
     "start_time": "2025-04-03T18:29:16.441289Z"
    }
   },
   "cell_type": "code",
   "source": [
    "# convert total_bill into a string\n",
    "tips['total_bill'] = tips['total_bill'].astype(str)\n",
    "print(tips.dtypes)"
   ],
   "id": "b0629f1c0e198bed",
   "outputs": [
    {
     "name": "stdout",
     "output_type": "stream",
     "text": [
      "total_bill      object\n",
      "tip            float64\n",
      "sex           category\n",
      "smoker        category\n",
      "day           category\n",
      "time          category\n",
      "size             int64\n",
      "sex_str         object\n",
      "dtype: object\n"
     ]
    }
   ],
   "execution_count": 3
  },
  {
   "metadata": {
    "ExecuteTime": {
     "end_time": "2025-04-03T18:29:38.879218Z",
     "start_time": "2025-04-03T18:29:38.872501Z"
    }
   },
   "cell_type": "code",
   "source": [
    "# convert it back to a float\n",
    "tips['total_bill'] = tips['total_bill'].astype(float)\n",
    "print(tips.dtypes)"
   ],
   "id": "3bd0b37662173ff7",
   "outputs": [
    {
     "name": "stdout",
     "output_type": "stream",
     "text": [
      "total_bill     float64\n",
      "tip            float64\n",
      "sex           category\n",
      "smoker        category\n",
      "day           category\n",
      "time          category\n",
      "size             int64\n",
      "sex_str         object\n",
      "dtype: object\n"
     ]
    }
   ],
   "execution_count": 4
  },
  {
   "metadata": {},
   "cell_type": "markdown",
   "source": "# The .to_numeric() Method",
   "id": "c56dcaa0a4472363"
  },
  {
   "metadata": {
    "ExecuteTime": {
     "end_time": "2025-04-03T18:32:18.387777Z",
     "start_time": "2025-04-03T18:32:18.376028Z"
    }
   },
   "cell_type": "code",
   "source": [
    "import numpy as np\n",
    "# subset the tips data\n",
    "tips_sub_miss = tips.head(10).copy()\n",
    "# assign some 'missing' values\n",
    "tips_sub_miss.loc[[1, 3, 5, 7], 'total_bill'] = np.nan\n",
    "print(tips_sub_miss)"
   ],
   "id": "8b6fe74ffab69673",
   "outputs": [
    {
     "name": "stdout",
     "output_type": "stream",
     "text": [
      "   total_bill   tip     sex smoker  day    time  size sex_str\n",
      "0       16.99  1.01  Female     No  Sun  Dinner     2  Female\n",
      "1         NaN  1.66    Male     No  Sun  Dinner     3    Male\n",
      "2       21.01  3.50    Male     No  Sun  Dinner     3    Male\n",
      "3         NaN  3.31    Male     No  Sun  Dinner     2    Male\n",
      "4       24.59  3.61  Female     No  Sun  Dinner     4  Female\n",
      "5         NaN  4.71    Male     No  Sun  Dinner     4    Male\n",
      "6        8.77  2.00    Male     No  Sun  Dinner     2    Male\n",
      "7         NaN  3.12    Male     No  Sun  Dinner     4    Male\n",
      "8       15.04  1.96    Male     No  Sun  Dinner     2    Male\n",
      "9       14.78  3.23    Male     No  Sun  Dinner     2    Male\n"
     ]
    }
   ],
   "execution_count": 7
  },
  {
   "metadata": {
    "ExecuteTime": {
     "end_time": "2025-04-03T18:32:39.760903Z",
     "start_time": "2025-04-03T18:32:39.755008Z"
    }
   },
   "cell_type": "code",
   "source": "print(tips_sub_miss.dtypes)",
   "id": "67bcac6345959bd5",
   "outputs": [
    {
     "name": "stdout",
     "output_type": "stream",
     "text": [
      "total_bill     float64\n",
      "tip            float64\n",
      "sex           category\n",
      "smoker        category\n",
      "day           category\n",
      "time          category\n",
      "size             int64\n",
      "sex_str         object\n",
      "dtype: object\n"
     ]
    }
   ],
   "execution_count": 8
  },
  {
   "metadata": {
    "ExecuteTime": {
     "end_time": "2025-04-03T18:33:51.853807Z",
     "start_time": "2025-04-03T18:33:51.843546Z"
    }
   },
   "cell_type": "code",
   "source": [
    "tips_sub_miss[\"total_bill\"] = pd.to_numeric(tips_sub_miss[\"total_bill\"], errors=\"coerce\"\n",
    ")\n",
    "\n",
    "print(tips_sub_miss)"
   ],
   "id": "c5b179f99199d10a",
   "outputs": [
    {
     "name": "stdout",
     "output_type": "stream",
     "text": [
      "   total_bill   tip     sex smoker  day    time  size sex_str\n",
      "0       16.99  1.01  Female     No  Sun  Dinner     2  Female\n",
      "1         NaN  1.66    Male     No  Sun  Dinner     3    Male\n",
      "2       21.01  3.50    Male     No  Sun  Dinner     3    Male\n",
      "3         NaN  3.31    Male     No  Sun  Dinner     2    Male\n",
      "4       24.59  3.61  Female     No  Sun  Dinner     4  Female\n",
      "5         NaN  4.71    Male     No  Sun  Dinner     4    Male\n",
      "6        8.77  2.00    Male     No  Sun  Dinner     2    Male\n",
      "7         NaN  3.12    Male     No  Sun  Dinner     4    Male\n",
      "8       15.04  1.96    Male     No  Sun  Dinner     2    Male\n",
      "9       14.78  3.23    Male     No  Sun  Dinner     2    Male\n"
     ]
    }
   ],
   "execution_count": 10
  },
  {
   "metadata": {
    "ExecuteTime": {
     "end_time": "2025-04-03T18:34:33.201931Z",
     "start_time": "2025-04-03T18:34:33.196167Z"
    }
   },
   "cell_type": "code",
   "source": "print(tips_sub_miss.dtypes)",
   "id": "c4a29f8d447d949b",
   "outputs": [
    {
     "name": "stdout",
     "output_type": "stream",
     "text": [
      "total_bill     float64\n",
      "tip            float64\n",
      "sex           category\n",
      "smoker        category\n",
      "day           category\n",
      "time          category\n",
      "size             int64\n",
      "sex_str         object\n",
      "dtype: object\n"
     ]
    }
   ],
   "execution_count": 11
  },
  {
   "metadata": {
    "ExecuteTime": {
     "end_time": "2025-04-03T18:34:52.021524Z",
     "start_time": "2025-04-03T18:34:52.010525Z"
    }
   },
   "cell_type": "code",
   "source": [
    "tips_sub_miss[\"total_bill\"]=pd.to_numeric(\n",
    "    tips_sub_miss[\"total_bill\"], errors=\"coerce\"\n",
    ")\n",
    "print(tips_sub_miss)"
   ],
   "id": "8a40c3fa8250f38",
   "outputs": [
    {
     "name": "stdout",
     "output_type": "stream",
     "text": [
      "   total_bill   tip     sex smoker  day    time  size sex_str\n",
      "0       16.99  1.01  Female     No  Sun  Dinner     2  Female\n",
      "1         NaN  1.66    Male     No  Sun  Dinner     3    Male\n",
      "2       21.01  3.50    Male     No  Sun  Dinner     3    Male\n",
      "3         NaN  3.31    Male     No  Sun  Dinner     2    Male\n",
      "4       24.59  3.61  Female     No  Sun  Dinner     4  Female\n",
      "5         NaN  4.71    Male     No  Sun  Dinner     4    Male\n",
      "6        8.77  2.00    Male     No  Sun  Dinner     2    Male\n",
      "7         NaN  3.12    Male     No  Sun  Dinner     4    Male\n",
      "8       15.04  1.96    Male     No  Sun  Dinner     2    Male\n",
      "9       14.78  3.23    Male     No  Sun  Dinner     2    Male\n"
     ]
    }
   ],
   "execution_count": 12
  },
  {
   "metadata": {
    "ExecuteTime": {
     "end_time": "2025-04-03T18:35:05.570064Z",
     "start_time": "2025-04-03T18:35:05.563680Z"
    }
   },
   "cell_type": "code",
   "source": "print(tips_sub_miss.dtypes)",
   "id": "621d21e17a005fec",
   "outputs": [
    {
     "name": "stdout",
     "output_type": "stream",
     "text": [
      "total_bill     float64\n",
      "tip            float64\n",
      "sex           category\n",
      "smoker        category\n",
      "day           category\n",
      "time          category\n",
      "size             int64\n",
      "sex_str         object\n",
      "dtype: object\n"
     ]
    }
   ],
   "execution_count": 13
  },
  {
   "metadata": {},
   "cell_type": "markdown",
   "source": "# Categorical Data",
   "id": "9150cf5a531c8fd1"
  },
  {
   "metadata": {},
   "cell_type": "markdown",
   "source": [
    "# Convert to Category\n",
    "# \n",
    "# To convert a column into a categorical type, we pass category into the .astype() method."
   ],
   "id": "9c6d30a7472a95b9"
  },
  {
   "metadata": {
    "ExecuteTime": {
     "end_time": "2025-04-03T18:36:15.195962Z",
     "start_time": "2025-04-03T18:36:15.179214Z"
    }
   },
   "cell_type": "code",
   "source": [
    "# convert the sex column into a string object first\n",
    "tips['sex'] = tips['sex'].astype('str')\n",
    "print(tips.info())"
   ],
   "id": "7320fd0ca265325b",
   "outputs": [
    {
     "name": "stdout",
     "output_type": "stream",
     "text": [
      "<class 'pandas.core.frame.DataFrame'>\n",
      "RangeIndex: 244 entries, 0 to 243\n",
      "Data columns (total 8 columns):\n",
      " #   Column      Non-Null Count  Dtype   \n",
      "---  ------      --------------  -----   \n",
      " 0   total_bill  244 non-null    float64 \n",
      " 1   tip         244 non-null    float64 \n",
      " 2   sex         244 non-null    object  \n",
      " 3   smoker      244 non-null    category\n",
      " 4   day         244 non-null    category\n",
      " 5   time        244 non-null    category\n",
      " 6   size        244 non-null    int64   \n",
      " 7   sex_str     244 non-null    object  \n",
      "dtypes: category(3), float64(2), int64(1), object(2)\n",
      "memory usage: 10.8+ KB\n",
      "None\n"
     ]
    }
   ],
   "execution_count": 14
  },
  {
   "metadata": {
    "ExecuteTime": {
     "end_time": "2025-04-03T18:36:55.387823Z",
     "start_time": "2025-04-03T18:36:55.376511Z"
    }
   },
   "cell_type": "code",
   "source": [
    "# convert the sex column back into categorical data\n",
    "tips['sex'] = tips['sex'].astype('category')\n",
    "print(tips.info())"
   ],
   "id": "2cd9b51d9b89aea7",
   "outputs": [
    {
     "name": "stdout",
     "output_type": "stream",
     "text": [
      "<class 'pandas.core.frame.DataFrame'>\n",
      "RangeIndex: 244 entries, 0 to 243\n",
      "Data columns (total 8 columns):\n",
      " #   Column      Non-Null Count  Dtype   \n",
      "---  ------      --------------  -----   \n",
      " 0   total_bill  244 non-null    float64 \n",
      " 1   tip         244 non-null    float64 \n",
      " 2   sex         244 non-null    category\n",
      " 3   smoker      244 non-null    category\n",
      " 4   day         244 non-null    category\n",
      " 5   time        244 non-null    category\n",
      " 6   size        244 non-null    int64   \n",
      " 7   sex_str     244 non-null    object  \n",
      "dtypes: category(4), float64(2), int64(1), object(1)\n",
      "memory usage: 9.3+ KB\n",
      "None\n"
     ]
    }
   ],
   "execution_count": 15
  },
  {
   "metadata": {},
   "cell_type": "markdown",
   "source": "# Manipulating Categorical Data",
   "id": "12690ba415caaf1f"
  },
  {
   "metadata": {},
   "cell_type": "code",
   "outputs": [
    {
     "name": "stdout",
     "output_type": "stream",
     "text": [
      "\n",
      "🔹 Employee Performance Data:\n",
      "   Employee Performance\n",
      "0    Alice        Good\n",
      "1      Bob   Excellent\n",
      "2  Charlie     Average\n",
      "3    David        Poor\n",
      "4      Eve        Good\n",
      "5    Frank     Average\n",
      "\n",
      "🔹 Category Codes:\n",
      " 0    2\n",
      "1    3\n",
      "2    1\n",
      "3    0\n",
      "4    2\n",
      "5    1\n",
      "dtype: int8\n",
      "\n",
      "🔹 Employees Sorted by Performance:\n",
      "   Employee Performance\n",
      "3    David        Poor\n",
      "2  Charlie     Average\n",
      "5    Frank     Average\n",
      "0    Alice        Good\n",
      "4      Eve        Good\n",
      "1      Bob   Excellent\n",
      "\n",
      "🔹 Is Alice better than David? False\n",
      "🔹 Is Charlie worse than Bob? True\n"
     ]
    }
   ],
   "execution_count": 16,
   "source": [
    "\n",
    "import pandas as pd\n",
    "\n",
    "# Create employee performance data\n",
    "data = pd.DataFrame({\n",
    "    \"Employee\": [\"Alice\", \"Bob\", \"Charlie\", \"David\", \"Eve\", \"Frank\"],\n",
    "    \"Performance\": [\"Good\", \"Excellent\", \"Average\", \"Poor\", \"Good\", \"Average\"]\n",
    "})\n",
    "\n",
    "# Define an ordered categorical type\n",
    "performance_order = [\"Poor\", \"Average\", \"Good\", \"Excellent\"]\n",
    "\n",
    "# Convert 'Performance' column to an ordered categorical type\n",
    "data[\"Performance\"] = pd.Categorical(data[\"Performance\"], categories=performance_order, ordered=True)\n",
    "\n",
    "# Display the dataset\n",
    "print(\"\\n🔹 Employee Performance Data:\\n\", data)\n",
    "\n",
    "# 🔹 Get category codes (numerical representation)\n",
    "print(\"\\n🔹 Category Codes:\\n\", data[\"Performance\"].cat.codes)\n",
    "\n",
    "# 🔹 Sort employees by performance\n",
    "sorted_data = data.sort_values(\"Performance\")\n",
    "print(\"\\n🔹 Employees Sorted by Performance:\\n\", sorted_data)\n",
    "\n",
    "# 🔹 Compare performance levels\n",
    "print(\"\\n🔹 Is Alice better than David?\", data.loc[0, \"Performance\"] > data.loc[3, \"Performance\"])  # Good > Poor\n",
    "print(\"🔹 Is Charlie worse than Bob?\", data.loc[2, \"Performance\"] < data.loc[1, \"Performance\"])  # Average < Excellent\n"
   ],
   "id": "f33d5524f4e2dc2b"
  },
  {
   "metadata": {},
   "cell_type": "markdown",
   "source": "![text](img_2.png)",
   "id": "29db115c76a9698c"
  },
  {
   "metadata": {},
   "cell_type": "code",
   "outputs": [],
   "execution_count": null,
   "source": "",
   "id": "98bd5948feafe9ae"
  }
 ],
 "metadata": {
  "kernelspec": {
   "display_name": "Python 3",
   "language": "python",
   "name": "python3"
  },
  "language_info": {
   "codemirror_mode": {
    "name": "ipython",
    "version": 2
   },
   "file_extension": ".py",
   "mimetype": "text/x-python",
   "name": "python",
   "nbconvert_exporter": "python",
   "pygments_lexer": "ipython2",
   "version": "2.7.6"
  }
 },
 "nbformat": 4,
 "nbformat_minor": 5
}
