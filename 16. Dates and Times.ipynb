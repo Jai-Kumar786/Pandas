{
 "cells": [
  {
   "metadata": {},
   "cell_type": "markdown",
   "source": [
    "# Python's datetime Object\n",
    "# Python has a built-in datetime object that is found in the datetime library."
   ],
   "id": "fbd7bb7809c13568"
  },
  {
   "metadata": {
    "ExecuteTime": {
     "end_time": "2025-04-04T07:23:16.870805Z",
     "start_time": "2025-04-04T07:23:16.863075Z"
    }
   },
   "cell_type": "code",
   "source": [
    "from datetime import datetime\n",
    "#We can use datetime to get the current date and time.\n",
    "\n",
    "now = datetime.now()\n",
    "print(f\"Last time this chapter was rendered for print: {now}\")"
   ],
   "id": "126e0718a7fbcfe4",
   "outputs": [
    {
     "name": "stdout",
     "output_type": "stream",
     "text": [
      "Last time this chapter was rendered for print: 2025-04-04 12:53:16.865093\n"
     ]
    }
   ],
   "execution_count": 1
  },
  {
   "metadata": {
    "ExecuteTime": {
     "end_time": "2025-04-04T07:23:40.679448Z",
     "start_time": "2025-04-04T07:23:40.673141Z"
    }
   },
   "cell_type": "code",
   "source": [
    "t1 = datetime.now()\n",
    "t2 = datetime(1970,1,1)\n",
    "#And we can do datetime math.\n",
    "\n",
    "diff = t1 - t2\n",
    "print(diff)"
   ],
   "id": "2888415facf61193",
   "outputs": [
    {
     "name": "stdout",
     "output_type": "stream",
     "text": [
      "20182 days, 12:53:40.675663\n"
     ]
    }
   ],
   "execution_count": 2
  },
  {
   "metadata": {
    "ExecuteTime": {
     "end_time": "2025-04-04T07:23:55.071073Z",
     "start_time": "2025-04-04T07:23:55.065892Z"
    }
   },
   "cell_type": "code",
   "source": "print(type(diff))",
   "id": "4848ff14c433a8a1",
   "outputs": [
    {
     "name": "stdout",
     "output_type": "stream",
     "text": [
      "<class 'datetime.timedelta'>\n"
     ]
    }
   ],
   "execution_count": 3
  },
  {
   "metadata": {},
   "cell_type": "markdown",
   "source": [
    "# Converting to datetime\n",
    "# Converting an object type into a datetime type is done with the to_datatime function. Let’s load up our Ebola data set and convert the Date column into a proper datetime object."
   ],
   "id": "f41093535dbb3f40"
  },
  {
   "metadata": {
    "ExecuteTime": {
     "end_time": "2025-04-04T07:25:24.397043Z",
     "start_time": "2025-04-04T07:25:24.375218Z"
    }
   },
   "cell_type": "code",
   "source": [
    "import pandas as pd\n",
    "ebola = pd.read_csv('country_timeseries.csv')\n",
    "\n",
    "# top left corner of the data\n",
    "print(ebola.iloc[:5, :5])"
   ],
   "id": "76a77631241795e1",
   "outputs": [
    {
     "name": "stdout",
     "output_type": "stream",
     "text": [
      "         Date  Day  Cases_Guinea  Cases_Liberia  Cases_SierraLeone\n",
      "0    1/5/2015  289        2776.0            NaN            10030.0\n",
      "1    1/4/2015  288        2775.0            NaN             9780.0\n",
      "2    1/3/2015  287        2769.0         8166.0             9722.0\n",
      "3    1/2/2015  286           NaN         8157.0                NaN\n",
      "4  12/31/2014  284        2730.0         8115.0             9633.0\n"
     ]
    }
   ],
   "execution_count": 5
  },
  {
   "metadata": {
    "ExecuteTime": {
     "end_time": "2025-04-04T07:25:35.500901Z",
     "start_time": "2025-04-04T07:25:35.485361Z"
    }
   },
   "cell_type": "code",
   "source": "print(ebola.info())",
   "id": "e842d8771a55b220",
   "outputs": [
    {
     "name": "stdout",
     "output_type": "stream",
     "text": [
      "<class 'pandas.core.frame.DataFrame'>\n",
      "RangeIndex: 122 entries, 0 to 121\n",
      "Data columns (total 18 columns):\n",
      " #   Column               Non-Null Count  Dtype  \n",
      "---  ------               --------------  -----  \n",
      " 0   Date                 122 non-null    object \n",
      " 1   Day                  122 non-null    int64  \n",
      " 2   Cases_Guinea         93 non-null     float64\n",
      " 3   Cases_Liberia        83 non-null     float64\n",
      " 4   Cases_SierraLeone    87 non-null     float64\n",
      " 5   Cases_Nigeria        38 non-null     float64\n",
      " 6   Cases_Senegal        25 non-null     float64\n",
      " 7   Cases_UnitedStates   18 non-null     float64\n",
      " 8   Cases_Spain          16 non-null     float64\n",
      " 9   Cases_Mali           12 non-null     float64\n",
      " 10  Deaths_Guinea        92 non-null     float64\n",
      " 11  Deaths_Liberia       81 non-null     float64\n",
      " 12  Deaths_SierraLeone   87 non-null     float64\n",
      " 13  Deaths_Nigeria       38 non-null     float64\n",
      " 14  Deaths_Senegal       22 non-null     float64\n",
      " 15  Deaths_UnitedStates  18 non-null     float64\n",
      " 16  Deaths_Spain         16 non-null     float64\n",
      " 17  Deaths_Mali          12 non-null     float64\n",
      "dtypes: float64(16), int64(1), object(1)\n",
      "memory usage: 17.3+ KB\n",
      "None\n"
     ]
    }
   ],
   "execution_count": 6
  },
  {
   "metadata": {
    "ExecuteTime": {
     "end_time": "2025-04-04T07:31:42.677138Z",
     "start_time": "2025-04-04T07:31:42.669934Z"
    }
   },
   "cell_type": "code",
   "source": "ebola['date_dt'] = pd.to_datetime(ebola['Date'])",
   "id": "df51db294102487d",
   "outputs": [],
   "execution_count": 8
  },
  {
   "metadata": {
    "ExecuteTime": {
     "end_time": "2025-04-04T07:31:54.345158Z",
     "start_time": "2025-04-04T07:31:54.259839Z"
    }
   },
   "cell_type": "code",
   "source": "ebola['date_dt'] = pd.to_datetime(ebola['Date'], format='%m /%d/%Y')",
   "id": "b8000ae6df2d9471",
   "outputs": [
    {
     "ename": "ValueError",
     "evalue": "time data \"1/5/2015\" doesn't match format \"%m /%d/%Y\", at position 0. You might want to try:\n    - passing `format` if your strings have a consistent format;\n    - passing `format='ISO8601'` if your strings are all ISO8601 but not necessarily in exactly the same format;\n    - passing `format='mixed'`, and the format will be inferred for each element individually. You might want to use `dayfirst` alongside this.",
     "output_type": "error",
     "traceback": [
      "\u001B[1;31m---------------------------------------------------------------------------\u001B[0m",
      "\u001B[1;31mValueError\u001B[0m                                Traceback (most recent call last)",
      "Cell \u001B[1;32mIn[9], line 1\u001B[0m\n\u001B[1;32m----> 1\u001B[0m ebola[\u001B[38;5;124m'\u001B[39m\u001B[38;5;124mdate_dt\u001B[39m\u001B[38;5;124m'\u001B[39m] \u001B[38;5;241m=\u001B[39m pd\u001B[38;5;241m.\u001B[39mto_datetime(ebola[\u001B[38;5;124m'\u001B[39m\u001B[38;5;124mDate\u001B[39m\u001B[38;5;124m'\u001B[39m], \u001B[38;5;28mformat\u001B[39m\u001B[38;5;241m=\u001B[39m\u001B[38;5;124m'\u001B[39m\u001B[38;5;124m%\u001B[39m\u001B[38;5;124mm /\u001B[39m\u001B[38;5;132;01m%d\u001B[39;00m\u001B[38;5;124m/\u001B[39m\u001B[38;5;124m%\u001B[39m\u001B[38;5;124mY\u001B[39m\u001B[38;5;124m'\u001B[39m)\n",
      "File \u001B[1;32m~\\anaconda3\\Lib\\site-packages\\pandas\\core\\tools\\datetimes.py:1067\u001B[0m, in \u001B[0;36mto_datetime\u001B[1;34m(arg, errors, dayfirst, yearfirst, utc, format, exact, unit, infer_datetime_format, origin, cache)\u001B[0m\n\u001B[0;32m   1065\u001B[0m         result \u001B[38;5;241m=\u001B[39m arg\u001B[38;5;241m.\u001B[39mmap(cache_array)\n\u001B[0;32m   1066\u001B[0m     \u001B[38;5;28;01melse\u001B[39;00m:\n\u001B[1;32m-> 1067\u001B[0m         values \u001B[38;5;241m=\u001B[39m convert_listlike(arg\u001B[38;5;241m.\u001B[39m_values, \u001B[38;5;28mformat\u001B[39m)\n\u001B[0;32m   1068\u001B[0m         result \u001B[38;5;241m=\u001B[39m arg\u001B[38;5;241m.\u001B[39m_constructor(values, index\u001B[38;5;241m=\u001B[39marg\u001B[38;5;241m.\u001B[39mindex, name\u001B[38;5;241m=\u001B[39marg\u001B[38;5;241m.\u001B[39mname)\n\u001B[0;32m   1069\u001B[0m \u001B[38;5;28;01melif\u001B[39;00m \u001B[38;5;28misinstance\u001B[39m(arg, (ABCDataFrame, abc\u001B[38;5;241m.\u001B[39mMutableMapping)):\n",
      "File \u001B[1;32m~\\anaconda3\\Lib\\site-packages\\pandas\\core\\tools\\datetimes.py:433\u001B[0m, in \u001B[0;36m_convert_listlike_datetimes\u001B[1;34m(arg, format, name, utc, unit, errors, dayfirst, yearfirst, exact)\u001B[0m\n\u001B[0;32m    431\u001B[0m \u001B[38;5;66;03m# `format` could be inferred, or user didn't ask for mixed-format parsing.\u001B[39;00m\n\u001B[0;32m    432\u001B[0m \u001B[38;5;28;01mif\u001B[39;00m \u001B[38;5;28mformat\u001B[39m \u001B[38;5;129;01mis\u001B[39;00m \u001B[38;5;129;01mnot\u001B[39;00m \u001B[38;5;28;01mNone\u001B[39;00m \u001B[38;5;129;01mand\u001B[39;00m \u001B[38;5;28mformat\u001B[39m \u001B[38;5;241m!=\u001B[39m \u001B[38;5;124m\"\u001B[39m\u001B[38;5;124mmixed\u001B[39m\u001B[38;5;124m\"\u001B[39m:\n\u001B[1;32m--> 433\u001B[0m     \u001B[38;5;28;01mreturn\u001B[39;00m _array_strptime_with_fallback(arg, name, utc, \u001B[38;5;28mformat\u001B[39m, exact, errors)\n\u001B[0;32m    435\u001B[0m result, tz_parsed \u001B[38;5;241m=\u001B[39m objects_to_datetime64(\n\u001B[0;32m    436\u001B[0m     arg,\n\u001B[0;32m    437\u001B[0m     dayfirst\u001B[38;5;241m=\u001B[39mdayfirst,\n\u001B[1;32m   (...)\u001B[0m\n\u001B[0;32m    441\u001B[0m     allow_object\u001B[38;5;241m=\u001B[39m\u001B[38;5;28;01mTrue\u001B[39;00m,\n\u001B[0;32m    442\u001B[0m )\n\u001B[0;32m    444\u001B[0m \u001B[38;5;28;01mif\u001B[39;00m tz_parsed \u001B[38;5;129;01mis\u001B[39;00m \u001B[38;5;129;01mnot\u001B[39;00m \u001B[38;5;28;01mNone\u001B[39;00m:\n\u001B[0;32m    445\u001B[0m     \u001B[38;5;66;03m# We can take a shortcut since the datetime64 numpy array\u001B[39;00m\n\u001B[0;32m    446\u001B[0m     \u001B[38;5;66;03m# is in UTC\u001B[39;00m\n",
      "File \u001B[1;32m~\\anaconda3\\Lib\\site-packages\\pandas\\core\\tools\\datetimes.py:467\u001B[0m, in \u001B[0;36m_array_strptime_with_fallback\u001B[1;34m(arg, name, utc, fmt, exact, errors)\u001B[0m\n\u001B[0;32m    456\u001B[0m \u001B[38;5;28;01mdef\u001B[39;00m \u001B[38;5;21m_array_strptime_with_fallback\u001B[39m(\n\u001B[0;32m    457\u001B[0m     arg,\n\u001B[0;32m    458\u001B[0m     name,\n\u001B[1;32m   (...)\u001B[0m\n\u001B[0;32m    462\u001B[0m     errors: \u001B[38;5;28mstr\u001B[39m,\n\u001B[0;32m    463\u001B[0m ) \u001B[38;5;241m-\u001B[39m\u001B[38;5;241m>\u001B[39m Index:\n\u001B[0;32m    464\u001B[0m \u001B[38;5;250m    \u001B[39m\u001B[38;5;124;03m\"\"\"\u001B[39;00m\n\u001B[0;32m    465\u001B[0m \u001B[38;5;124;03m    Call array_strptime, with fallback behavior depending on 'errors'.\u001B[39;00m\n\u001B[0;32m    466\u001B[0m \u001B[38;5;124;03m    \"\"\"\u001B[39;00m\n\u001B[1;32m--> 467\u001B[0m     result, tz_out \u001B[38;5;241m=\u001B[39m array_strptime(arg, fmt, exact\u001B[38;5;241m=\u001B[39mexact, errors\u001B[38;5;241m=\u001B[39merrors, utc\u001B[38;5;241m=\u001B[39mutc)\n\u001B[0;32m    468\u001B[0m     \u001B[38;5;28;01mif\u001B[39;00m tz_out \u001B[38;5;129;01mis\u001B[39;00m \u001B[38;5;129;01mnot\u001B[39;00m \u001B[38;5;28;01mNone\u001B[39;00m:\n\u001B[0;32m    469\u001B[0m         unit \u001B[38;5;241m=\u001B[39m np\u001B[38;5;241m.\u001B[39mdatetime_data(result\u001B[38;5;241m.\u001B[39mdtype)[\u001B[38;5;241m0\u001B[39m]\n",
      "File \u001B[1;32mstrptime.pyx:501\u001B[0m, in \u001B[0;36mpandas._libs.tslibs.strptime.array_strptime\u001B[1;34m()\u001B[0m\n",
      "File \u001B[1;32mstrptime.pyx:451\u001B[0m, in \u001B[0;36mpandas._libs.tslibs.strptime.array_strptime\u001B[1;34m()\u001B[0m\n",
      "File \u001B[1;32mstrptime.pyx:583\u001B[0m, in \u001B[0;36mpandas._libs.tslibs.strptime._parse_with_format\u001B[1;34m()\u001B[0m\n",
      "\u001B[1;31mValueError\u001B[0m: time data \"1/5/2015\" doesn't match format \"%m /%d/%Y\", at position 0. You might want to try:\n    - passing `format` if your strings have a consistent format;\n    - passing `format='ISO8601'` if your strings are all ISO8601 but not necessarily in exactly the same format;\n    - passing `format='mixed'`, and the format will be inferred for each element individually. You might want to use `dayfirst` alongside this."
     ]
    }
   ],
   "execution_count": 9
  },
  {
   "metadata": {
    "ExecuteTime": {
     "end_time": "2025-04-04T07:32:08.392678Z",
     "start_time": "2025-04-04T07:32:08.380421Z"
    }
   },
   "cell_type": "code",
   "source": "print(ebola.info())",
   "id": "62d195cbff79e169",
   "outputs": [
    {
     "name": "stdout",
     "output_type": "stream",
     "text": [
      "<class 'pandas.core.frame.DataFrame'>\n",
      "RangeIndex: 122 entries, 0 to 121\n",
      "Data columns (total 19 columns):\n",
      " #   Column               Non-Null Count  Dtype         \n",
      "---  ------               --------------  -----         \n",
      " 0   Date                 122 non-null    object        \n",
      " 1   Day                  122 non-null    int64         \n",
      " 2   Cases_Guinea         93 non-null     float64       \n",
      " 3   Cases_Liberia        83 non-null     float64       \n",
      " 4   Cases_SierraLeone    87 non-null     float64       \n",
      " 5   Cases_Nigeria        38 non-null     float64       \n",
      " 6   Cases_Senegal        25 non-null     float64       \n",
      " 7   Cases_UnitedStates   18 non-null     float64       \n",
      " 8   Cases_Spain          16 non-null     float64       \n",
      " 9   Cases_Mali           12 non-null     float64       \n",
      " 10  Deaths_Guinea        92 non-null     float64       \n",
      " 11  Deaths_Liberia       81 non-null     float64       \n",
      " 12  Deaths_SierraLeone   87 non-null     float64       \n",
      " 13  Deaths_Nigeria       38 non-null     float64       \n",
      " 14  Deaths_Senegal       22 non-null     float64       \n",
      " 15  Deaths_UnitedStates  18 non-null     float64       \n",
      " 16  Deaths_Spain         16 non-null     float64       \n",
      " 17  Deaths_Mali          12 non-null     float64       \n",
      " 18  date_dt              122 non-null    datetime64[ns]\n",
      "dtypes: datetime64[ns](1), float64(16), int64(1), object(1)\n",
      "memory usage: 18.2+ KB\n",
      "None\n"
     ]
    }
   ],
   "execution_count": 10
  },
  {
   "metadata": {},
   "cell_type": "markdown",
   "source": "# Loading Data That Include Dates",
   "id": "6d1377c420df574b"
  },
  {
   "metadata": {
    "ExecuteTime": {
     "end_time": "2025-04-04T07:33:39.622310Z",
     "start_time": "2025-04-04T07:33:39.605709Z"
    }
   },
   "cell_type": "code",
   "source": [
    "ebola = pd.read_csv('country_timeseries.csv', parse_dates=[\"Date\"])\n",
    "print(ebola.info())"
   ],
   "id": "7165732719bad0a8",
   "outputs": [
    {
     "name": "stdout",
     "output_type": "stream",
     "text": [
      "<class 'pandas.core.frame.DataFrame'>\n",
      "RangeIndex: 122 entries, 0 to 121\n",
      "Data columns (total 18 columns):\n",
      " #   Column               Non-Null Count  Dtype         \n",
      "---  ------               --------------  -----         \n",
      " 0   Date                 122 non-null    datetime64[ns]\n",
      " 1   Day                  122 non-null    int64         \n",
      " 2   Cases_Guinea         93 non-null     float64       \n",
      " 3   Cases_Liberia        83 non-null     float64       \n",
      " 4   Cases_SierraLeone    87 non-null     float64       \n",
      " 5   Cases_Nigeria        38 non-null     float64       \n",
      " 6   Cases_Senegal        25 non-null     float64       \n",
      " 7   Cases_UnitedStates   18 non-null     float64       \n",
      " 8   Cases_Spain          16 non-null     float64       \n",
      " 9   Cases_Mali           12 non-null     float64       \n",
      " 10  Deaths_Guinea        92 non-null     float64       \n",
      " 11  Deaths_Liberia       81 non-null     float64       \n",
      " 12  Deaths_SierraLeone   87 non-null     float64       \n",
      " 13  Deaths_Nigeria       38 non-null     float64       \n",
      " 14  Deaths_Senegal       22 non-null     float64       \n",
      " 15  Deaths_UnitedStates  18 non-null     float64       \n",
      " 16  Deaths_Spain         16 non-null     float64       \n",
      " 17  Deaths_Mali          12 non-null     float64       \n",
      "dtypes: datetime64[ns](1), float64(16), int64(1)\n",
      "memory usage: 17.3 KB\n",
      "None\n"
     ]
    }
   ],
   "execution_count": 12
  },
  {
   "metadata": {},
   "cell_type": "markdown",
   "source": "# Extracting Date Components",
   "id": "bfae1be9e328a08c"
  },
  {
   "metadata": {},
   "cell_type": "code",
   "outputs": [
    {
     "name": "stdout",
     "output_type": "stream",
     "text": [
      "2021-12-14 00:00:00\n"
     ]
    }
   ],
   "execution_count": 14,
   "source": [
    "\n",
    "d = pd.to_datetime('2021-12-14')\n",
    "print(d)"
   ],
   "id": "f70a8442b69817c3"
  },
  {
   "metadata": {
    "ExecuteTime": {
     "end_time": "2025-04-04T07:36:35.909150Z",
     "start_time": "2025-04-04T07:36:35.903333Z"
    }
   },
   "cell_type": "code",
   "source": "print(type(d))",
   "id": "5d71f1b505d9a5c8",
   "outputs": [
    {
     "name": "stdout",
     "output_type": "stream",
     "text": [
      "<class 'pandas._libs.tslibs.timestamps.Timestamp'>\n"
     ]
    }
   ],
   "execution_count": 15
  },
  {
   "metadata": {
    "ExecuteTime": {
     "end_time": "2025-04-04T07:36:46.255553Z",
     "start_time": "2025-04-04T07:36:46.249636Z"
    }
   },
   "cell_type": "code",
   "source": "print(d.year)",
   "id": "d3893fe28c7d2639",
   "outputs": [
    {
     "name": "stdout",
     "output_type": "stream",
     "text": [
      "2021\n"
     ]
    }
   ],
   "execution_count": 16
  },
  {
   "metadata": {
    "ExecuteTime": {
     "end_time": "2025-04-04T07:36:58.952730Z",
     "start_time": "2025-04-04T07:36:58.947133Z"
    }
   },
   "cell_type": "code",
   "source": "print(d.month)",
   "id": "ca04ff6ce256929b",
   "outputs": [
    {
     "name": "stdout",
     "output_type": "stream",
     "text": [
      "12\n"
     ]
    }
   ],
   "execution_count": 17
  },
  {
   "metadata": {
    "ExecuteTime": {
     "end_time": "2025-04-04T07:37:06.954273Z",
     "start_time": "2025-04-04T07:37:06.948863Z"
    }
   },
   "cell_type": "code",
   "source": "print(d.day)",
   "id": "aff7009662902578",
   "outputs": [
    {
     "name": "stdout",
     "output_type": "stream",
     "text": [
      "14\n"
     ]
    }
   ],
   "execution_count": 18
  },
  {
   "metadata": {
    "ExecuteTime": {
     "end_time": "2025-04-04T07:37:30.517796Z",
     "start_time": "2025-04-04T07:37:30.512023Z"
    }
   },
   "cell_type": "code",
   "source": "ebola['date_dt'] = pd.to_datetime(ebola['Date'])",
   "id": "833b17d70c6b154e",
   "outputs": [],
   "execution_count": 19
  },
  {
   "metadata": {
    "ExecuteTime": {
     "end_time": "2025-04-04T07:37:42.887379Z",
     "start_time": "2025-04-04T07:37:42.879328Z"
    }
   },
   "cell_type": "code",
   "source": "print(ebola[['Date', 'date_dt']])",
   "id": "1e820575993c85bf",
   "outputs": [
    {
     "name": "stdout",
     "output_type": "stream",
     "text": [
      "          Date    date_dt\n",
      "0   2015-01-05 2015-01-05\n",
      "1   2015-01-04 2015-01-04\n",
      "2   2015-01-03 2015-01-03\n",
      "3   2015-01-02 2015-01-02\n",
      "4   2014-12-31 2014-12-31\n",
      "..         ...        ...\n",
      "117 2014-03-27 2014-03-27\n",
      "118 2014-03-26 2014-03-26\n",
      "119 2014-03-25 2014-03-25\n",
      "120 2014-03-24 2014-03-24\n",
      "121 2014-03-22 2014-03-22\n",
      "\n",
      "[122 rows x 2 columns]\n"
     ]
    }
   ],
   "execution_count": 20
  },
  {
   "metadata": {
    "ExecuteTime": {
     "end_time": "2025-04-04T07:38:07.452232Z",
     "start_time": "2025-04-04T07:38:07.442364Z"
    }
   },
   "cell_type": "code",
   "source": [
    "ebola['year'] = ebola['date_dt'].dt.year\n",
    "print(ebola[['Date', 'date_dt', 'year']])"
   ],
   "id": "64711bb20410cdf6",
   "outputs": [
    {
     "name": "stdout",
     "output_type": "stream",
     "text": [
      "          Date    date_dt  year\n",
      "0   2015-01-05 2015-01-05  2015\n",
      "1   2015-01-04 2015-01-04  2015\n",
      "2   2015-01-03 2015-01-03  2015\n",
      "3   2015-01-02 2015-01-02  2015\n",
      "4   2014-12-31 2014-12-31  2014\n",
      "..         ...        ...   ...\n",
      "117 2014-03-27 2014-03-27  2014\n",
      "118 2014-03-26 2014-03-26  2014\n",
      "119 2014-03-25 2014-03-25  2014\n",
      "120 2014-03-24 2014-03-24  2014\n",
      "121 2014-03-22 2014-03-22  2014\n",
      "\n",
      "[122 rows x 3 columns]\n"
     ]
    }
   ],
   "execution_count": 21
  },
  {
   "metadata": {
    "ExecuteTime": {
     "end_time": "2025-04-04T07:39:59.877238Z",
     "start_time": "2025-04-04T07:39:59.864567Z"
    }
   },
   "cell_type": "code",
   "source": [
    "ebola = ebola.assign(\n",
    "    month=ebola[\"date_dt\"].dt.month,\n",
    "    day=ebola[\"date_dt\"].dt.day\n",
    ")\n",
    "print(ebola[['Date', 'date_dt', 'year', 'month', 'day']])"
   ],
   "id": "dbf0f1492065fe2d",
   "outputs": [
    {
     "name": "stdout",
     "output_type": "stream",
     "text": [
      "          Date    date_dt  year  month  day\n",
      "0   2015-01-05 2015-01-05  2015      1    5\n",
      "1   2015-01-04 2015-01-04  2015      1    4\n",
      "2   2015-01-03 2015-01-03  2015      1    3\n",
      "3   2015-01-02 2015-01-02  2015      1    2\n",
      "4   2014-12-31 2014-12-31  2014     12   31\n",
      "..         ...        ...   ...    ...  ...\n",
      "117 2014-03-27 2014-03-27  2014      3   27\n",
      "118 2014-03-26 2014-03-26  2014      3   26\n",
      "119 2014-03-25 2014-03-25  2014      3   25\n",
      "120 2014-03-24 2014-03-24  2014      3   24\n",
      "121 2014-03-22 2014-03-22  2014      3   22\n",
      "\n",
      "[122 rows x 5 columns]\n"
     ]
    }
   ],
   "execution_count": 22
  },
  {
   "metadata": {
    "ExecuteTime": {
     "end_time": "2025-04-04T07:40:17.534229Z",
     "start_time": "2025-04-04T07:40:17.523973Z"
    }
   },
   "cell_type": "code",
   "source": "print(ebola.info())",
   "id": "f792190fa0cf3d97",
   "outputs": [
    {
     "name": "stdout",
     "output_type": "stream",
     "text": [
      "<class 'pandas.core.frame.DataFrame'>\n",
      "RangeIndex: 122 entries, 0 to 121\n",
      "Data columns (total 22 columns):\n",
      " #   Column               Non-Null Count  Dtype         \n",
      "---  ------               --------------  -----         \n",
      " 0   Date                 122 non-null    datetime64[ns]\n",
      " 1   Day                  122 non-null    int64         \n",
      " 2   Cases_Guinea         93 non-null     float64       \n",
      " 3   Cases_Liberia        83 non-null     float64       \n",
      " 4   Cases_SierraLeone    87 non-null     float64       \n",
      " 5   Cases_Nigeria        38 non-null     float64       \n",
      " 6   Cases_Senegal        25 non-null     float64       \n",
      " 7   Cases_UnitedStates   18 non-null     float64       \n",
      " 8   Cases_Spain          16 non-null     float64       \n",
      " 9   Cases_Mali           12 non-null     float64       \n",
      " 10  Deaths_Guinea        92 non-null     float64       \n",
      " 11  Deaths_Liberia       81 non-null     float64       \n",
      " 12  Deaths_SierraLeone   87 non-null     float64       \n",
      " 13  Deaths_Nigeria       38 non-null     float64       \n",
      " 14  Deaths_Senegal       22 non-null     float64       \n",
      " 15  Deaths_UnitedStates  18 non-null     float64       \n",
      " 16  Deaths_Spain         16 non-null     float64       \n",
      " 17  Deaths_Mali          12 non-null     float64       \n",
      " 18  date_dt              122 non-null    datetime64[ns]\n",
      " 19  year                 122 non-null    int32         \n",
      " 20  month                122 non-null    int32         \n",
      " 21  day                  122 non-null    int32         \n",
      "dtypes: datetime64[ns](2), float64(16), int32(3), int64(1)\n",
      "memory usage: 19.7 KB\n",
      "None\n"
     ]
    }
   ],
   "execution_count": 23
  },
  {
   "metadata": {},
   "cell_type": "markdown",
   "source": "# Datetime Methods",
   "id": "6eb46a5669aa719a"
  },
  {
   "metadata": {
    "ExecuteTime": {
     "end_time": "2025-04-04T07:43:55.123269Z",
     "start_time": "2025-04-04T07:43:55.110926Z"
    }
   },
   "cell_type": "code",
   "source": [
    "banks = pd.read_csv('banklist.csv')\n",
    "print(banks.head())"
   ],
   "id": "2b61f31c87099c8e",
   "outputs": [
    {
     "name": "stdout",
     "output_type": "stream",
     "text": [
      "                                           Bank Name                City  ST  \\\n",
      "0                                Fayette County Bank          Saint Elmo  IL   \n",
      "1  Guaranty Bank, (d/b/a BestBank in Georgia & Mi...           Milwaukee  WI   \n",
      "2                                     First NBC Bank         New Orleans  LA   \n",
      "3                                      Proficio Bank  Cottonwood Heights  UT   \n",
      "4                      Seaway Bank and Trust Company             Chicago  IL   \n",
      "\n",
      "    CERT                Acquiring Institution Closing Date Updated Date  \n",
      "0   1802            United Fidelity Bank, fsb    26-May-17    26-Jul-17  \n",
      "1  30003  First-Citizens Bank & Trust Company     5-May-17    26-Jul-17  \n",
      "2  58302                         Whitney Bank    28-Apr-17    26-Jul-17  \n",
      "3  35495                    Cache Valley Bank     3-Mar-17    18-May-17  \n",
      "4  19328                  State Bank of Texas    27-Jan-17    18-May-17  \n"
     ]
    }
   ],
   "execution_count": 24
  },
  {
   "metadata": {
    "ExecuteTime": {
     "end_time": "2025-04-04T07:44:17.627742Z",
     "start_time": "2025-04-04T07:44:17.534009Z"
    }
   },
   "cell_type": "code",
   "source": [
    "banks = pd.read_csv(\n",
    "  \"banklist.csv\", parse_dates=[\"Closing Date\", \"Updated Date\"]\n",
    ")\n",
    "\n",
    "print(banks.info())"
   ],
   "id": "25595c597d2b69d1",
   "outputs": [
    {
     "name": "stdout",
     "output_type": "stream",
     "text": [
      "<class 'pandas.core.frame.DataFrame'>\n",
      "RangeIndex: 553 entries, 0 to 552\n",
      "Data columns (total 7 columns):\n",
      " #   Column                 Non-Null Count  Dtype         \n",
      "---  ------                 --------------  -----         \n",
      " 0   Bank Name              553 non-null    object        \n",
      " 1   City                   553 non-null    object        \n",
      " 2   ST                     553 non-null    object        \n",
      " 3   CERT                   553 non-null    int64         \n",
      " 4   Acquiring Institution  553 non-null    object        \n",
      " 5   Closing Date           553 non-null    datetime64[ns]\n",
      " 6   Updated Date           553 non-null    datetime64[ns]\n",
      "dtypes: datetime64[ns](2), int64(1), object(4)\n",
      "memory usage: 30.4+ KB\n",
      "None\n"
     ]
    },
    {
     "name": "stderr",
     "output_type": "stream",
     "text": [
      "C:\\Users\\jaiku\\AppData\\Local\\Temp\\ipykernel_2696\\2448635747.py:1: UserWarning: Could not infer format, so each element will be parsed individually, falling back to `dateutil`. To ensure parsing is consistent and as-expected, please specify a format.\n",
      "  banks = pd.read_csv(\n",
      "C:\\Users\\jaiku\\AppData\\Local\\Temp\\ipykernel_2696\\2448635747.py:1: UserWarning: Could not infer format, so each element will be parsed individually, falling back to `dateutil`. To ensure parsing is consistent and as-expected, please specify a format.\n",
      "  banks = pd.read_csv(\n"
     ]
    }
   ],
   "execution_count": 25
  },
  {
   "metadata": {
    "ExecuteTime": {
     "end_time": "2025-04-04T08:01:07.583969Z",
     "start_time": "2025-04-04T08:01:07.574247Z"
    }
   },
   "cell_type": "code",
   "source": [
    "# We can parse out the date by obtaining the quarter and year in which the bank closed.\n",
    "banks = banks.assign(\n",
    "  closing_quarter=banks['Closing Date'].dt.quarter,\n",
    "  closing_year=banks['Closing Date'].dt.year\n",
    ")\n",
    "closing_year = banks.groupby(['closing_year']).size()"
   ],
   "id": "502d92310b8d25d5",
   "outputs": [],
   "execution_count": 26
  },
  {
   "metadata": {
    "ExecuteTime": {
     "end_time": "2025-04-04T08:01:21.592880Z",
     "start_time": "2025-04-04T08:01:21.586156Z"
    }
   },
   "cell_type": "code",
   "source": [
    "# Alternatively, we can calculate how many banks closed in each quarter of each year.\n",
    "closing_year_q = (\n",
    "  banks\n",
    "  .groupby(['closing_year', 'closing_quarter'])\n",
    "  .size()\n",
    ")"
   ],
   "id": "7b95a5ad83c76c02",
   "outputs": [],
   "execution_count": 27
  },
  {
   "metadata": {
    "ExecuteTime": {
     "end_time": "2025-04-04T08:02:05.084393Z",
     "start_time": "2025-04-04T08:02:04.564452Z"
    }
   },
   "cell_type": "code",
   "source": [
    "import matplotlib.pyplot as plt\n",
    "\n",
    "fig, ax = plt.subplots()\n",
    "ax = closing_year.plot()\n",
    "plt.show()\n",
    "fig, ax = plt.subplots()\n",
    "ax = closing_year_q.plot()\n",
    "plt.show()"
   ],
   "id": "705de0b8a740058e",
   "outputs": [
    {
     "data": {
      "text/plain": [
       "<Figure size 640x480 with 1 Axes>"
      ],
      "image/png": "[encoded data removed]"
     },
     "metadata": {},
     "output_type": "display_data"
    },
    {
     "data": {
      "text/plain": [
       "<Figure size 640x480 with 1 Axes>"
      ],
      "image/png": "[encoded data removed]"
     },
     "metadata": {},
     "output_type": "display_data"
    }
   ],
   "execution_count": 28
  },
  {
   "metadata": {},
   "cell_type": "markdown",
   "source": "# Date Calculations and Timedeltas",
   "id": "30ed8d53bb397a6e"
  },
  {
   "metadata": {
    "ExecuteTime": {
     "end_time": "2025-04-04T08:04:45.438725Z",
     "start_time": "2025-04-04T08:04:45.429886Z"
    }
   },
   "cell_type": "code",
   "source": "print(ebola.iloc[ -5:, :5])",
   "id": "8314201411a03656",
   "outputs": [
    {
     "name": "stdout",
     "output_type": "stream",
     "text": [
      "          Date  Day  Cases_Guinea  Cases_Liberia  Cases_SierraLeone\n",
      "117 2014-03-27    5         103.0            8.0                6.0\n",
      "118 2014-03-26    4          86.0            NaN                NaN\n",
      "119 2014-03-25    3          86.0            NaN                NaN\n",
      "120 2014-03-24    2          86.0            NaN                NaN\n",
      "121 2014-03-22    0          49.0            NaN                NaN\n"
     ]
    }
   ],
   "execution_count": 29
  },
  {
   "metadata": {
    "ExecuteTime": {
     "end_time": "2025-04-04T08:04:55.860598Z",
     "start_time": "2025-04-04T08:04:55.854194Z"
    }
   },
   "cell_type": "code",
   "source": "print(ebola['date_dt'].min())",
   "id": "6441078f47729385",
   "outputs": [
    {
     "name": "stdout",
     "output_type": "stream",
     "text": [
      "2014-03-22 00:00:00\n"
     ]
    }
   ],
   "execution_count": 30
  },
  {
   "metadata": {
    "ExecuteTime": {
     "end_time": "2025-04-04T08:05:10.438561Z",
     "start_time": "2025-04-04T08:05:10.427745Z"
    }
   },
   "cell_type": "code",
   "source": [
    "ebola['outbreak_d'] = ebola['date_dt'] - ebola['date_dt'].min()\n",
    "print(ebola[['Date', 'Day', 'outbreak_d']])"
   ],
   "id": "c2fbe44648843f0c",
   "outputs": [
    {
     "name": "stdout",
     "output_type": "stream",
     "text": [
      "          Date  Day outbreak_d\n",
      "0   2015-01-05  289   289 days\n",
      "1   2015-01-04  288   288 days\n",
      "2   2015-01-03  287   287 days\n",
      "3   2015-01-02  286   286 days\n",
      "4   2014-12-31  284   284 days\n",
      "..         ...  ...        ...\n",
      "117 2014-03-27    5     5 days\n",
      "118 2014-03-26    4     4 days\n",
      "119 2014-03-25    3     3 days\n",
      "120 2014-03-24    2     2 days\n",
      "121 2014-03-22    0     0 days\n",
      "\n",
      "[122 rows x 3 columns]\n"
     ]
    }
   ],
   "execution_count": 31
  },
  {
   "metadata": {
    "ExecuteTime": {
     "end_time": "2025-04-04T08:05:25.777656Z",
     "start_time": "2025-04-04T08:05:25.766544Z"
    }
   },
   "cell_type": "code",
   "source": [
    "print(ebola.info())\n",
    "#We get timedelta objects as results when we perform calculations with datetime objects."
   ],
   "id": "b60336e9b9204c31",
   "outputs": [
    {
     "name": "stdout",
     "output_type": "stream",
     "text": [
      "<class 'pandas.core.frame.DataFrame'>\n",
      "RangeIndex: 122 entries, 0 to 121\n",
      "Data columns (total 23 columns):\n",
      " #   Column               Non-Null Count  Dtype          \n",
      "---  ------               --------------  -----          \n",
      " 0   Date                 122 non-null    datetime64[ns] \n",
      " 1   Day                  122 non-null    int64          \n",
      " 2   Cases_Guinea         93 non-null     float64        \n",
      " 3   Cases_Liberia        83 non-null     float64        \n",
      " 4   Cases_SierraLeone    87 non-null     float64        \n",
      " 5   Cases_Nigeria        38 non-null     float64        \n",
      " 6   Cases_Senegal        25 non-null     float64        \n",
      " 7   Cases_UnitedStates   18 non-null     float64        \n",
      " 8   Cases_Spain          16 non-null     float64        \n",
      " 9   Cases_Mali           12 non-null     float64        \n",
      " 10  Deaths_Guinea        92 non-null     float64        \n",
      " 11  Deaths_Liberia       81 non-null     float64        \n",
      " 12  Deaths_SierraLeone   87 non-null     float64        \n",
      " 13  Deaths_Nigeria       38 non-null     float64        \n",
      " 14  Deaths_Senegal       22 non-null     float64        \n",
      " 15  Deaths_UnitedStates  18 non-null     float64        \n",
      " 16  Deaths_Spain         16 non-null     float64        \n",
      " 17  Deaths_Mali          12 non-null     float64        \n",
      " 18  date_dt              122 non-null    datetime64[ns] \n",
      " 19  year                 122 non-null    int32          \n",
      " 20  month                122 non-null    int32          \n",
      " 21  day                  122 non-null    int32          \n",
      " 22  outbreak_d           122 non-null    timedelta64[ns]\n",
      "dtypes: datetime64[ns](2), float64(16), int32(3), int64(1), timedelta64[ns](1)\n",
      "memory usage: 20.6 KB\n",
      "None\n"
     ]
    }
   ],
   "execution_count": 32
  },
  {
   "metadata": {},
   "cell_type": "markdown",
   "source": "# Getting Stock Data",
   "id": "cf467f70dac20981"
  },
  {
   "metadata": {
    "ExecuteTime": {
     "end_time": "2025-04-04T08:59:17.153891Z",
     "start_time": "2025-04-04T08:59:17.136882Z"
    }
   },
   "cell_type": "code",
   "source": [
    "# we can install and use the pandas_datafreader\n",
    "# to get data from the Internet\n",
    "tesla = pd.read_csv(\n",
    "  'tesla_stock_yahoo.csv', parse_dates=[\"Date\"]\n",
    ")\n",
    "\n",
    "print(tesla)"
   ],
   "id": "70564b0020192793",
   "outputs": [
    {
     "name": "stdout",
     "output_type": "stream",
     "text": [
      "           Date        Open        High         Low       Close   Adj Close  \\\n",
      "0    2010-06-29   19.000000   25.000000   17.540001   23.889999   23.889999   \n",
      "1    2010-06-30   25.790001   30.420000   23.299999   23.830000   23.830000   \n",
      "2    2010-07-01   25.000000   25.920000   20.270000   21.959999   21.959999   \n",
      "3    2010-07-02   23.000000   23.100000   18.709999   19.200001   19.200001   \n",
      "4    2010-07-06   20.000000   20.000000   15.830000   16.110001   16.110001   \n",
      "...         ...         ...         ...         ...         ...         ...   \n",
      "1786 2017-08-02  318.940002  327.119995  311.220001  325.890015  325.890015   \n",
      "1787 2017-08-03  345.329987  350.000000  343.149994  347.089996  347.089996   \n",
      "1788 2017-08-04  347.000000  357.269989  343.299988  356.910004  356.910004   \n",
      "1789 2017-08-07  357.350006  359.480011  352.750000  355.170013  355.170013   \n",
      "1790 2017-08-08  357.529999  368.579987  357.399994  365.220001  365.220001   \n",
      "\n",
      "        Volume  \n",
      "0     18766300  \n",
      "1     17187100  \n",
      "2      8218800  \n",
      "3      5139800  \n",
      "4      6866900  \n",
      "...        ...  \n",
      "1786  13091500  \n",
      "1787  13535000  \n",
      "1788   9198400  \n",
      "1789   6276900  \n",
      "1790   7449837  \n",
      "\n",
      "[1791 rows x 7 columns]\n"
     ]
    }
   ],
   "execution_count": 35
  },
  {
   "metadata": {},
   "cell_type": "markdown",
   "source": "# The DatetimeIndex Object",
   "id": "7233afcd667e1752"
  },
  {
   "metadata": {},
   "cell_type": "code",
   "outputs": [
    {
     "name": "stdout",
     "output_type": "stream",
     "text": [
      "        Date       Open   High        Low      Close  Adj Close    Volume\n",
      "0 2010-06-29  19.000000  25.00  17.540001  23.889999  23.889999  18766300\n",
      "1 2010-06-30  25.790001  30.42  23.299999  23.830000  23.830000  17187100\n"
     ]
    }
   ],
   "execution_count": 36,
   "source": [
    "\n",
    "print(\n",
    "  tesla.loc[\n",
    "    (tesla.Date.dt.year == 2010) & (tesla.Date.dt.month ==6)\n",
    "  ]\n",
    ")"
   ],
   "id": "e2ea1d414fe0442e"
  },
  {
   "metadata": {
    "ExecuteTime": {
     "end_time": "2025-04-04T09:00:07.827590Z",
     "start_time": "2025-04-04T09:00:07.821269Z"
    }
   },
   "cell_type": "code",
   "source": [
    "tesla.index = tesla['Date']\n",
    "print(tesla.index)"
   ],
   "id": "5e28fd462abe29be",
   "outputs": [
    {
     "name": "stdout",
     "output_type": "stream",
     "text": [
      "DatetimeIndex(['2010-06-29', '2010-06-30', '2010-07-01', '2010-07-02',\n",
      "               '2010-07-06', '2010-07-07', '2010-07-08', '2010-07-09',\n",
      "               '2010-07-12', '2010-07-13',\n",
      "               ...\n",
      "               '2017-07-26', '2017-07-27', '2017-07-28', '2017-07-31',\n",
      "               '2017-08-01', '2017-08-02', '2017-08-03', '2017-08-04',\n",
      "               '2017-08-07', '2017-08-08'],\n",
      "              dtype='datetime64[ns]', name='Date', length=1791, freq=None)\n"
     ]
    }
   ],
   "execution_count": 37
  },
  {
   "metadata": {
    "ExecuteTime": {
     "end_time": "2025-04-04T09:00:52.483640Z",
     "start_time": "2025-04-04T09:00:52.473043Z"
    }
   },
   "cell_type": "code",
   "source": "print(tesla.loc['2015'])",
   "id": "da6dfa73a51ddfc9",
   "outputs": [
    {
     "name": "stdout",
     "output_type": "stream",
     "text": [
      "                 Date        Open        High         Low       Close  \\\n",
      "Date                                                                    \n",
      "2015-01-02 2015-01-02  222.869995  223.250000  213.259995  219.309998   \n",
      "2015-01-05 2015-01-05  214.550003  216.500000  207.160004  210.089996   \n",
      "2015-01-06 2015-01-06  210.059998  214.199997  204.210007  211.279999   \n",
      "2015-01-07 2015-01-07  213.350006  214.779999  209.779999  210.949997   \n",
      "2015-01-08 2015-01-08  212.809998  213.800003  210.009995  210.619995   \n",
      "...               ...         ...         ...         ...         ...   \n",
      "2015-12-24 2015-12-24  230.559998  231.880005  228.279999  230.570007   \n",
      "2015-12-28 2015-12-28  231.490005  231.979996  225.539993  228.949997   \n",
      "2015-12-29 2015-12-29  230.059998  237.720001  229.550003  237.190002   \n",
      "2015-12-30 2015-12-30  236.600006  243.630005  235.669998  238.089996   \n",
      "2015-12-31 2015-12-31  238.509995  243.449997  238.369995  240.009995   \n",
      "\n",
      "             Adj Close   Volume  \n",
      "Date                             \n",
      "2015-01-02  219.309998  4764400  \n",
      "2015-01-05  210.089996  5368500  \n",
      "2015-01-06  211.279999  6261900  \n",
      "2015-01-07  210.949997  2968400  \n",
      "2015-01-08  210.619995  3442500  \n",
      "...                ...      ...  \n",
      "2015-12-24  230.570007   708000  \n",
      "2015-12-28  228.949997  1901300  \n",
      "2015-12-29  237.190002  2406300  \n",
      "2015-12-30  238.089996  3697900  \n",
      "2015-12-31  240.009995  2683200  \n",
      "\n",
      "[252 rows x 7 columns]\n"
     ]
    }
   ],
   "execution_count": 39
  },
  {
   "metadata": {
    "ExecuteTime": {
     "end_time": "2025-04-04T09:01:15.022774Z",
     "start_time": "2025-04-04T09:01:15.014743Z"
    }
   },
   "cell_type": "code",
   "source": "print(tesla.loc['2010-06'])",
   "id": "ca2b60b9cd5c863d",
   "outputs": [
    {
     "name": "stdout",
     "output_type": "stream",
     "text": [
      "                 Date       Open   High        Low      Close  Adj Close  \\\n",
      "Date                                                                       \n",
      "2010-06-29 2010-06-29  19.000000  25.00  17.540001  23.889999  23.889999   \n",
      "2010-06-30 2010-06-30  25.790001  30.42  23.299999  23.830000  23.830000   \n",
      "\n",
      "              Volume  \n",
      "Date                  \n",
      "2010-06-29  18766300  \n",
      "2010-06-30  17187100  \n"
     ]
    }
   ],
   "execution_count": 40
  },
  {
   "metadata": {},
   "cell_type": "markdown",
   "source": "# Date Ranges",
   "id": "4ec37d87016c9b95"
  },
  {
   "metadata": {
    "ExecuteTime": {
     "end_time": "2025-04-04T09:04:04.591417Z",
     "start_time": "2025-04-04T09:04:04.582080Z"
    }
   },
   "cell_type": "code",
   "source": [
    "ebola = pd.read_csv(\n",
    "'country_timeseries.csv', parse_dates=[\"Date\"]\n",
    ")"
   ],
   "id": "c4135e4aabd995d6",
   "outputs": [],
   "execution_count": 41
  },
  {
   "metadata": {
    "ExecuteTime": {
     "end_time": "2025-04-04T09:04:13.301229Z",
     "start_time": "2025-04-04T09:04:13.291277Z"
    }
   },
   "cell_type": "code",
   "source": "print(ebola.iloc[:, :5])",
   "id": "5ebbc2f549baa5a4",
   "outputs": [
    {
     "name": "stdout",
     "output_type": "stream",
     "text": [
      "          Date  Day  Cases_Guinea  Cases_Liberia  Cases_SierraLeone\n",
      "0   2015-01-05  289        2776.0            NaN            10030.0\n",
      "1   2015-01-04  288        2775.0            NaN             9780.0\n",
      "2   2015-01-03  287        2769.0         8166.0             9722.0\n",
      "3   2015-01-02  286           NaN         8157.0                NaN\n",
      "4   2014-12-31  284        2730.0         8115.0             9633.0\n",
      "..         ...  ...           ...            ...                ...\n",
      "117 2014-03-27    5         103.0            8.0                6.0\n",
      "118 2014-03-26    4          86.0            NaN                NaN\n",
      "119 2014-03-25    3          86.0            NaN                NaN\n",
      "120 2014-03-24    2          86.0            NaN                NaN\n",
      "121 2014-03-22    0          49.0            NaN                NaN\n",
      "\n",
      "[122 rows x 5 columns]\n"
     ]
    }
   ],
   "execution_count": 42
  },
  {
   "metadata": {
    "ExecuteTime": {
     "end_time": "2025-04-04T09:04:24.534691Z",
     "start_time": "2025-04-04T09:04:24.529446Z"
    }
   },
   "cell_type": "code",
   "source": [
    "head_range = pd.date_range(start='2014-12-31', end='2015-01-05')\n",
    "print(head_range)"
   ],
   "id": "2ffb4ff25aed44a",
   "outputs": [
    {
     "name": "stdout",
     "output_type": "stream",
     "text": [
      "DatetimeIndex(['2014-12-31', '2015-01-01', '2015-01-02', '2015-01-03',\n",
      "               '2015-01-04', '2015-01-05'],\n",
      "              dtype='datetime64[ns]', freq='D')\n"
     ]
    }
   ],
   "execution_count": 43
  },
  {
   "metadata": {
    "ExecuteTime": {
     "end_time": "2025-04-04T09:04:36.449390Z",
     "start_time": "2025-04-04T09:04:36.445198Z"
    }
   },
   "cell_type": "code",
   "source": "ebola_5 = ebola.head()",
   "id": "d5f765c2b7d0aebd",
   "outputs": [],
   "execution_count": 44
  },
  {
   "metadata": {
    "ExecuteTime": {
     "end_time": "2025-04-04T09:04:49.431988Z",
     "start_time": "2025-04-04T09:04:49.425984Z"
    }
   },
   "cell_type": "code",
   "source": "ebola_5.index = ebola_5['Date']",
   "id": "a42e5421208b0c8d",
   "outputs": [],
   "execution_count": 45
  },
  {
   "metadata": {
    "ExecuteTime": {
     "end_time": "2025-04-04T09:04:59.143715Z",
     "start_time": "2025-04-04T09:04:59.135424Z"
    }
   },
   "cell_type": "code",
   "source": [
    "ebola_5 = ebola_5.reindex(head_range)\n",
    "\n",
    "print(ebola_5.iloc[:, :5])"
   ],
   "id": "c2a9b0d4004ae747",
   "outputs": [
    {
     "name": "stdout",
     "output_type": "stream",
     "text": [
      "                 Date    Day  Cases_Guinea  Cases_Liberia  Cases_SierraLeone\n",
      "2014-12-31 2014-12-31  284.0        2730.0         8115.0             9633.0\n",
      "2015-01-01        NaT    NaN           NaN            NaN                NaN\n",
      "2015-01-02 2015-01-02  286.0           NaN         8157.0                NaN\n",
      "2015-01-03 2015-01-03  287.0        2769.0         8166.0             9722.0\n",
      "2015-01-04 2015-01-04  288.0        2775.0            NaN             9780.0\n",
      "2015-01-05 2015-01-05  289.0        2776.0            NaN            10030.0\n"
     ]
    }
   ],
   "execution_count": 46
  },
  {
   "metadata": {},
   "cell_type": "markdown",
   "source": "# Frequencies",
   "id": "b9f355bbf1b71dbd"
  },
  {
   "metadata": {},
   "cell_type": "markdown",
   "source": "![text](img_3.png)",
   "id": "72fba339408025b2"
  },
  {
   "metadata": {
    "ExecuteTime": {
     "end_time": "2025-04-04T09:07:24.196195Z",
     "start_time": "2025-04-04T09:07:24.190747Z"
    }
   },
   "cell_type": "code",
   "source": [
    "# business days during the week of Jan 1, 2022\n",
    "print(pd.date_range('2022-01-01', '2022-01-07', freq='B'))"
   ],
   "id": "6c82a97a736d24e9",
   "outputs": [
    {
     "name": "stdout",
     "output_type": "stream",
     "text": [
      "DatetimeIndex(['2022-01-03', '2022-01-04', '2022-01-05', '2022-01-06',\n",
      "               '2022-01-07'],\n",
      "              dtype='datetime64[ns]', freq='B')\n"
     ]
    }
   ],
   "execution_count": 47
  },
  {
   "metadata": {},
   "cell_type": "markdown",
   "source": "# Offsets",
   "id": "eedb55616e0c3d54"
  },
  {
   "metadata": {
    "ExecuteTime": {
     "end_time": "2025-04-04T09:08:20.337731Z",
     "start_time": "2025-04-04T09:08:20.332583Z"
    }
   },
   "cell_type": "code",
   "source": [
    "# every other business day during the week of Jan 1, 2022\n",
    "print(pd.date_range('2022-01-01', '2017-01-07', freq='2B'))"
   ],
   "id": "33c07b4656a2eedc",
   "outputs": [
    {
     "name": "stdout",
     "output_type": "stream",
     "text": [
      "DatetimeIndex([], dtype='datetime64[ns]', freq='2B')\n"
     ]
    }
   ],
   "execution_count": 48
  },
  {
   "metadata": {
    "ExecuteTime": {
     "end_time": "2025-04-04T09:08:47.242727Z",
     "start_time": "2025-04-04T09:08:47.236441Z"
    }
   },
   "cell_type": "code",
   "source": [
    "# We created this offset by putting a multiplying value before the base frequency. This kind of offset can be combined with other base frequencies as well. For example, we can specify the first Thursday of each month in the year 2022.\n",
    "\n",
    "print(pd.date_range('2022-01-01', '2022-12-31', freq='WOM-1THU'))"
   ],
   "id": "91794e25aaa49515",
   "outputs": [
    {
     "name": "stdout",
     "output_type": "stream",
     "text": [
      "DatetimeIndex(['2022-01-06', '2022-02-03', '2022-03-03', '2022-04-07',\n",
      "               '2022-05-05', '2022-06-02', '2022-07-07', '2022-08-04',\n",
      "               '2022-09-01', '2022-10-06', '2022-11-03', '2022-12-01'],\n",
      "              dtype='datetime64[ns]', freq='WOM-1THU')\n"
     ]
    }
   ],
   "execution_count": 49
  },
  {
   "metadata": {
    "ExecuteTime": {
     "end_time": "2025-04-04T09:09:18.762787Z",
     "start_time": "2025-04-04T09:09:18.756476Z"
    }
   },
   "cell_type": "code",
   "source": [
    "#We can also specify the third Friday of each month.\n",
    "\n",
    "print(pd.date_range('2022-01-01', '2022-12-31', freq='WOM-3FRI'))"
   ],
   "id": "f7d49b10a73e2d91",
   "outputs": [
    {
     "name": "stdout",
     "output_type": "stream",
     "text": [
      "DatetimeIndex(['2022-01-21', '2022-02-18', '2022-03-18', '2022-04-15',\n",
      "               '2022-05-20', '2022-06-17', '2022-07-15', '2022-08-19',\n",
      "               '2022-09-16', '2022-10-21', '2022-11-18', '2022-12-16'],\n",
      "              dtype='datetime64[ns]', freq='WOM-3FRI')\n"
     ]
    }
   ],
   "execution_count": 50
  },
  {
   "metadata": {},
   "cell_type": "markdown",
   "source": "# Resampling",
   "id": "734b5231a5c19ad8"
  },
  {
   "metadata": {},
   "cell_type": "markdown",
   "source": [
    "# Resampling converts a datetime from one frequency to another frequency. Three types of resampling can occur:\n",
    "# \n",
    "#  Downsampling: from a higher frequency to a lower frequency (e.g., daily to monthly)\n",
    "#  Upsampling: from a lower frequency to a higher frequency (e.g., monthly to daily)\n",
    "#  No change: frequency does not change (e.g., every first Thursday of the month to the last Friday of the month)"
   ],
   "id": "75cd8842c6bf23fd"
  },
  {
   "metadata": {
    "ExecuteTime": {
     "end_time": "2025-04-04T09:11:39.123781Z",
     "start_time": "2025-04-04T09:11:39.047085Z"
    }
   },
   "cell_type": "code",
   "source": [
    "# downsample daily values to monthly values\n",
    "# since we have multiple values, we need to aggregate the results \n",
    "# here we will use the mean\n",
    "down = ebola.resample('ME').mean()\n",
    "print(down.iloc[:,  :5])"
   ],
   "id": "7471eea184977345",
   "outputs": [
    {
     "ename": "TypeError",
     "evalue": "Only valid with DatetimeIndex, TimedeltaIndex or PeriodIndex, but got an instance of 'RangeIndex'",
     "output_type": "error",
     "traceback": [
      "\u001B[1;31m---------------------------------------------------------------------------\u001B[0m",
      "\u001B[1;31mTypeError\u001B[0m                                 Traceback (most recent call last)",
      "Cell \u001B[1;32mIn[52], line 4\u001B[0m\n\u001B[0;32m      1\u001B[0m \u001B[38;5;66;03m# downsample daily values to monthly values\u001B[39;00m\n\u001B[0;32m      2\u001B[0m \u001B[38;5;66;03m# since we have multiple values, we need to aggregate the results \u001B[39;00m\n\u001B[0;32m      3\u001B[0m \u001B[38;5;66;03m# here we will use the mean\u001B[39;00m\n\u001B[1;32m----> 4\u001B[0m down \u001B[38;5;241m=\u001B[39m ebola\u001B[38;5;241m.\u001B[39mresample(\u001B[38;5;124m'\u001B[39m\u001B[38;5;124mME\u001B[39m\u001B[38;5;124m'\u001B[39m)\u001B[38;5;241m.\u001B[39mmean()\n\u001B[0;32m      5\u001B[0m \u001B[38;5;28mprint\u001B[39m(down\u001B[38;5;241m.\u001B[39miloc[:,  :\u001B[38;5;241m5\u001B[39m])\n",
      "File \u001B[1;32m~\\anaconda3\\Lib\\site-packages\\pandas\\core\\generic.py:9771\u001B[0m, in \u001B[0;36mNDFrame.resample\u001B[1;34m(self, rule, axis, closed, label, convention, kind, on, level, origin, offset, group_keys)\u001B[0m\n\u001B[0;32m   9768\u001B[0m \u001B[38;5;28;01melse\u001B[39;00m:\n\u001B[0;32m   9769\u001B[0m     convention \u001B[38;5;241m=\u001B[39m \u001B[38;5;124m\"\u001B[39m\u001B[38;5;124mstart\u001B[39m\u001B[38;5;124m\"\u001B[39m\n\u001B[1;32m-> 9771\u001B[0m \u001B[38;5;28;01mreturn\u001B[39;00m get_resampler(\n\u001B[0;32m   9772\u001B[0m     cast(\u001B[38;5;124m\"\u001B[39m\u001B[38;5;124mSeries | DataFrame\u001B[39m\u001B[38;5;124m\"\u001B[39m, \u001B[38;5;28mself\u001B[39m),\n\u001B[0;32m   9773\u001B[0m     freq\u001B[38;5;241m=\u001B[39mrule,\n\u001B[0;32m   9774\u001B[0m     label\u001B[38;5;241m=\u001B[39mlabel,\n\u001B[0;32m   9775\u001B[0m     closed\u001B[38;5;241m=\u001B[39mclosed,\n\u001B[0;32m   9776\u001B[0m     axis\u001B[38;5;241m=\u001B[39maxis,\n\u001B[0;32m   9777\u001B[0m     kind\u001B[38;5;241m=\u001B[39mkind,\n\u001B[0;32m   9778\u001B[0m     convention\u001B[38;5;241m=\u001B[39mconvention,\n\u001B[0;32m   9779\u001B[0m     key\u001B[38;5;241m=\u001B[39mon,\n\u001B[0;32m   9780\u001B[0m     level\u001B[38;5;241m=\u001B[39mlevel,\n\u001B[0;32m   9781\u001B[0m     origin\u001B[38;5;241m=\u001B[39morigin,\n\u001B[0;32m   9782\u001B[0m     offset\u001B[38;5;241m=\u001B[39moffset,\n\u001B[0;32m   9783\u001B[0m     group_keys\u001B[38;5;241m=\u001B[39mgroup_keys,\n\u001B[0;32m   9784\u001B[0m )\n",
      "File \u001B[1;32m~\\anaconda3\\Lib\\site-packages\\pandas\\core\\resample.py:2050\u001B[0m, in \u001B[0;36mget_resampler\u001B[1;34m(obj, kind, **kwds)\u001B[0m\n\u001B[0;32m   2046\u001B[0m \u001B[38;5;250m\u001B[39m\u001B[38;5;124;03m\"\"\"\u001B[39;00m\n\u001B[0;32m   2047\u001B[0m \u001B[38;5;124;03mCreate a TimeGrouper and return our resampler.\u001B[39;00m\n\u001B[0;32m   2048\u001B[0m \u001B[38;5;124;03m\"\"\"\u001B[39;00m\n\u001B[0;32m   2049\u001B[0m tg \u001B[38;5;241m=\u001B[39m TimeGrouper(obj, \u001B[38;5;241m*\u001B[39m\u001B[38;5;241m*\u001B[39mkwds)  \u001B[38;5;66;03m# type: ignore[arg-type]\u001B[39;00m\n\u001B[1;32m-> 2050\u001B[0m \u001B[38;5;28;01mreturn\u001B[39;00m tg\u001B[38;5;241m.\u001B[39m_get_resampler(obj, kind\u001B[38;5;241m=\u001B[39mkind)\n",
      "File \u001B[1;32m~\\anaconda3\\Lib\\site-packages\\pandas\\core\\resample.py:2272\u001B[0m, in \u001B[0;36mTimeGrouper._get_resampler\u001B[1;34m(self, obj, kind)\u001B[0m\n\u001B[0;32m   2263\u001B[0m \u001B[38;5;28;01melif\u001B[39;00m \u001B[38;5;28misinstance\u001B[39m(ax, TimedeltaIndex):\n\u001B[0;32m   2264\u001B[0m     \u001B[38;5;28;01mreturn\u001B[39;00m TimedeltaIndexResampler(\n\u001B[0;32m   2265\u001B[0m         obj,\n\u001B[0;32m   2266\u001B[0m         timegrouper\u001B[38;5;241m=\u001B[39m\u001B[38;5;28mself\u001B[39m,\n\u001B[1;32m   (...)\u001B[0m\n\u001B[0;32m   2269\u001B[0m         gpr_index\u001B[38;5;241m=\u001B[39max,\n\u001B[0;32m   2270\u001B[0m     )\n\u001B[1;32m-> 2272\u001B[0m \u001B[38;5;28;01mraise\u001B[39;00m \u001B[38;5;167;01mTypeError\u001B[39;00m(\n\u001B[0;32m   2273\u001B[0m     \u001B[38;5;124m\"\u001B[39m\u001B[38;5;124mOnly valid with DatetimeIndex, \u001B[39m\u001B[38;5;124m\"\u001B[39m\n\u001B[0;32m   2274\u001B[0m     \u001B[38;5;124m\"\u001B[39m\u001B[38;5;124mTimedeltaIndex or PeriodIndex, \u001B[39m\u001B[38;5;124m\"\u001B[39m\n\u001B[0;32m   2275\u001B[0m     \u001B[38;5;124mf\u001B[39m\u001B[38;5;124m\"\u001B[39m\u001B[38;5;124mbut got an instance of \u001B[39m\u001B[38;5;124m'\u001B[39m\u001B[38;5;132;01m{\u001B[39;00m\u001B[38;5;28mtype\u001B[39m(ax)\u001B[38;5;241m.\u001B[39m\u001B[38;5;18m__name__\u001B[39m\u001B[38;5;132;01m}\u001B[39;00m\u001B[38;5;124m'\u001B[39m\u001B[38;5;124m\"\u001B[39m\n\u001B[0;32m   2276\u001B[0m )\n",
      "\u001B[1;31mTypeError\u001B[0m: Only valid with DatetimeIndex, TimedeltaIndex or PeriodIndex, but got an instance of 'RangeIndex'"
     ]
    }
   ],
   "execution_count": 52
  },
  {
   "metadata": {},
   "cell_type": "code",
   "outputs": [],
   "execution_count": null,
   "source": "",
   "id": "2de37ed5e2e1bbed"
  }
 ],
 "metadata": {
  "kernelspec": {
   "display_name": "Python 3",
   "language": "python",
   "name": "python3"
  },
  "language_info": {
   "codemirror_mode": {
    "name": "ipython",
    "version": 2
   },
   "file_extension": ".py",
   "mimetype": "text/x-python",
   "name": "python",
   "nbconvert_exporter": "python",
   "pygments_lexer": "ipython2",
   "version": "2.7.6"
  }
 },
 "nbformat": 4,
 "nbformat_minor": 5
}
