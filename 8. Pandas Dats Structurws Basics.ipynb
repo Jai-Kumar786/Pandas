{
 "cells": [
  {
   "cell_type": "code",
   "id": "initial_id",
   "metadata": {
    "collapsed": true,
    "ExecuteTime": {
     "end_time": "2025-04-01T16:35:25.106627Z",
     "start_time": "2025-04-01T16:35:25.098249Z"
    }
   },
   "source": [
    "import pandas as pd\n",
    "scientists = pd.read_csv('scientists.csv')"
   ],
   "outputs": [],
   "execution_count": 5
  },
  {
   "metadata": {
    "ExecuteTime": {
     "end_time": "2025-04-01T16:35:51.971659Z",
     "start_time": "2025-04-01T16:35:51.965256Z"
    }
   },
   "cell_type": "code",
   "source": [
    "ages = scientists['Age']\n",
    "print(ages)"
   ],
   "id": "c5252b5e0d4cbddc",
   "outputs": [
    {
     "name": "stdout",
     "output_type": "stream",
     "text": [
      "0     66\n",
      "1     37\n",
      "2     41\n",
      "3     86\n",
      "4     86\n",
      "      ..\n",
      "95    72\n",
      "96    58\n",
      "97    76\n",
      "98    41\n",
      "99    76\n",
      "Name: Age, Length: 100, dtype: int64\n"
     ]
    }
   ],
   "execution_count": 6
  },
  {
   "metadata": {
    "ExecuteTime": {
     "end_time": "2025-04-01T16:42:45.767293Z",
     "start_time": "2025-04-01T16:42:45.759117Z"
    }
   },
   "cell_type": "code",
   "source": "print(ages + pd.Series([1, 100]))",
   "id": "5fa6188496eb4dc8",
   "outputs": [
    {
     "name": "stdout",
     "output_type": "stream",
     "text": [
      "0      67.0\n",
      "1     137.0\n",
      "2       NaN\n",
      "3       NaN\n",
      "4       NaN\n",
      "      ...  \n",
      "95      NaN\n",
      "96      NaN\n",
      "97      NaN\n",
      "98      NaN\n",
      "99      NaN\n",
      "Length: 100, dtype: float64\n"
     ]
    }
   ],
   "execution_count": 7
  },
  {
   "metadata": {
    "ExecuteTime": {
     "end_time": "2025-04-01T16:46:18.678315Z",
     "start_time": "2025-04-01T16:46:18.669112Z"
    }
   },
   "cell_type": "code",
   "source": "scientists.index",
   "id": "942d7514752cad12",
   "outputs": [
    {
     "data": {
      "text/plain": [
       "RangeIndex(start=0, stop=100, step=1)"
      ]
     },
     "execution_count": 8,
     "metadata": {},
     "output_type": "execute_result"
    }
   ],
   "execution_count": 8
  },
  {
   "metadata": {
    "ExecuteTime": {
     "end_time": "2025-04-01T16:46:33.198737Z",
     "start_time": "2025-04-01T16:46:33.192511Z"
    }
   },
   "cell_type": "code",
   "source": "scientists.columns",
   "id": "d777883f8e2c635",
   "outputs": [
    {
     "data": {
      "text/plain": [
       "Index(['Name', 'Born', 'Died', 'Age', 'Occupation'], dtype='object')"
      ]
     },
     "execution_count": 9,
     "metadata": {},
     "output_type": "execute_result"
    }
   ],
   "execution_count": 9
  },
  {
   "metadata": {
    "ExecuteTime": {
     "end_time": "2025-04-01T16:46:42.871259Z",
     "start_time": "2025-04-01T16:46:42.861633Z"
    }
   },
   "cell_type": "code",
   "source": "scientists.values",
   "id": "66cda9f68236cb3b",
   "outputs": [
    {
     "data": {
      "text/plain": [
       "array([['Marie Curie', '1867-11-07', '1934-07-04', 66, 'Chemist'],\n",
       "       ['Rosalind Franklin', '1920-07-25', '1958-04-16', 37, 'Chemist'],\n",
       "       ['Alan Turing', '1912-06-23', '1954-06-07', 41, 'Mathematician'],\n",
       "       ['Nikola Tesla', '1856-07-10', '1943-01-07', 86, 'Engineer'],\n",
       "       ['Nikola Tesla', '1856-07-10', '1943-01-07', 86, 'Engineer'],\n",
       "       ['Albert Einstein', '1879-03-14', '1955-04-18', 76, 'Physicist'],\n",
       "       ['Marie Curie', '1867-11-07', '1934-07-04', 66, 'Chemist'],\n",
       "       ['Max Planck', '1858-04-23', '1947-10-04', 89, 'Physicist'],\n",
       "       ['Florence Nightingale', '1820-05-12', '1910-08-13', 90, 'Nurse'],\n",
       "       ['Lise Meitner', '1878-11-07', '1968-10-27', 89, 'Physicist'],\n",
       "       ['Gregor Mendel', '1822-07-20', '1884-01-06', 61, 'Geneticist'],\n",
       "       ['William Gosset', '1876-06-13', '1937-10-16', 61, 'Statistician'],\n",
       "       ['Rosalind Franklin', '1920-07-25', '1958-04-16', 37, 'Chemist'],\n",
       "       ['Florence Nightingale', '1820-05-12', '1910-08-13', 90, 'Nurse'],\n",
       "       ['Charles Darwin', '1809-02-12', '1882-04-19', 73, 'Biologist'],\n",
       "       ['Nikola Tesla', '1856-07-10', '1943-01-07', 86, 'Engineer'],\n",
       "       ['Erwin Schrödinger', '1887-08-12', '1961-01-04', 73, 'Physicist'],\n",
       "       ['Barbara McClintock', '1902-06-16', '1992-09-02', 90,\n",
       "        'Geneticist'],\n",
       "       ['Rosalind Franklin', '1920-07-25', '1958-04-16', 37, 'Chemist'],\n",
       "       ['Max Planck', '1858-04-23', '1947-10-04', 89, 'Physicist'],\n",
       "       ['Charles Darwin', '1809-02-12', '1882-04-19', 73, 'Biologist'],\n",
       "       ['Max Planck', '1858-04-23', '1947-10-04', 89, 'Physicist'],\n",
       "       ['Gregor Mendel', '1822-07-20', '1884-01-06', 61, 'Geneticist'],\n",
       "       ['Nikola Tesla', '1856-07-10', '1943-01-07', 86, 'Engineer'],\n",
       "       ['Johannes Kepler', '1571-12-27', '1630-11-15', 58, 'Astronomer'],\n",
       "       ['Lise Meitner', '1878-11-07', '1968-10-27', 89, 'Physicist'],\n",
       "       ['Alan Turing', '1912-06-23', '1954-06-07', 41, 'Mathematician'],\n",
       "       ['Rosalind Franklin', '1920-07-25', '1958-04-16', 37, 'Chemist'],\n",
       "       ['Isaac Newton', '1643-01-04', '1727-03-31', 84, 'Physicist'],\n",
       "       ['Gregor Mendel', '1822-07-20', '1884-01-06', 61, 'Geneticist'],\n",
       "       ['Michael Faraday', '1791-09-22', '1867-08-25', 75, 'Physicist'],\n",
       "       ['Alan Turing', '1912-06-23', '1954-06-07', 41, 'Mathematician'],\n",
       "       ['Albert Einstein', '1879-03-14', '1955-04-18', 76, 'Physicist'],\n",
       "       ['Charles Darwin', '1809-02-12', '1882-04-19', 73, 'Biologist'],\n",
       "       ['Michael Faraday', '1791-09-22', '1867-08-25', 75, 'Physicist'],\n",
       "       ['Marie Curie', '1867-11-07', '1934-07-04', 66, 'Chemist'],\n",
       "       ['Florence Nightingale', '1820-05-12', '1910-08-13', 90, 'Nurse'],\n",
       "       ['Dmitri Mendeleev', '1834-02-08', '1907-02-02', 72, 'Chemist'],\n",
       "       ['Marie Curie', '1867-11-07', '1934-07-04', 66, 'Chemist'],\n",
       "       ['James Clerk Maxwell', '1831-06-13', '1879-11-05', 48,\n",
       "        'Physicist'],\n",
       "       ['James Clerk Maxwell', '1831-06-13', '1879-11-05', 48,\n",
       "        'Physicist'],\n",
       "       ['Barbara McClintock', '1902-06-16', '1992-09-02', 90,\n",
       "        'Geneticist'],\n",
       "       ['Alan Turing', '1912-06-23', '1954-06-07', 41, 'Mathematician'],\n",
       "       ['William Gosset', '1876-06-13', '1937-10-16', 61, 'Statistician'],\n",
       "       ['Johannes Kepler', '1571-12-27', '1630-11-15', 58, 'Astronomer'],\n",
       "       ['Max Planck', '1858-04-23', '1947-10-04', 89, 'Physicist'],\n",
       "       ['Marie Curie', '1867-11-07', '1934-07-04', 66, 'Chemist'],\n",
       "       ['Dmitri Mendeleev', '1834-02-08', '1907-02-02', 72, 'Chemist'],\n",
       "       ['Florence Nightingale', '1820-05-12', '1910-08-13', 90, 'Nurse'],\n",
       "       ['Max Planck', '1858-04-23', '1947-10-04', 89, 'Physicist'],\n",
       "       ['Galileo Galilei', '1564-02-15', '1642-01-08', 77, 'Astronomer'],\n",
       "       ['Barbara McClintock', '1902-06-16', '1992-09-02', 90,\n",
       "        'Geneticist'],\n",
       "       ['James Clerk Maxwell', '1831-06-13', '1879-11-05', 48,\n",
       "        'Physicist'],\n",
       "       ['Lise Meitner', '1878-11-07', '1968-10-27', 89, 'Physicist'],\n",
       "       ['Charles Darwin', '1809-02-12', '1882-04-19', 73, 'Biologist'],\n",
       "       ['Florence Nightingale', '1820-05-12', '1910-08-13', 90, 'Nurse'],\n",
       "       ['William Gosset', '1876-06-13', '1937-10-16', 61, 'Statistician'],\n",
       "       ['Nikola Tesla', '1856-07-10', '1943-01-07', 86, 'Engineer'],\n",
       "       ['Galileo Galilei', '1564-02-15', '1642-01-08', 77, 'Astronomer'],\n",
       "       ['Florence Nightingale', '1820-05-12', '1910-08-13', 90, 'Nurse'],\n",
       "       ['Nikola Tesla', '1856-07-10', '1943-01-07', 86, 'Engineer'],\n",
       "       ['Marie Curie', '1867-11-07', '1934-07-04', 66, 'Chemist'],\n",
       "       ['Dmitri Mendeleev', '1834-02-08', '1907-02-02', 72, 'Chemist'],\n",
       "       ['Alan Turing', '1912-06-23', '1954-06-07', 41, 'Mathematician'],\n",
       "       ['Johannes Kepler', '1571-12-27', '1630-11-15', 58, 'Astronomer'],\n",
       "       ['James Clerk Maxwell', '1831-06-13', '1879-11-05', 48,\n",
       "        'Physicist'],\n",
       "       ['Isaac Newton', '1643-01-04', '1727-03-31', 84, 'Physicist'],\n",
       "       ['James Clerk Maxwell', '1831-06-13', '1879-11-05', 48,\n",
       "        'Physicist'],\n",
       "       ['James Clerk Maxwell', '1831-06-13', '1879-11-05', 48,\n",
       "        'Physicist'],\n",
       "       ['Charles Darwin', '1809-02-12', '1882-04-19', 73, 'Biologist'],\n",
       "       ['Alan Turing', '1912-06-23', '1954-06-07', 41, 'Mathematician'],\n",
       "       ['Florence Nightingale', '1820-05-12', '1910-08-13', 90, 'Nurse'],\n",
       "       ['Barbara McClintock', '1902-06-16', '1992-09-02', 90,\n",
       "        'Geneticist'],\n",
       "       ['Isaac Newton', '1643-01-04', '1727-03-31', 84, 'Physicist'],\n",
       "       ['Max Planck', '1858-04-23', '1947-10-04', 89, 'Physicist'],\n",
       "       ['Nikola Tesla', '1856-07-10', '1943-01-07', 86, 'Engineer'],\n",
       "       ['Isaac Newton', '1643-01-04', '1727-03-31', 84, 'Physicist'],\n",
       "       ['Johannes Kepler', '1571-12-27', '1630-11-15', 58, 'Astronomer'],\n",
       "       ['Dmitri Mendeleev', '1834-02-08', '1907-02-02', 72, 'Chemist'],\n",
       "       ['Alan Turing', '1912-06-23', '1954-06-07', 41, 'Mathematician'],\n",
       "       ['Max Planck', '1858-04-23', '1947-10-04', 89, 'Physicist'],\n",
       "       ['Nikola Tesla', '1856-07-10', '1943-01-07', 86, 'Engineer'],\n",
       "       ['Michael Faraday', '1791-09-22', '1867-08-25', 75, 'Physicist'],\n",
       "       ['William Gosset', '1876-06-13', '1937-10-16', 61, 'Statistician'],\n",
       "       ['Nikola Tesla', '1856-07-10', '1943-01-07', 86, 'Engineer'],\n",
       "       ['William Gosset', '1876-06-13', '1937-10-16', 61, 'Statistician'],\n",
       "       ['Michael Faraday', '1791-09-22', '1867-08-25', 75, 'Physicist'],\n",
       "       ['Dmitri Mendeleev', '1834-02-08', '1907-02-02', 72, 'Chemist'],\n",
       "       ['Alan Turing', '1912-06-23', '1954-06-07', 41, 'Mathematician'],\n",
       "       ['Florence Nightingale', '1820-05-12', '1910-08-13', 90, 'Nurse'],\n",
       "       ['Charles Darwin', '1809-02-12', '1882-04-19', 73, 'Biologist'],\n",
       "       ['Lise Meitner', '1878-11-07', '1968-10-27', 89, 'Physicist'],\n",
       "       ['Michael Faraday', '1791-09-22', '1867-08-25', 75, 'Physicist'],\n",
       "       ['Charles Darwin', '1809-02-12', '1882-04-19', 73, 'Biologist'],\n",
       "       ['Richard Feynman', '1918-05-11', '1988-02-15', 69, 'Physicist'],\n",
       "       ['Dmitri Mendeleev', '1834-02-08', '1907-02-02', 72, 'Chemist'],\n",
       "       ['Johannes Kepler', '1571-12-27', '1630-11-15', 58, 'Astronomer'],\n",
       "       ['Albert Einstein', '1879-03-14', '1955-04-18', 76, 'Physicist'],\n",
       "       ['Alan Turing', '1912-06-23', '1954-06-07', 41, 'Mathematician'],\n",
       "       ['Albert Einstein', '1879-03-14', '1955-04-18', 76, 'Physicist']],\n",
       "      dtype=object)"
      ]
     },
     "execution_count": 10,
     "metadata": {},
     "output_type": "execute_result"
    }
   ],
   "execution_count": 10
  },
  {
   "metadata": {
    "ExecuteTime": {
     "end_time": "2025-04-01T16:47:17.907891Z",
     "start_time": "2025-04-01T16:47:17.897938Z"
    }
   },
   "cell_type": "code",
   "source": [
    "# boolean vectors will subset rows\n",
    "print(scientists.loc[scientists['Age'] > scientists['Age'].mean()])"
   ],
   "id": "794eac38a4ae1156",
   "outputs": [
    {
     "name": "stdout",
     "output_type": "stream",
     "text": [
      "                    Name        Born        Died  Age Occupation\n",
      "3           Nikola Tesla  1856-07-10  1943-01-07   86   Engineer\n",
      "4           Nikola Tesla  1856-07-10  1943-01-07   86   Engineer\n",
      "5        Albert Einstein  1879-03-14  1955-04-18   76  Physicist\n",
      "7             Max Planck  1858-04-23  1947-10-04   89  Physicist\n",
      "8   Florence Nightingale  1820-05-12  1910-08-13   90      Nurse\n",
      "..                   ...         ...         ...  ...        ...\n",
      "92       Michael Faraday  1791-09-22  1867-08-25   75  Physicist\n",
      "93        Charles Darwin  1809-02-12  1882-04-19   73  Biologist\n",
      "95      Dmitri Mendeleev  1834-02-08  1907-02-02   72    Chemist\n",
      "97       Albert Einstein  1879-03-14  1955-04-18   76  Physicist\n",
      "99       Albert Einstein  1879-03-14  1955-04-18   76  Physicist\n",
      "\n",
      "[61 rows x 5 columns]\n"
     ]
    }
   ],
   "execution_count": 11
  },
  {
   "metadata": {
    "ExecuteTime": {
     "end_time": "2025-04-01T16:48:31.317045Z",
     "start_time": "2025-04-01T16:48:31.309051Z"
    }
   },
   "cell_type": "code",
   "source": [
    "first_half = scientists[:4]\n",
    "second_half = scientists[4:]\n",
    "print(first_half)"
   ],
   "id": "28b1d30a4507ac03",
   "outputs": [
    {
     "name": "stdout",
     "output_type": "stream",
     "text": [
      "                Name        Born        Died  Age     Occupation\n",
      "0        Marie Curie  1867-11-07  1934-07-04   66        Chemist\n",
      "1  Rosalind Franklin  1920-07-25  1958-04-16   37        Chemist\n",
      "2        Alan Turing  1912-06-23  1954-06-07   41  Mathematician\n",
      "3       Nikola Tesla  1856-07-10  1943-01-07   86       Engineer\n"
     ]
    }
   ],
   "execution_count": 12
  },
  {
   "metadata": {
    "ExecuteTime": {
     "end_time": "2025-04-01T16:48:42.432337Z",
     "start_time": "2025-04-01T16:48:42.424911Z"
    }
   },
   "cell_type": "code",
   "source": "print(second_half)",
   "id": "7dc7db7a8f9ca2fb",
   "outputs": [
    {
     "name": "stdout",
     "output_type": "stream",
     "text": [
      "                    Name        Born        Died  Age     Occupation\n",
      "4           Nikola Tesla  1856-07-10  1943-01-07   86       Engineer\n",
      "5        Albert Einstein  1879-03-14  1955-04-18   76      Physicist\n",
      "6            Marie Curie  1867-11-07  1934-07-04   66        Chemist\n",
      "7             Max Planck  1858-04-23  1947-10-04   89      Physicist\n",
      "8   Florence Nightingale  1820-05-12  1910-08-13   90          Nurse\n",
      "..                   ...         ...         ...  ...            ...\n",
      "95      Dmitri Mendeleev  1834-02-08  1907-02-02   72        Chemist\n",
      "96       Johannes Kepler  1571-12-27  1630-11-15   58     Astronomer\n",
      "97       Albert Einstein  1879-03-14  1955-04-18   76      Physicist\n",
      "98           Alan Turing  1912-06-23  1954-06-07   41  Mathematician\n",
      "99       Albert Einstein  1879-03-14  1955-04-18   76      Physicist\n",
      "\n",
      "[96 rows x 5 columns]\n"
     ]
    }
   ],
   "execution_count": 13
  },
  {
   "metadata": {
    "ExecuteTime": {
     "end_time": "2025-04-01T16:49:11.878539Z",
     "start_time": "2025-04-01T16:49:11.870407Z"
    }
   },
   "cell_type": "code",
   "source": [
    "# multiply by a scalar\n",
    "print(scientists * 2)"
   ],
   "id": "426f8fdede9a8966",
   "outputs": [
    {
     "name": "stdout",
     "output_type": "stream",
     "text": [
      "                                  Name                  Born  \\\n",
      "0               Marie CurieMarie Curie  1867-11-071867-11-07   \n",
      "1   Rosalind FranklinRosalind Franklin  1920-07-251920-07-25   \n",
      "2               Alan TuringAlan Turing  1912-06-231912-06-23   \n",
      "3             Nikola TeslaNikola Tesla  1856-07-101856-07-10   \n",
      "4             Nikola TeslaNikola Tesla  1856-07-101856-07-10   \n",
      "..                                 ...                   ...   \n",
      "95    Dmitri MendeleevDmitri Mendeleev  1834-02-081834-02-08   \n",
      "96      Johannes KeplerJohannes Kepler  1571-12-271571-12-27   \n",
      "97      Albert EinsteinAlbert Einstein  1879-03-141879-03-14   \n",
      "98              Alan TuringAlan Turing  1912-06-231912-06-23   \n",
      "99      Albert EinsteinAlbert Einstein  1879-03-141879-03-14   \n",
      "\n",
      "                    Died  Age                  Occupation  \n",
      "0   1934-07-041934-07-04  132              ChemistChemist  \n",
      "1   1958-04-161958-04-16   74              ChemistChemist  \n",
      "2   1954-06-071954-06-07   82  MathematicianMathematician  \n",
      "3   1943-01-071943-01-07  172            EngineerEngineer  \n",
      "4   1943-01-071943-01-07  172            EngineerEngineer  \n",
      "..                   ...  ...                         ...  \n",
      "95  1907-02-021907-02-02  144              ChemistChemist  \n",
      "96  1630-11-151630-11-15  116        AstronomerAstronomer  \n",
      "97  1955-04-181955-04-18  152          PhysicistPhysicist  \n",
      "98  1954-06-071954-06-07   82  MathematicianMathematician  \n",
      "99  1955-04-181955-04-18  152          PhysicistPhysicist  \n",
      "\n",
      "[100 rows x 5 columns]\n"
     ]
    }
   ],
   "execution_count": 14
  },
  {
   "metadata": {
    "ExecuteTime": {
     "end_time": "2025-04-01T16:49:38.215652Z",
     "start_time": "2025-04-01T16:49:38.209259Z"
    }
   },
   "cell_type": "code",
   "source": "print(scientists.dtypes)",
   "id": "e0fa7db7498cafda",
   "outputs": [
    {
     "name": "stdout",
     "output_type": "stream",
     "text": [
      "Name          object\n",
      "Born          object\n",
      "Died          object\n",
      "Age            int64\n",
      "Occupation    object\n",
      "dtype: object\n"
     ]
    }
   ],
   "execution_count": 15
  },
  {
   "metadata": {
    "ExecuteTime": {
     "end_time": "2025-04-01T17:00:33.279814Z",
     "start_time": "2025-04-01T17:00:33.272806Z"
    }
   },
   "cell_type": "code",
   "source": [
    "# format the 'Born' column as a datetime\n",
    "born_datetime = pd.to_datetime(scientists['Born'], format='%Y-%m-%d', errors='coerce')\n",
    "born_datetime\n"
   ],
   "id": "44dd66a5e1e6d31c",
   "outputs": [
    {
     "data": {
      "text/plain": [
       "0    1867-11-07\n",
       "1    1920-07-25\n",
       "2    1912-06-23\n",
       "3    1856-07-10\n",
       "4    1856-07-10\n",
       "        ...    \n",
       "95   1834-02-08\n",
       "96          NaT\n",
       "97   1879-03-14\n",
       "98   1912-06-23\n",
       "99   1879-03-14\n",
       "Name: Born, Length: 100, dtype: datetime64[ns]"
      ]
     },
     "execution_count": 28,
     "metadata": {},
     "output_type": "execute_result"
    }
   ],
   "execution_count": 28
  },
  {
   "metadata": {
    "ExecuteTime": {
     "end_time": "2025-04-01T17:03:46.977436Z",
     "start_time": "2025-04-01T17:03:46.966410Z"
    }
   },
   "cell_type": "code",
   "source": [
    "# format the 'Died' column as a datetime\n",
    "died_datetime = pd.to_datetime(scientists['Died'], format ='%Y-%m-%d',errors='coerce')\n",
    "died_datetime"
   ],
   "id": "2e05606c7dcf3ba2",
   "outputs": [
    {
     "data": {
      "text/plain": [
       "0    1934-07-04\n",
       "1    1958-04-16\n",
       "2    1954-06-07\n",
       "3    1943-01-07\n",
       "4    1943-01-07\n",
       "        ...    \n",
       "95   1907-02-02\n",
       "96          NaT\n",
       "97   1955-04-18\n",
       "98   1954-06-07\n",
       "99   1955-04-18\n",
       "Name: Died, Length: 100, dtype: datetime64[ns]"
      ]
     },
     "execution_count": 36,
     "metadata": {},
     "output_type": "execute_result"
    }
   ],
   "execution_count": 36
  },
  {
   "metadata": {
    "ExecuteTime": {
     "end_time": "2025-04-01T17:04:22.059094Z",
     "start_time": "2025-04-01T17:04:22.050626Z"
    }
   },
   "cell_type": "code",
   "source": [
    "scientists['born_dt'], scientists['died_dt'] = (\n",
    "  born_datetime,\n",
    "  died_datetime\n",
    ")\n",
    "\n",
    "print(scientists.head())"
   ],
   "id": "f6139c021e0a4a0a",
   "outputs": [
    {
     "name": "stdout",
     "output_type": "stream",
     "text": [
      "                Name        Born        Died  Age     Occupation    born_dt  \\\n",
      "0        Marie Curie  1867-11-07  1934-07-04   66        Chemist 1867-11-07   \n",
      "1  Rosalind Franklin  1920-07-25  1958-04-16   37        Chemist 1920-07-25   \n",
      "2        Alan Turing  1912-06-23  1954-06-07   41  Mathematician 1912-06-23   \n",
      "3       Nikola Tesla  1856-07-10  1943-01-07   86       Engineer 1856-07-10   \n",
      "4       Nikola Tesla  1856-07-10  1943-01-07   86       Engineer 1856-07-10   \n",
      "\n",
      "     died_dt  \n",
      "0 1934-07-04  \n",
      "1 1958-04-16  \n",
      "2 1954-06-07  \n",
      "3 1943-01-07  \n",
      "4 1943-01-07  \n"
     ]
    }
   ],
   "execution_count": 37
  },
  {
   "metadata": {
    "ExecuteTime": {
     "end_time": "2025-04-01T17:04:53.747681Z",
     "start_time": "2025-04-01T17:04:53.741918Z"
    }
   },
   "cell_type": "code",
   "source": "print(scientists.shape)",
   "id": "4d5020f59e23f6f4",
   "outputs": [
    {
     "name": "stdout",
     "output_type": "stream",
     "text": [
      "(100, 7)\n"
     ]
    }
   ],
   "execution_count": 38
  },
  {
   "metadata": {
    "ExecuteTime": {
     "end_time": "2025-04-01T17:05:03.116994Z",
     "start_time": "2025-04-01T17:05:03.111608Z"
    }
   },
   "cell_type": "code",
   "source": "print(scientists.dtypes)",
   "id": "81069b2e259a7c95",
   "outputs": [
    {
     "name": "stdout",
     "output_type": "stream",
     "text": [
      "Name                  object\n",
      "Born                  object\n",
      "Died                  object\n",
      "Age                    int64\n",
      "Occupation            object\n",
      "born_dt       datetime64[ns]\n",
      "died_dt       datetime64[ns]\n",
      "dtype: object\n"
     ]
    }
   ],
   "execution_count": 39
  },
  {
   "metadata": {
    "ExecuteTime": {
     "end_time": "2025-04-01T17:05:23.427977Z",
     "start_time": "2025-04-01T17:05:23.422752Z"
    }
   },
   "cell_type": "code",
   "source": "print(scientists['Age'])",
   "id": "28241ce18d1a943",
   "outputs": [
    {
     "name": "stdout",
     "output_type": "stream",
     "text": [
      "0     66\n",
      "1     37\n",
      "2     41\n",
      "3     86\n",
      "4     86\n",
      "      ..\n",
      "95    72\n",
      "96    58\n",
      "97    76\n",
      "98    41\n",
      "99    76\n",
      "Name: Age, Length: 100, dtype: int64\n"
     ]
    }
   ],
   "execution_count": 40
  },
  {
   "metadata": {
    "ExecuteTime": {
     "end_time": "2025-04-01T17:05:47.820572Z",
     "start_time": "2025-04-01T17:05:47.813484Z"
    }
   },
   "cell_type": "code",
   "source": [
    "# the frac=1 tells pandas to randomly select 100% of the values\n",
    "# the random_state makes the randomization the same each time\n",
    "scientists[\"Age\"] = scientists[\"Age\"].sample(frac =1, random_state =42)"
   ],
   "id": "99bf13367c23e94a",
   "outputs": [],
   "execution_count": 41
  },
  {
   "metadata": {
    "ExecuteTime": {
     "end_time": "2025-04-01T17:06:14.052575Z",
     "start_time": "2025-04-01T17:06:14.044912Z"
    }
   },
   "cell_type": "code",
   "source": [
    "# the previous line of code is equivalent to\n",
    "scientists['Age'] = (\n",
    "  scientists['Age']\n",
    "  .sample(frac=1, random_state =42)\n",
    ")\n",
    "print(scientists['Age'])"
   ],
   "id": "978d330f05dd7c35",
   "outputs": [
    {
     "name": "stdout",
     "output_type": "stream",
     "text": [
      "0     66\n",
      "1     37\n",
      "2     41\n",
      "3     86\n",
      "4     86\n",
      "      ..\n",
      "95    72\n",
      "96    58\n",
      "97    76\n",
      "98    41\n",
      "99    76\n",
      "Name: Age, Length: 100, dtype: int64\n"
     ]
    }
   ],
   "execution_count": 42
  },
  {
   "metadata": {
    "ExecuteTime": {
     "end_time": "2025-04-01T17:07:41.372187Z",
     "start_time": "2025-04-01T17:07:41.358369Z"
    }
   },
   "cell_type": "code",
   "source": [
    "# subtracting dates will give us number of days\n",
    "scientists['age_days'] = (\n",
    "  scientists['died_dt'] - scientists['born_dt']\n",
    ")\n",
    "\n",
    "scientists"
   ],
   "id": "ce063a217e781f84",
   "outputs": [
    {
     "data": {
      "text/plain": [
       "                 Name        Born        Died  Age     Occupation    born_dt  \\\n",
       "0         Marie Curie  1867-11-07  1934-07-04   66        Chemist 1867-11-07   \n",
       "1   Rosalind Franklin  1920-07-25  1958-04-16   37        Chemist 1920-07-25   \n",
       "2         Alan Turing  1912-06-23  1954-06-07   41  Mathematician 1912-06-23   \n",
       "3        Nikola Tesla  1856-07-10  1943-01-07   86       Engineer 1856-07-10   \n",
       "4        Nikola Tesla  1856-07-10  1943-01-07   86       Engineer 1856-07-10   \n",
       "..                ...         ...         ...  ...            ...        ...   \n",
       "95   Dmitri Mendeleev  1834-02-08  1907-02-02   72        Chemist 1834-02-08   \n",
       "96    Johannes Kepler  1571-12-27  1630-11-15   58     Astronomer        NaT   \n",
       "97    Albert Einstein  1879-03-14  1955-04-18   76      Physicist 1879-03-14   \n",
       "98        Alan Turing  1912-06-23  1954-06-07   41  Mathematician 1912-06-23   \n",
       "99    Albert Einstein  1879-03-14  1955-04-18   76      Physicist 1879-03-14   \n",
       "\n",
       "      died_dt   age_days  \n",
       "0  1934-07-04 24345 days  \n",
       "1  1958-04-16 13779 days  \n",
       "2  1954-06-07 15324 days  \n",
       "3  1943-01-07 31591 days  \n",
       "4  1943-01-07 31591 days  \n",
       "..        ...        ...  \n",
       "95 1907-02-02 26656 days  \n",
       "96        NaT        NaT  \n",
       "97 1955-04-18 27793 days  \n",
       "98 1954-06-07 15324 days  \n",
       "99 1955-04-18 27793 days  \n",
       "\n",
       "[100 rows x 8 columns]"
      ],
      "text/html": [
       "<div>\n",
       "<style scoped>\n",
       "    .dataframe tbody tr th:only-of-type {\n",
       "        vertical-align: middle;\n",
       "    }\n",
       "\n",
       "    .dataframe tbody tr th {\n",
       "        vertical-align: top;\n",
       "    }\n",
       "\n",
       "    .dataframe thead th {\n",
       "        text-align: right;\n",
       "    }\n",
       "</style>\n",
       "<table border=\"1\" class=\"dataframe\">\n",
       "  <thead>\n",
       "    <tr style=\"text-align: right;\">\n",
       "      <th></th>\n",
       "      <th>Name</th>\n",
       "      <th>Born</th>\n",
       "      <th>Died</th>\n",
       "      <th>Age</th>\n",
       "      <th>Occupation</th>\n",
       "      <th>born_dt</th>\n",
       "      <th>died_dt</th>\n",
       "      <th>age_days</th>\n",
       "    </tr>\n",
       "  </thead>\n",
       "  <tbody>\n",
       "    <tr>\n",
       "      <th>0</th>\n",
       "      <td>Marie Curie</td>\n",
       "      <td>1867-11-07</td>\n",
       "      <td>1934-07-04</td>\n",
       "      <td>66</td>\n",
       "      <td>Chemist</td>\n",
       "      <td>1867-11-07</td>\n",
       "      <td>1934-07-04</td>\n",
       "      <td>24345 days</td>\n",
       "    </tr>\n",
       "    <tr>\n",
       "      <th>1</th>\n",
       "      <td>Rosalind Franklin</td>\n",
       "      <td>1920-07-25</td>\n",
       "      <td>1958-04-16</td>\n",
       "      <td>37</td>\n",
       "      <td>Chemist</td>\n",
       "      <td>1920-07-25</td>\n",
       "      <td>1958-04-16</td>\n",
       "      <td>13779 days</td>\n",
       "    </tr>\n",
       "    <tr>\n",
       "      <th>2</th>\n",
       "      <td>Alan Turing</td>\n",
       "      <td>1912-06-23</td>\n",
       "      <td>1954-06-07</td>\n",
       "      <td>41</td>\n",
       "      <td>Mathematician</td>\n",
       "      <td>1912-06-23</td>\n",
       "      <td>1954-06-07</td>\n",
       "      <td>15324 days</td>\n",
       "    </tr>\n",
       "    <tr>\n",
       "      <th>3</th>\n",
       "      <td>Nikola Tesla</td>\n",
       "      <td>1856-07-10</td>\n",
       "      <td>1943-01-07</td>\n",
       "      <td>86</td>\n",
       "      <td>Engineer</td>\n",
       "      <td>1856-07-10</td>\n",
       "      <td>1943-01-07</td>\n",
       "      <td>31591 days</td>\n",
       "    </tr>\n",
       "    <tr>\n",
       "      <th>4</th>\n",
       "      <td>Nikola Tesla</td>\n",
       "      <td>1856-07-10</td>\n",
       "      <td>1943-01-07</td>\n",
       "      <td>86</td>\n",
       "      <td>Engineer</td>\n",
       "      <td>1856-07-10</td>\n",
       "      <td>1943-01-07</td>\n",
       "      <td>31591 days</td>\n",
       "    </tr>\n",
       "    <tr>\n",
       "      <th>...</th>\n",
       "      <td>...</td>\n",
       "      <td>...</td>\n",
       "      <td>...</td>\n",
       "      <td>...</td>\n",
       "      <td>...</td>\n",
       "      <td>...</td>\n",
       "      <td>...</td>\n",
       "      <td>...</td>\n",
       "    </tr>\n",
       "    <tr>\n",
       "      <th>95</th>\n",
       "      <td>Dmitri Mendeleev</td>\n",
       "      <td>1834-02-08</td>\n",
       "      <td>1907-02-02</td>\n",
       "      <td>72</td>\n",
       "      <td>Chemist</td>\n",
       "      <td>1834-02-08</td>\n",
       "      <td>1907-02-02</td>\n",
       "      <td>26656 days</td>\n",
       "    </tr>\n",
       "    <tr>\n",
       "      <th>96</th>\n",
       "      <td>Johannes Kepler</td>\n",
       "      <td>1571-12-27</td>\n",
       "      <td>1630-11-15</td>\n",
       "      <td>58</td>\n",
       "      <td>Astronomer</td>\n",
       "      <td>NaT</td>\n",
       "      <td>NaT</td>\n",
       "      <td>NaT</td>\n",
       "    </tr>\n",
       "    <tr>\n",
       "      <th>97</th>\n",
       "      <td>Albert Einstein</td>\n",
       "      <td>1879-03-14</td>\n",
       "      <td>1955-04-18</td>\n",
       "      <td>76</td>\n",
       "      <td>Physicist</td>\n",
       "      <td>1879-03-14</td>\n",
       "      <td>1955-04-18</td>\n",
       "      <td>27793 days</td>\n",
       "    </tr>\n",
       "    <tr>\n",
       "      <th>98</th>\n",
       "      <td>Alan Turing</td>\n",
       "      <td>1912-06-23</td>\n",
       "      <td>1954-06-07</td>\n",
       "      <td>41</td>\n",
       "      <td>Mathematician</td>\n",
       "      <td>1912-06-23</td>\n",
       "      <td>1954-06-07</td>\n",
       "      <td>15324 days</td>\n",
       "    </tr>\n",
       "    <tr>\n",
       "      <th>99</th>\n",
       "      <td>Albert Einstein</td>\n",
       "      <td>1879-03-14</td>\n",
       "      <td>1955-04-18</td>\n",
       "      <td>76</td>\n",
       "      <td>Physicist</td>\n",
       "      <td>1879-03-14</td>\n",
       "      <td>1955-04-18</td>\n",
       "      <td>27793 days</td>\n",
       "    </tr>\n",
       "  </tbody>\n",
       "</table>\n",
       "<p>100 rows × 8 columns</p>\n",
       "</div>"
      ]
     },
     "execution_count": 44,
     "metadata": {},
     "output_type": "execute_result"
    }
   ],
   "execution_count": 44
  },
  {
   "metadata": {
    "ExecuteTime": {
     "end_time": "2025-04-01T17:14:39.527521Z",
     "start_time": "2025-04-01T17:14:39.510882Z"
    }
   },
   "cell_type": "code",
   "source": [
    "# we can convert the value to just the year\n",
    "# using the astype method\n",
    "scientists['age_years'] = (\n",
    "    scientists['age_days'] / pd.Timedelta(days=365.25)\n",
    ").round().astype('Int64')  # Nullable integer type\n",
    "\n",
    "\n",
    "scientists"
   ],
   "id": "125ce073ca951e35",
   "outputs": [
    {
     "data": {
      "text/plain": [
       "                 Name        Born        Died  Age     Occupation    born_dt  \\\n",
       "0         Marie Curie  1867-11-07  1934-07-04   66        Chemist 1867-11-07   \n",
       "1   Rosalind Franklin  1920-07-25  1958-04-16   37        Chemist 1920-07-25   \n",
       "2         Alan Turing  1912-06-23  1954-06-07   41  Mathematician 1912-06-23   \n",
       "3        Nikola Tesla  1856-07-10  1943-01-07   86       Engineer 1856-07-10   \n",
       "4        Nikola Tesla  1856-07-10  1943-01-07   86       Engineer 1856-07-10   \n",
       "..                ...         ...         ...  ...            ...        ...   \n",
       "95   Dmitri Mendeleev  1834-02-08  1907-02-02   72        Chemist 1834-02-08   \n",
       "96    Johannes Kepler  1571-12-27  1630-11-15   58     Astronomer        NaT   \n",
       "97    Albert Einstein  1879-03-14  1955-04-18   76      Physicist 1879-03-14   \n",
       "98        Alan Turing  1912-06-23  1954-06-07   41  Mathematician 1912-06-23   \n",
       "99    Albert Einstein  1879-03-14  1955-04-18   76      Physicist 1879-03-14   \n",
       "\n",
       "      died_dt   age_days  age_years  \n",
       "0  1934-07-04 24345 days         67  \n",
       "1  1958-04-16 13779 days         38  \n",
       "2  1954-06-07 15324 days         42  \n",
       "3  1943-01-07 31591 days         86  \n",
       "4  1943-01-07 31591 days         86  \n",
       "..        ...        ...        ...  \n",
       "95 1907-02-02 26656 days         73  \n",
       "96        NaT        NaT       <NA>  \n",
       "97 1955-04-18 27793 days         76  \n",
       "98 1954-06-07 15324 days         42  \n",
       "99 1955-04-18 27793 days         76  \n",
       "\n",
       "[100 rows x 9 columns]"
      ],
      "text/html": [
       "<div>\n",
       "<style scoped>\n",
       "    .dataframe tbody tr th:only-of-type {\n",
       "        vertical-align: middle;\n",
       "    }\n",
       "\n",
       "    .dataframe tbody tr th {\n",
       "        vertical-align: top;\n",
       "    }\n",
       "\n",
       "    .dataframe thead th {\n",
       "        text-align: right;\n",
       "    }\n",
       "</style>\n",
       "<table border=\"1\" class=\"dataframe\">\n",
       "  <thead>\n",
       "    <tr style=\"text-align: right;\">\n",
       "      <th></th>\n",
       "      <th>Name</th>\n",
       "      <th>Born</th>\n",
       "      <th>Died</th>\n",
       "      <th>Age</th>\n",
       "      <th>Occupation</th>\n",
       "      <th>born_dt</th>\n",
       "      <th>died_dt</th>\n",
       "      <th>age_days</th>\n",
       "      <th>age_years</th>\n",
       "    </tr>\n",
       "  </thead>\n",
       "  <tbody>\n",
       "    <tr>\n",
       "      <th>0</th>\n",
       "      <td>Marie Curie</td>\n",
       "      <td>1867-11-07</td>\n",
       "      <td>1934-07-04</td>\n",
       "      <td>66</td>\n",
       "      <td>Chemist</td>\n",
       "      <td>1867-11-07</td>\n",
       "      <td>1934-07-04</td>\n",
       "      <td>24345 days</td>\n",
       "      <td>67</td>\n",
       "    </tr>\n",
       "    <tr>\n",
       "      <th>1</th>\n",
       "      <td>Rosalind Franklin</td>\n",
       "      <td>1920-07-25</td>\n",
       "      <td>1958-04-16</td>\n",
       "      <td>37</td>\n",
       "      <td>Chemist</td>\n",
       "      <td>1920-07-25</td>\n",
       "      <td>1958-04-16</td>\n",
       "      <td>13779 days</td>\n",
       "      <td>38</td>\n",
       "    </tr>\n",
       "    <tr>\n",
       "      <th>2</th>\n",
       "      <td>Alan Turing</td>\n",
       "      <td>1912-06-23</td>\n",
       "      <td>1954-06-07</td>\n",
       "      <td>41</td>\n",
       "      <td>Mathematician</td>\n",
       "      <td>1912-06-23</td>\n",
       "      <td>1954-06-07</td>\n",
       "      <td>15324 days</td>\n",
       "      <td>42</td>\n",
       "    </tr>\n",
       "    <tr>\n",
       "      <th>3</th>\n",
       "      <td>Nikola Tesla</td>\n",
       "      <td>1856-07-10</td>\n",
       "      <td>1943-01-07</td>\n",
       "      <td>86</td>\n",
       "      <td>Engineer</td>\n",
       "      <td>1856-07-10</td>\n",
       "      <td>1943-01-07</td>\n",
       "      <td>31591 days</td>\n",
       "      <td>86</td>\n",
       "    </tr>\n",
       "    <tr>\n",
       "      <th>4</th>\n",
       "      <td>Nikola Tesla</td>\n",
       "      <td>1856-07-10</td>\n",
       "      <td>1943-01-07</td>\n",
       "      <td>86</td>\n",
       "      <td>Engineer</td>\n",
       "      <td>1856-07-10</td>\n",
       "      <td>1943-01-07</td>\n",
       "      <td>31591 days</td>\n",
       "      <td>86</td>\n",
       "    </tr>\n",
       "    <tr>\n",
       "      <th>...</th>\n",
       "      <td>...</td>\n",
       "      <td>...</td>\n",
       "      <td>...</td>\n",
       "      <td>...</td>\n",
       "      <td>...</td>\n",
       "      <td>...</td>\n",
       "      <td>...</td>\n",
       "      <td>...</td>\n",
       "      <td>...</td>\n",
       "    </tr>\n",
       "    <tr>\n",
       "      <th>95</th>\n",
       "      <td>Dmitri Mendeleev</td>\n",
       "      <td>1834-02-08</td>\n",
       "      <td>1907-02-02</td>\n",
       "      <td>72</td>\n",
       "      <td>Chemist</td>\n",
       "      <td>1834-02-08</td>\n",
       "      <td>1907-02-02</td>\n",
       "      <td>26656 days</td>\n",
       "      <td>73</td>\n",
       "    </tr>\n",
       "    <tr>\n",
       "      <th>96</th>\n",
       "      <td>Johannes Kepler</td>\n",
       "      <td>1571-12-27</td>\n",
       "      <td>1630-11-15</td>\n",
       "      <td>58</td>\n",
       "      <td>Astronomer</td>\n",
       "      <td>NaT</td>\n",
       "      <td>NaT</td>\n",
       "      <td>NaT</td>\n",
       "      <td>&lt;NA&gt;</td>\n",
       "    </tr>\n",
       "    <tr>\n",
       "      <th>97</th>\n",
       "      <td>Albert Einstein</td>\n",
       "      <td>1879-03-14</td>\n",
       "      <td>1955-04-18</td>\n",
       "      <td>76</td>\n",
       "      <td>Physicist</td>\n",
       "      <td>1879-03-14</td>\n",
       "      <td>1955-04-18</td>\n",
       "      <td>27793 days</td>\n",
       "      <td>76</td>\n",
       "    </tr>\n",
       "    <tr>\n",
       "      <th>98</th>\n",
       "      <td>Alan Turing</td>\n",
       "      <td>1912-06-23</td>\n",
       "      <td>1954-06-07</td>\n",
       "      <td>41</td>\n",
       "      <td>Mathematician</td>\n",
       "      <td>1912-06-23</td>\n",
       "      <td>1954-06-07</td>\n",
       "      <td>15324 days</td>\n",
       "      <td>42</td>\n",
       "    </tr>\n",
       "    <tr>\n",
       "      <th>99</th>\n",
       "      <td>Albert Einstein</td>\n",
       "      <td>1879-03-14</td>\n",
       "      <td>1955-04-18</td>\n",
       "      <td>76</td>\n",
       "      <td>Physicist</td>\n",
       "      <td>1879-03-14</td>\n",
       "      <td>1955-04-18</td>\n",
       "      <td>27793 days</td>\n",
       "      <td>76</td>\n",
       "    </tr>\n",
       "  </tbody>\n",
       "</table>\n",
       "<p>100 rows × 9 columns</p>\n",
       "</div>"
      ]
     },
     "execution_count": 48,
     "metadata": {},
     "output_type": "execute_result"
    }
   ],
   "execution_count": 48
  },
  {
   "metadata": {},
   "cell_type": "code",
   "outputs": [],
   "execution_count": null,
   "source": [
    "scientists = scientists.assign(\n",
    "  # new columns on the left of the equal sign\n",
    "  # how to calculate values on the right of the equal sign\n",
    "  # separate new columns with a comma\n",
    "  age_days_assign=scientists['died_dt'] - scientists['born_dt'],\n",
    "  age_year_assign=scientists['age_days'].astype('timedelta64[Y]')\n",
    ")"
   ],
   "id": "9a88a455644bb659"
  },
  {
   "metadata": {
    "ExecuteTime": {
     "end_time": "2025-04-01T17:42:20.550688Z",
     "start_time": "2025-04-01T17:42:20.543453Z"
    }
   },
   "cell_type": "code",
   "source": [
    "# drop the shuffled age column\n",
    "# you provide the axis=1 argument to drop column-wise\n",
    "scientists_dropped = scientists.drop(['Age'], axis =\"columns\")\n",
    "# columns after dropping our column\n",
    "print(scientists_dropped.columns)"
   ],
   "id": "c935be2f196e9f5b",
   "outputs": [
    {
     "name": "stdout",
     "output_type": "stream",
     "text": [
      "Index(['Name', 'Born', 'Died', 'Occupation', 'born_dt', 'died_dt', 'age_days',\n",
      "       'age_years'],\n",
      "      dtype='object')\n"
     ]
    }
   ],
   "execution_count": 49
  },
  {
   "metadata": {},
   "cell_type": "code",
   "outputs": [],
   "execution_count": null,
   "source": "",
   "id": "511f18686b33bee4"
  }
 ],
 "metadata": {
  "kernelspec": {
   "display_name": "Python 3",
   "language": "python",
   "name": "python3"
  },
  "language_info": {
   "codemirror_mode": {
    "name": "ipython",
    "version": 2
   },
   "file_extension": ".py",
   "mimetype": "text/x-python",
   "name": "python",
   "nbconvert_exporter": "python",
   "pygments_lexer": "ipython2",
   "version": "2.7.6"
  }
 },
 "nbformat": 4,
 "nbformat_minor": 5
}
